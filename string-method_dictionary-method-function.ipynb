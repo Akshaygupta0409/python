{
  "cells": [
    {
      "cell_type": "code",
      "execution_count": null,
      "id": "21e93ff6-f117-4822-a6d4-9eb6bd347860",
      "metadata": {
        "id": "21e93ff6-f117-4822-a6d4-9eb6bd347860"
      },
      "outputs": [],
      "source": [
        "mystring=\"akshay\""
      ]
    },
    {
      "cell_type": "code",
      "source": [
        "type(mystring)"
      ],
      "metadata": {
        "colab": {
          "base_uri": "https://localhost:8080/"
        },
        "id": "R_TaNpSkixr4",
        "outputId": "6591ac98-48e4-45f6-e189-c6e2ead13f70"
      },
      "id": "R_TaNpSkixr4",
      "execution_count": null,
      "outputs": [
        {
          "output_type": "execute_result",
          "data": {
            "text/plain": [
              "str"
            ]
          },
          "metadata": {},
          "execution_count": 6
        }
      ]
    },
    {
      "cell_type": "code",
      "execution_count": null,
      "id": "ae523279-c073-406c-ad3a-021db611c36d",
      "metadata": {
        "id": "ae523279-c073-406c-ad3a-021db611c36d"
      },
      "outputs": [],
      "source": [
        "mychar=\"A\""
      ]
    },
    {
      "cell_type": "code",
      "execution_count": null,
      "id": "77bc92bc-c20e-4387-9748-57d90456dcfb",
      "metadata": {
        "id": "77bc92bc-c20e-4387-9748-57d90456dcfb",
        "outputId": "7fe03d48-bc78-4c97-86ed-ce6ba22bb9c8",
        "colab": {
          "base_uri": "https://localhost:8080/"
        }
      },
      "outputs": [
        {
          "output_type": "execute_result",
          "data": {
            "text/plain": [
              "str"
            ]
          },
          "metadata": {},
          "execution_count": 3
        }
      ],
      "source": [
        "type(mychar)"
      ]
    },
    {
      "cell_type": "code",
      "execution_count": null,
      "id": "0393138b-f0ef-4dda-840c-68cc0e3e97ab",
      "metadata": {
        "id": "0393138b-f0ef-4dda-840c-68cc0e3e97ab",
        "outputId": "72d979ae-4164-40a1-d466-8ffc324b3a9f",
        "colab": {
          "base_uri": "https://localhost:8080/"
        }
      },
      "outputs": [
        {
          "output_type": "stream",
          "name": "stdout",
          "text": [
            "akshay\n"
          ]
        }
      ],
      "source": [
        "print(mystring)"
      ]
    },
    {
      "cell_type": "code",
      "execution_count": null,
      "id": "46cd639a-4076-4a08-99f1-e33d0be1781e",
      "metadata": {
        "id": "46cd639a-4076-4a08-99f1-e33d0be1781e",
        "outputId": "3ac19ba8-62dc-4b7f-bef9-cb4c88e38a1b",
        "colab": {
          "base_uri": "https://localhost:8080/",
          "height": 35
        }
      },
      "outputs": [
        {
          "output_type": "execute_result",
          "data": {
            "text/plain": [
              "'akshay'"
            ],
            "application/vnd.google.colaboratory.intrinsic+json": {
              "type": "string"
            }
          },
          "metadata": {},
          "execution_count": 5
        }
      ],
      "source": [
        "mystring"
      ]
    },
    {
      "cell_type": "code",
      "execution_count": null,
      "id": "62cdf31a-9c49-4aa4-9289-1ea21e8b6cbd",
      "metadata": {
        "id": "62cdf31a-9c49-4aa4-9289-1ea21e8b6cbd"
      },
      "outputs": [],
      "source": [
        "mystring1='akshay'"
      ]
    },
    {
      "cell_type": "code",
      "execution_count": null,
      "id": "057fc5f5-319e-46a4-8d99-0389014e8fba",
      "metadata": {
        "id": "057fc5f5-319e-46a4-8d99-0389014e8fba",
        "outputId": "ba5b1684-0b3f-47a8-d443-763191fe2055",
        "colab": {
          "base_uri": "https://localhost:8080/",
          "height": 35
        }
      },
      "outputs": [
        {
          "output_type": "execute_result",
          "data": {
            "text/plain": [
              "'akshay'"
            ],
            "application/vnd.google.colaboratory.intrinsic+json": {
              "type": "string"
            }
          },
          "metadata": {},
          "execution_count": 8
        }
      ],
      "source": [
        "mystring1"
      ]
    },
    {
      "cell_type": "code",
      "source": [
        "type(mystring1)"
      ],
      "metadata": {
        "colab": {
          "base_uri": "https://localhost:8080/"
        },
        "id": "RTftfTnri7lY",
        "outputId": "7b3d15c5-c1a9-4381-bb60-49a1ba18d570"
      },
      "id": "RTftfTnri7lY",
      "execution_count": null,
      "outputs": [
        {
          "output_type": "execute_result",
          "data": {
            "text/plain": [
              "str"
            ]
          },
          "metadata": {},
          "execution_count": 9
        }
      ]
    },
    {
      "cell_type": "code",
      "execution_count": null,
      "id": "600eb713-0094-48e5-bab9-2f089cc6a14e",
      "metadata": {
        "id": "600eb713-0094-48e5-bab9-2f089cc6a14e"
      },
      "outputs": [],
      "source": [
        "mystring3=\"\"\"i\n",
        "love\n",
        "python\"\"\""
      ]
    },
    {
      "cell_type": "code",
      "execution_count": null,
      "id": "751e51cb-cfca-43ef-ae02-777d1a6307f2",
      "metadata": {
        "id": "751e51cb-cfca-43ef-ae02-777d1a6307f2",
        "outputId": "cee83744-1495-4631-fcef-8e8566131ecf",
        "colab": {
          "base_uri": "https://localhost:8080/",
          "height": 35
        }
      },
      "outputs": [
        {
          "output_type": "execute_result",
          "data": {
            "text/plain": [
              "'i\\nlove\\npython'"
            ],
            "application/vnd.google.colaboratory.intrinsic+json": {
              "type": "string"
            }
          },
          "metadata": {},
          "execution_count": 11
        }
      ],
      "source": [
        "mystring3"
      ]
    },
    {
      "cell_type": "code",
      "execution_count": null,
      "id": "114113c2-5168-4387-bc7e-79d43d4b12fb",
      "metadata": {
        "id": "114113c2-5168-4387-bc7e-79d43d4b12fb",
        "outputId": "d310b40a-dd6f-4bb0-9d00-9b2c4b5f59eb",
        "colab": {
          "base_uri": "https://localhost:8080/"
        }
      },
      "outputs": [
        {
          "output_type": "stream",
          "name": "stdout",
          "text": [
            "i\n",
            "love\n",
            "python\n"
          ]
        }
      ],
      "source": [
        "print(mystring3)"
      ]
    },
    {
      "cell_type": "code",
      "execution_count": null,
      "id": "46711d10-6c6f-4f82-a1ad-e8ea49d6ddb5",
      "metadata": {
        "id": "46711d10-6c6f-4f82-a1ad-e8ea49d6ddb5"
      },
      "outputs": [],
      "source": [
        "mystring4=\"\""
      ]
    },
    {
      "cell_type": "code",
      "execution_count": null,
      "id": "ab8584de-eb48-4255-b88e-73c45590f5a0",
      "metadata": {
        "id": "ab8584de-eb48-4255-b88e-73c45590f5a0",
        "outputId": "cb9a1f2b-36b5-4cee-8ccd-419c1c0be884",
        "colab": {
          "base_uri": "https://localhost:8080/",
          "height": 35
        }
      },
      "outputs": [
        {
          "output_type": "execute_result",
          "data": {
            "text/plain": [
              "''"
            ],
            "application/vnd.google.colaboratory.intrinsic+json": {
              "type": "string"
            }
          },
          "metadata": {},
          "execution_count": 14
        }
      ],
      "source": [
        "mystring4"
      ]
    },
    {
      "cell_type": "code",
      "execution_count": null,
      "id": "939d0419-8d81-462d-b9a1-e3be6efa2edd",
      "metadata": {
        "id": "939d0419-8d81-462d-b9a1-e3be6efa2edd"
      },
      "outputs": [],
      "source": [
        "mystring5=\" \""
      ]
    },
    {
      "cell_type": "code",
      "execution_count": null,
      "id": "5e3728ed-26fa-49a3-9b10-fb52e3ac455f",
      "metadata": {
        "id": "5e3728ed-26fa-49a3-9b10-fb52e3ac455f",
        "outputId": "4018edf7-8179-42e5-8989-bc2b8ff907cd",
        "colab": {
          "base_uri": "https://localhost:8080/",
          "height": 35
        }
      },
      "outputs": [
        {
          "output_type": "execute_result",
          "data": {
            "text/plain": [
              "' '"
            ],
            "application/vnd.google.colaboratory.intrinsic+json": {
              "type": "string"
            }
          },
          "metadata": {},
          "execution_count": 16
        }
      ],
      "source": [
        "mystring5"
      ]
    },
    {
      "cell_type": "code",
      "execution_count": null,
      "id": "318e43a0-4896-4dcb-bb4a-fccd20b02aca",
      "metadata": {
        "id": "318e43a0-4896-4dcb-bb4a-fccd20b02aca"
      },
      "outputs": [],
      "source": [
        "mystring6=\"i love coding\""
      ]
    },
    {
      "cell_type": "code",
      "execution_count": null,
      "id": "a7bdb1dc-8297-46af-9bf5-d06919ff6980",
      "metadata": {
        "id": "a7bdb1dc-8297-46af-9bf5-d06919ff6980",
        "outputId": "00ccc8b6-089a-47d1-bf3f-ccade6765a29",
        "colab": {
          "base_uri": "https://localhost:8080/"
        }
      },
      "outputs": [
        {
          "output_type": "execute_result",
          "data": {
            "text/plain": [
              "12"
            ]
          },
          "metadata": {},
          "execution_count": 18
        }
      ],
      "source": [
        "\n",
        "len(mystring6)-1"
      ]
    },
    {
      "cell_type": "code",
      "execution_count": null,
      "id": "c561f3e8-f707-4f04-9152-40725079a98b",
      "metadata": {
        "id": "c561f3e8-f707-4f04-9152-40725079a98b",
        "outputId": "ea1bb8d6-d02f-470a-e485-aff38cf5a6ec",
        "colab": {
          "base_uri": "https://localhost:8080/"
        }
      },
      "outputs": [
        {
          "output_type": "stream",
          "name": "stdout",
          "text": [
            "v\n"
          ]
        }
      ],
      "source": [
        "print(mystring6[4])"
      ]
    },
    {
      "cell_type": "code",
      "execution_count": null,
      "id": "78be15d4-f8ff-410c-ae89-93a752073671",
      "metadata": {
        "id": "78be15d4-f8ff-410c-ae89-93a752073671",
        "outputId": "cd37676d-7bb3-4440-c9ab-ea026c88e4a7",
        "colab": {
          "base_uri": "https://localhost:8080/",
          "height": 35
        }
      },
      "outputs": [
        {
          "output_type": "execute_result",
          "data": {
            "text/plain": [
              "'love'"
            ],
            "application/vnd.google.colaboratory.intrinsic+json": {
              "type": "string"
            }
          },
          "metadata": {},
          "execution_count": 20
        }
      ],
      "source": [
        "mystring6[2:6]"
      ]
    },
    {
      "cell_type": "markdown",
      "id": "6e43af51-dd20-4b68-a9cd-b9c5865b6468",
      "metadata": {
        "id": "6e43af51-dd20-4b68-a9cd-b9c5865b6468"
      },
      "source": [
        "# wap to take input from user and print it in reverse order\n",
        "\n",
        "# note: dont use slicing operator."
      ]
    },
    {
      "cell_type": "code",
      "execution_count": null,
      "id": "2d8938a7-0785-419b-8259-bbb2a6cc94f8",
      "metadata": {
        "id": "2d8938a7-0785-419b-8259-bbb2a6cc94f8",
        "colab": {
          "base_uri": "https://localhost:8080/"
        },
        "outputId": "bce5816c-5c7e-4c0a-a77b-f2a04c9eeab4"
      },
      "outputs": [
        {
          "output_type": "stream",
          "name": "stdout",
          "text": [
            "Enter stringakshay\n",
            "['y', 'a', 'h', 's', 'k', 'a']\n"
          ]
        }
      ],
      "source": [
        "a = list(str(input(\"Enter string\")))\n",
        "a.reverse()\n",
        "print(a)"
      ]
    },
    {
      "cell_type": "code",
      "execution_count": null,
      "id": "24abaaf1-e393-4330-98a2-3a0d0a4f9d9d",
      "metadata": {
        "id": "24abaaf1-e393-4330-98a2-3a0d0a4f9d9d"
      },
      "outputs": [],
      "source": [
        "name=\"akshay\""
      ]
    },
    {
      "cell_type": "code",
      "execution_count": null,
      "id": "e45b0a49-9689-4f37-a7dd-f09c1c7cabc9",
      "metadata": {
        "id": "e45b0a49-9689-4f37-a7dd-f09c1c7cabc9",
        "outputId": "ff18baa8-61ae-453a-f5fe-c577772542c5",
        "colab": {
          "base_uri": "https://localhost:8080/"
        }
      },
      "outputs": [
        {
          "output_type": "execute_result",
          "data": {
            "text/plain": [
              "5"
            ]
          },
          "metadata": {},
          "execution_count": 24
        }
      ],
      "source": [
        "len(name)-1"
      ]
    },
    {
      "cell_type": "code",
      "execution_count": null,
      "id": "c18527b1-b89a-47a8-b094-b48aefa94a31",
      "metadata": {
        "id": "c18527b1-b89a-47a8-b094-b48aefa94a31",
        "outputId": "6eb237e2-f165-4d79-f7dc-fd3ffec82530",
        "colab": {
          "base_uri": "https://localhost:8080/"
        }
      },
      "outputs": [
        {
          "output_type": "execute_result",
          "data": {
            "text/plain": [
              "[5, 4, 3, 2, 1, 0]"
            ]
          },
          "metadata": {},
          "execution_count": 25
        }
      ],
      "source": [
        "list(range(len(name)-1,-1,-1))"
      ]
    },
    {
      "cell_type": "code",
      "execution_count": null,
      "id": "6611f4ba-2c94-4a51-8fd9-dca5888aa49e",
      "metadata": {
        "id": "6611f4ba-2c94-4a51-8fd9-dca5888aa49e",
        "outputId": "9c7b0f6d-144d-43f9-bdf2-b4ee70b23996",
        "colab": {
          "base_uri": "https://localhost:8080/"
        }
      },
      "outputs": [
        {
          "output_type": "execute_result",
          "data": {
            "text/plain": [
              "[10, 9, 8, 7, 6, 5, 4, 3, 2]"
            ]
          },
          "metadata": {},
          "execution_count": 26
        }
      ],
      "source": [
        "list(range(10,1,-1))"
      ]
    },
    {
      "cell_type": "code",
      "execution_count": null,
      "id": "939e808a-9c89-4a93-9145-f07539b4c14e",
      "metadata": {
        "id": "939e808a-9c89-4a93-9145-f07539b4c14e",
        "outputId": "c008753b-31d0-44d6-da19-e3c3dc553d04",
        "colab": {
          "base_uri": "https://localhost:8080/"
        }
      },
      "outputs": [
        {
          "output_type": "stream",
          "name": "stdout",
          "text": [
            "y\n",
            "a\n",
            "h\n",
            "s\n",
            "k\n",
            "a\n"
          ]
        }
      ],
      "source": [
        "for i in range(len(name)-1,-1,-1):\n",
        "    print(name[i])"
      ]
    },
    {
      "cell_type": "code",
      "execution_count": null,
      "id": "2d8ab274-01ea-480f-ba8b-2eea47b6b31a",
      "metadata": {
        "id": "2d8ab274-01ea-480f-ba8b-2eea47b6b31a",
        "outputId": "c0dd38f8-1632-4432-aba3-500f1b4db1b3",
        "colab": {
          "base_uri": "https://localhost:8080/"
        }
      },
      "outputs": [
        {
          "output_type": "stream",
          "name": "stdout",
          "text": [
            "write your nameakshay kumar gupta\n",
            "atpug ramuk yahska"
          ]
        }
      ],
      "source": [
        "name=input(\"write your name\")\n",
        "for i in range(len(name)-1,-1,-1):\n",
        "    print(name[i] , end = \"\")"
      ]
    },
    {
      "cell_type": "code",
      "execution_count": null,
      "id": "e1054332-a2a0-4bc3-968d-dc25130ec1c5",
      "metadata": {
        "id": "e1054332-a2a0-4bc3-968d-dc25130ec1c5",
        "colab": {
          "base_uri": "https://localhost:8080/",
          "height": 130
        },
        "outputId": "8f7c4b4b-81f3-4502-a2b3-c313bb84fe51"
      },
      "outputs": [
        {
          "output_type": "error",
          "ename": "SyntaxError",
          "evalue": "ignored",
          "traceback": [
            "\u001b[0;36m  File \u001b[0;32m\"<ipython-input-31-5c797dadd9db>\"\u001b[0;36m, line \u001b[0;32m1\u001b[0m\n\u001b[0;31m    + operator for concatination\u001b[0m\n\u001b[0m               ^\u001b[0m\n\u001b[0;31mSyntaxError\u001b[0m\u001b[0;31m:\u001b[0m invalid syntax\n"
          ]
        }
      ],
      "source": [
        "+ operator for concatination"
      ]
    },
    {
      "cell_type": "code",
      "execution_count": null,
      "id": "8b2f9203-3878-4cc6-8829-c94c40d35e7d",
      "metadata": {
        "id": "8b2f9203-3878-4cc6-8829-c94c40d35e7d",
        "outputId": "1b1af253-72df-42a9-8899-4fe24b4d11f8",
        "colab": {
          "base_uri": "https://localhost:8080/",
          "height": 35
        }
      },
      "outputs": [
        {
          "output_type": "execute_result",
          "data": {
            "text/plain": [
              "'akshay gupta'"
            ],
            "application/vnd.google.colaboratory.intrinsic+json": {
              "type": "string"
            }
          },
          "metadata": {},
          "execution_count": 32
        }
      ],
      "source": [
        "\"akshay\"+\" \"+\"gupta\""
      ]
    },
    {
      "cell_type": "code",
      "execution_count": null,
      "id": "1cd2b892-3d5f-48ba-a7b4-c56e1d123c7c",
      "metadata": {
        "id": "1cd2b892-3d5f-48ba-a7b4-c56e1d123c7c",
        "outputId": "4e63ae7d-638a-4e1a-9a98-3a39601c29bc",
        "colab": {
          "base_uri": "https://localhost:8080/",
          "height": 35
        }
      },
      "outputs": [
        {
          "output_type": "execute_result",
          "data": {
            "text/plain": [
              "'akshayakshay'"
            ],
            "application/vnd.google.colaboratory.intrinsic+json": {
              "type": "string"
            }
          },
          "metadata": {},
          "execution_count": 33
        }
      ],
      "source": [
        "\"akshay\"*2"
      ]
    },
    {
      "cell_type": "code",
      "execution_count": null,
      "id": "55011069-5911-424e-b1bc-301d4bdcad36",
      "metadata": {
        "id": "55011069-5911-424e-b1bc-301d4bdcad36",
        "outputId": "68ff9189-fa84-4df1-e3e1-008166750de7",
        "colab": {
          "base_uri": "https://localhost:8080/",
          "height": 35
        }
      },
      "outputs": [
        {
          "output_type": "execute_result",
          "data": {
            "text/plain": [
              "'byebye'"
            ],
            "application/vnd.google.colaboratory.intrinsic+json": {
              "type": "string"
            }
          },
          "metadata": {},
          "execution_count": 34
        }
      ],
      "source": [
        "\"bye\"*2"
      ]
    },
    {
      "cell_type": "code",
      "execution_count": null,
      "id": "008c39cc-be15-4a71-8eb5-89cb7a191c2f",
      "metadata": {
        "id": "008c39cc-be15-4a71-8eb5-89cb7a191c2f",
        "outputId": "d4cfaac8-b54b-46c9-b5cb-64b47cc789a2",
        "colab": {
          "base_uri": "https://localhost:8080/",
          "height": 35
        }
      },
      "outputs": [
        {
          "output_type": "execute_result",
          "data": {
            "text/plain": [
              "'banana'"
            ],
            "application/vnd.google.colaboratory.intrinsic+json": {
              "type": "string"
            }
          },
          "metadata": {},
          "execution_count": 35
        }
      ],
      "source": [
        "\"ba\"+\"na\"*2"
      ]
    },
    {
      "cell_type": "code",
      "execution_count": null,
      "id": "2db8fad2-aae7-4a69-ba24-60f1793401c4",
      "metadata": {
        "id": "2db8fad2-aae7-4a69-ba24-60f1793401c4"
      },
      "outputs": [],
      "source": [
        "\n",
        "mystring=\"i love my india\""
      ]
    },
    {
      "cell_type": "code",
      "execution_count": null,
      "id": "19111df0-b7d9-49e2-ad1d-eb73347dbbdb",
      "metadata": {
        "id": "19111df0-b7d9-49e2-ad1d-eb73347dbbdb",
        "outputId": "4b17ebbc-e68f-4929-ae04-2ae371603fcf",
        "colab": {
          "base_uri": "https://localhost:8080/"
        }
      },
      "outputs": [
        {
          "output_type": "execute_result",
          "data": {
            "text/plain": [
              "False"
            ]
          },
          "metadata": {},
          "execution_count": 36
        }
      ],
      "source": [
        "\"love\" in mystring"
      ]
    },
    {
      "cell_type": "code",
      "execution_count": null,
      "id": "7b1b593f-4b2a-477e-a121-a13a195e7429",
      "metadata": {
        "id": "7b1b593f-4b2a-477e-a121-a13a195e7429",
        "outputId": "336c9b35-dcdb-4f54-b0ad-1d3513148f4b",
        "colab": {
          "base_uri": "https://localhost:8080/"
        }
      },
      "outputs": [
        {
          "output_type": "execute_result",
          "data": {
            "text/plain": [
              "False"
            ]
          },
          "metadata": {},
          "execution_count": 37
        }
      ],
      "source": [
        "\"india\" in mystring"
      ]
    },
    {
      "cell_type": "code",
      "execution_count": null,
      "id": "14b3a32f-9c65-4504-8595-6904a7412cb8",
      "metadata": {
        "id": "14b3a32f-9c65-4504-8595-6904a7412cb8",
        "outputId": "7517e17a-7ff1-4ec5-954e-3e6f00d6e139",
        "colab": {
          "base_uri": "https://localhost:8080/"
        }
      },
      "outputs": [
        {
          "output_type": "execute_result",
          "data": {
            "text/plain": [
              "False"
            ]
          },
          "metadata": {},
          "execution_count": 38
        }
      ],
      "source": [
        "\"you\" in mystring"
      ]
    },
    {
      "cell_type": "code",
      "execution_count": null,
      "id": "9bba7cd5-4d8d-4a19-9ea2-ff33b6d3c59c",
      "metadata": {
        "id": "9bba7cd5-4d8d-4a19-9ea2-ff33b6d3c59c",
        "outputId": "282f6dc0-f476-47fa-9b3d-9c55a1a3e4c1",
        "colab": {
          "base_uri": "https://localhost:8080/"
        }
      },
      "outputs": [
        {
          "output_type": "execute_result",
          "data": {
            "text/plain": [
              "False"
            ]
          },
          "metadata": {},
          "execution_count": 39
        }
      ],
      "source": [
        "\" \" in mystring"
      ]
    },
    {
      "cell_type": "code",
      "execution_count": null,
      "id": "3f0a46a9-43d7-4007-b8de-089c4c0524e1",
      "metadata": {
        "id": "3f0a46a9-43d7-4007-b8de-089c4c0524e1",
        "outputId": "8f9f0742-408e-48f7-8137-7dce45ada539",
        "colab": {
          "base_uri": "https://localhost:8080/"
        }
      },
      "outputs": [
        {
          "output_type": "execute_result",
          "data": {
            "text/plain": [
              "True"
            ]
          },
          "metadata": {},
          "execution_count": 40
        }
      ],
      "source": [
        "\"\" in mystring"
      ]
    },
    {
      "cell_type": "code",
      "execution_count": null,
      "id": "734d48e2-5c3f-401e-99ed-baf82d0eb32f",
      "metadata": {
        "id": "734d48e2-5c3f-401e-99ed-baf82d0eb32f",
        "outputId": "6c404e50-6e46-43b2-d480-c4f2046a079f",
        "colab": {
          "base_uri": "https://localhost:8080/"
        }
      },
      "outputs": [
        {
          "output_type": "execute_result",
          "data": {
            "text/plain": [
              "True"
            ]
          },
          "metadata": {},
          "execution_count": 41
        }
      ],
      "source": [
        "\"hindustan\" not in mystring"
      ]
    },
    {
      "cell_type": "code",
      "execution_count": null,
      "id": "ada08eba-455e-4971-96fe-d1c35b6773b0",
      "metadata": {
        "id": "ada08eba-455e-4971-96fe-d1c35b6773b0",
        "outputId": "dd7b56f9-b64c-471a-8625-bb37f4b37ae7",
        "colab": {
          "base_uri": "https://localhost:8080/"
        }
      },
      "outputs": [
        {
          "output_type": "execute_result",
          "data": {
            "text/plain": [
              "False"
            ]
          },
          "metadata": {},
          "execution_count": 42
        }
      ],
      "source": [
        "\"tim\" == \"tie\""
      ]
    },
    {
      "cell_type": "code",
      "execution_count": null,
      "id": "a959b98f-c9ec-4392-aeb7-33c488b408bb",
      "metadata": {
        "id": "a959b98f-c9ec-4392-aeb7-33c488b408bb",
        "outputId": "997997df-2e44-465b-b4bf-90a835cd15a1",
        "colab": {
          "base_uri": "https://localhost:8080/"
        }
      },
      "outputs": [
        {
          "output_type": "execute_result",
          "data": {
            "text/plain": [
              "True"
            ]
          },
          "metadata": {},
          "execution_count": 43
        }
      ],
      "source": [
        "\n",
        "\n",
        "\"free\" != \"freedom\""
      ]
    },
    {
      "cell_type": "code",
      "execution_count": null,
      "id": "638736a2-24c1-4934-bc93-cec0764b1edb",
      "metadata": {
        "id": "638736a2-24c1-4934-bc93-cec0764b1edb",
        "outputId": "ab435583-388c-4e29-dfae-07b9bc02ff6c",
        "colab": {
          "base_uri": "https://localhost:8080/"
        }
      },
      "outputs": [
        {
          "output_type": "execute_result",
          "data": {
            "text/plain": [
              "True"
            ]
          },
          "metadata": {},
          "execution_count": 44
        }
      ],
      "source": [
        "\"arrow\" > \"aron\""
      ]
    },
    {
      "cell_type": "code",
      "execution_count": null,
      "id": "86e5af7e-28b5-412c-a524-4bff02a7bdae",
      "metadata": {
        "id": "86e5af7e-28b5-412c-a524-4bff02a7bdae",
        "outputId": "46b84958-d390-4811-f06d-61ff7bbbab41",
        "colab": {
          "base_uri": "https://localhost:8080/"
        }
      },
      "outputs": [
        {
          "output_type": "execute_result",
          "data": {
            "text/plain": [
              "True"
            ]
          },
          "metadata": {},
          "execution_count": 45
        }
      ],
      "source": [
        "\"right\" >= \"left\""
      ]
    },
    {
      "cell_type": "code",
      "execution_count": null,
      "id": "89f8bd44-315a-4330-a662-4df17986be5b",
      "metadata": {
        "id": "89f8bd44-315a-4330-a662-4df17986be5b",
        "outputId": "f6b3c9af-3c45-4569-dd36-47bc9a3408cc",
        "colab": {
          "base_uri": "https://localhost:8080/"
        }
      },
      "outputs": [
        {
          "output_type": "execute_result",
          "data": {
            "text/plain": [
              "False"
            ]
          },
          "metadata": {},
          "execution_count": 46
        }
      ],
      "source": [
        "\"teeth\" < \"tee\""
      ]
    },
    {
      "cell_type": "code",
      "execution_count": null,
      "id": "96a0b6a2-2ed1-4679-bbd9-c5764576dca0",
      "metadata": {
        "id": "96a0b6a2-2ed1-4679-bbd9-c5764576dca0",
        "outputId": "2624493a-caa2-4ed2-8386-80968865ce6d",
        "colab": {
          "base_uri": "https://localhost:8080/"
        }
      },
      "outputs": [
        {
          "output_type": "execute_result",
          "data": {
            "text/plain": [
              "False"
            ]
          },
          "metadata": {},
          "execution_count": 47
        }
      ],
      "source": [
        "\"yellow\" <= \"fellow\""
      ]
    },
    {
      "cell_type": "code",
      "execution_count": null,
      "id": "130bb536-37cf-4ba8-b247-4030a5e4b1ac",
      "metadata": {
        "id": "130bb536-37cf-4ba8-b247-4030a5e4b1ac",
        "outputId": "5ca86524-b920-4c12-e747-8b66d5739c6e",
        "colab": {
          "base_uri": "https://localhost:8080/"
        }
      },
      "outputs": [
        {
          "output_type": "execute_result",
          "data": {
            "text/plain": [
              "True"
            ]
          },
          "metadata": {},
          "execution_count": 48
        }
      ],
      "source": [
        "\"abc\" > \" \"\n"
      ]
    },
    {
      "cell_type": "code",
      "execution_count": null,
      "id": "58881d02-52f5-42a3-9583-79e5b59b5bcb",
      "metadata": {
        "id": "58881d02-52f5-42a3-9583-79e5b59b5bcb",
        "colab": {
          "base_uri": "https://localhost:8080/",
          "height": 130
        },
        "outputId": "7d4721bd-f1ed-466e-fbbd-eb9f30395880"
      },
      "outputs": [
        {
          "output_type": "error",
          "ename": "SyntaxError",
          "evalue": "ignored",
          "traceback": [
            "\u001b[0;36m  File \u001b[0;32m\"<ipython-input-49-6794baefc131>\"\u001b[0;36m, line \u001b[0;32m1\u001b[0m\n\u001b[0;31m    is and is not\u001b[0m\n\u001b[0m    ^\u001b[0m\n\u001b[0;31mSyntaxError\u001b[0m\u001b[0;31m:\u001b[0m invalid syntax\n"
          ]
        }
      ],
      "source": [
        "is and is not"
      ]
    },
    {
      "cell_type": "code",
      "execution_count": null,
      "id": "82f499d2-1998-4d1d-8de7-b3eea7641209",
      "metadata": {
        "id": "82f499d2-1998-4d1d-8de7-b3eea7641209"
      },
      "outputs": [],
      "source": [
        "a=\"akshay\"\n",
        "b=\"akshay\""
      ]
    },
    {
      "cell_type": "code",
      "execution_count": null,
      "id": "67d8321a-d3b3-4992-baad-48e8f7d73347",
      "metadata": {
        "id": "67d8321a-d3b3-4992-baad-48e8f7d73347",
        "outputId": "33e2d2c8-5192-4d55-ed0c-2cd54cde7dbb"
      },
      "outputs": [
        {
          "data": {
            "text/plain": [
              "True"
            ]
          },
          "execution_count": 63,
          "metadata": {},
          "output_type": "execute_result"
        }
      ],
      "source": [
        "a is b"
      ]
    },
    {
      "cell_type": "code",
      "execution_count": null,
      "id": "7e5b458f-4b7f-4484-9025-1078bd0510f7",
      "metadata": {
        "id": "7e5b458f-4b7f-4484-9025-1078bd0510f7"
      },
      "outputs": [],
      "source": [
        "c=\"gupta\""
      ]
    },
    {
      "cell_type": "code",
      "execution_count": null,
      "id": "45a3c3dc-ca4b-45d6-aa16-b8dc78bdb58d",
      "metadata": {
        "id": "45a3c3dc-ca4b-45d6-aa16-b8dc78bdb58d",
        "outputId": "9784146b-169e-4267-a54b-87d078fc93ec",
        "colab": {
          "base_uri": "https://localhost:8080/"
        }
      },
      "outputs": [
        {
          "output_type": "execute_result",
          "data": {
            "text/plain": [
              "False"
            ]
          },
          "metadata": {},
          "execution_count": 52
        }
      ],
      "source": [
        "a is c"
      ]
    },
    {
      "cell_type": "code",
      "execution_count": null,
      "id": "99184cb5-70a1-40ad-ad49-e3664f909bd3",
      "metadata": {
        "id": "99184cb5-70a1-40ad-ad49-e3664f909bd3",
        "outputId": "39742dc2-2df2-42cc-e6b5-ed59fa262445",
        "colab": {
          "base_uri": "https://localhost:8080/"
        }
      },
      "outputs": [
        {
          "output_type": "execute_result",
          "data": {
            "text/plain": [
              "True"
            ]
          },
          "metadata": {},
          "execution_count": 53
        }
      ],
      "source": [
        "a is not c"
      ]
    },
    {
      "cell_type": "markdown",
      "id": "d51dfd1f-97f7-4ba8-aecd-7414eac803fe",
      "metadata": {
        "id": "d51dfd1f-97f7-4ba8-aecd-7414eac803fe"
      },
      "source": [
        "# function in string"
      ]
    },
    {
      "cell_type": "markdown",
      "id": "42962363-ee62-45b4-8bb2-646d080caec9",
      "metadata": {
        "id": "42962363-ee62-45b4-8bb2-646d080caec9"
      },
      "source": [
        "# len()\n",
        "# max()\n",
        "# min()\n",
        "# chr()\n",
        "# ord()"
      ]
    },
    {
      "cell_type": "code",
      "execution_count": null,
      "id": "1fad2cf4-26f2-4576-96ce-10b451395306",
      "metadata": {
        "id": "1fad2cf4-26f2-4576-96ce-10b451395306",
        "outputId": "cae7c61f-5b52-4612-ea8d-75b77234ef92",
        "colab": {
          "base_uri": "https://localhost:8080/"
        }
      },
      "outputs": [
        {
          "output_type": "stream",
          "name": "stdout",
          "text": [
            "18\n"
          ]
        }
      ],
      "source": [
        "mystring=\"akshay-kumar-gupta\"\n",
        "print(len(mystring))"
      ]
    },
    {
      "cell_type": "code",
      "execution_count": null,
      "id": "816d65a7-ddda-4976-b18a-87c0221559d8",
      "metadata": {
        "id": "816d65a7-ddda-4976-b18a-87c0221559d8",
        "outputId": "f30ccbe5-8d3b-428c-e756-694a947d9793",
        "colab": {
          "base_uri": "https://localhost:8080/",
          "height": 35
        }
      },
      "outputs": [
        {
          "output_type": "execute_result",
          "data": {
            "text/plain": [
              "'y'"
            ],
            "application/vnd.google.colaboratory.intrinsic+json": {
              "type": "string"
            }
          },
          "metadata": {},
          "execution_count": 55
        }
      ],
      "source": [
        "max(mystring)"
      ]
    },
    {
      "cell_type": "code",
      "execution_count": null,
      "id": "27ff52bd-23d2-44f5-af66-5727bbb56ada",
      "metadata": {
        "id": "27ff52bd-23d2-44f5-af66-5727bbb56ada",
        "outputId": "4658f5e9-c4a2-4480-ae42-031b22447f5f",
        "colab": {
          "base_uri": "https://localhost:8080/",
          "height": 35
        }
      },
      "outputs": [
        {
          "output_type": "execute_result",
          "data": {
            "text/plain": [
              "'-'"
            ],
            "application/vnd.google.colaboratory.intrinsic+json": {
              "type": "string"
            }
          },
          "metadata": {},
          "execution_count": 56
        }
      ],
      "source": [
        "min(mystring)"
      ]
    },
    {
      "cell_type": "code",
      "execution_count": null,
      "id": "68d2e5d2-d9c4-450b-802b-bac2e1358ab5",
      "metadata": {
        "id": "68d2e5d2-d9c4-450b-802b-bac2e1358ab5",
        "outputId": "d76967e5-3099-4af5-ec93-41c916642fd7",
        "colab": {
          "base_uri": "https://localhost:8080/"
        }
      },
      "outputs": [
        {
          "output_type": "execute_result",
          "data": {
            "text/plain": [
              "32"
            ]
          },
          "metadata": {},
          "execution_count": 57
        }
      ],
      "source": [
        "ord(\" \")"
      ]
    },
    {
      "cell_type": "code",
      "execution_count": null,
      "id": "6bfb7842-404f-4c76-bb76-ce7c379032f8",
      "metadata": {
        "id": "6bfb7842-404f-4c76-bb76-ce7c379032f8",
        "outputId": "3e134765-47ca-49dd-caf8-383329151594",
        "colab": {
          "base_uri": "https://localhost:8080/"
        }
      },
      "outputs": [
        {
          "output_type": "execute_result",
          "data": {
            "text/plain": [
              "97"
            ]
          },
          "metadata": {},
          "execution_count": 58
        }
      ],
      "source": [
        "ord(\"a\")"
      ]
    },
    {
      "cell_type": "code",
      "execution_count": null,
      "id": "a68a66e6-2a5d-46c4-aea2-174acc07e1c0",
      "metadata": {
        "id": "a68a66e6-2a5d-46c4-aea2-174acc07e1c0",
        "outputId": "24f065a2-5163-4be7-816d-dda4344d7f79",
        "colab": {
          "base_uri": "https://localhost:8080/"
        }
      },
      "outputs": [
        {
          "output_type": "execute_result",
          "data": {
            "text/plain": [
              "43"
            ]
          },
          "metadata": {},
          "execution_count": 59
        }
      ],
      "source": [
        "ord(\"+\")"
      ]
    },
    {
      "cell_type": "code",
      "execution_count": null,
      "id": "7bb39b6a-d065-4b17-ae4f-f3459ff2efa4",
      "metadata": {
        "id": "7bb39b6a-d065-4b17-ae4f-f3459ff2efa4",
        "outputId": "edcca3b9-0b2d-4759-aa69-56f2015a941b",
        "colab": {
          "base_uri": "https://localhost:8080/"
        }
      },
      "outputs": [
        {
          "output_type": "execute_result",
          "data": {
            "text/plain": [
              "48"
            ]
          },
          "metadata": {},
          "execution_count": 60
        }
      ],
      "source": [
        "ord(\"0\")"
      ]
    },
    {
      "cell_type": "code",
      "execution_count": null,
      "id": "ff877bd6-c686-47c2-8c88-afc687e465d1",
      "metadata": {
        "id": "ff877bd6-c686-47c2-8c88-afc687e465d1",
        "outputId": "2d2fbdc5-6b86-4f19-f9cd-6df678beb6c4",
        "colab": {
          "base_uri": "https://localhost:8080/"
        }
      },
      "outputs": [
        {
          "output_type": "execute_result",
          "data": {
            "text/plain": [
              "53"
            ]
          },
          "metadata": {},
          "execution_count": 61
        }
      ],
      "source": [
        "\n",
        "ord(\"5\")"
      ]
    },
    {
      "cell_type": "code",
      "execution_count": null,
      "id": "6bc58dc5-d2e9-413d-afc2-4676097e0f2b",
      "metadata": {
        "id": "6bc58dc5-d2e9-413d-afc2-4676097e0f2b",
        "outputId": "95c1cda2-8e55-48ac-d66f-db1a63b256e8",
        "colab": {
          "base_uri": "https://localhost:8080/",
          "height": 35
        }
      },
      "outputs": [
        {
          "output_type": "execute_result",
          "data": {
            "text/plain": [
              "'+'"
            ],
            "application/vnd.google.colaboratory.intrinsic+json": {
              "type": "string"
            }
          },
          "metadata": {},
          "execution_count": 62
        }
      ],
      "source": [
        "chr(43)"
      ]
    },
    {
      "cell_type": "code",
      "execution_count": null,
      "id": "538df78e-3d02-4df3-b220-c4f2038539df",
      "metadata": {
        "id": "538df78e-3d02-4df3-b220-c4f2038539df",
        "outputId": "6b23c59a-16d6-488c-f3c7-6050902274a6",
        "colab": {
          "base_uri": "https://localhost:8080/",
          "height": 35
        }
      },
      "outputs": [
        {
          "output_type": "execute_result",
          "data": {
            "text/plain": [
              "'a'"
            ],
            "application/vnd.google.colaboratory.intrinsic+json": {
              "type": "string"
            }
          },
          "metadata": {},
          "execution_count": 63
        }
      ],
      "source": [
        "chr(97)"
      ]
    },
    {
      "cell_type": "code",
      "execution_count": null,
      "id": "9d5cd7f0-cb63-47ab-8ae8-3a30b23bd2cb",
      "metadata": {
        "id": "9d5cd7f0-cb63-47ab-8ae8-3a30b23bd2cb",
        "outputId": "a0493956-6ec8-4eda-b7c0-4db6702cc61c",
        "colab": {
          "base_uri": "https://localhost:8080/",
          "height": 35
        }
      },
      "outputs": [
        {
          "output_type": "execute_result",
          "data": {
            "text/plain": [
              "'n'"
            ],
            "application/vnd.google.colaboratory.intrinsic+json": {
              "type": "string"
            }
          },
          "metadata": {},
          "execution_count": 64
        }
      ],
      "source": [
        "chr(110)"
      ]
    },
    {
      "cell_type": "markdown",
      "id": "3ac1e034-95f2-4dfd-afe8-b44e7b6db360",
      "metadata": {
        "id": "3ac1e034-95f2-4dfd-afe8-b44e7b6db360"
      },
      "source": [
        "# methods of the string"
      ]
    },
    {
      "cell_type": "markdown",
      "id": "1bb58b47-45f9-45fb-9c47-d161f361be5d",
      "metadata": {
        "id": "1bb58b47-45f9-45fb-9c47-d161f361be5d"
      },
      "source": [
        "# capitalize( ):Returns a copy of the string with first character capitalized and rest of  the characters in lower case. "
      ]
    },
    {
      "cell_type": "code",
      "execution_count": null,
      "id": "1ae5b14d-e005-4edc-b1b0-0326a0d23b10",
      "metadata": {
        "id": "1ae5b14d-e005-4edc-b1b0-0326a0d23b10"
      },
      "outputs": [],
      "source": [
        "name=\"guido van rossum\"\n",
        "newname=name.capitalize()"
      ]
    },
    {
      "cell_type": "code",
      "execution_count": null,
      "id": "df4ba9fb-fc0d-4467-997e-53dc1c45cd52",
      "metadata": {
        "id": "df4ba9fb-fc0d-4467-997e-53dc1c45cd52",
        "outputId": "66ccf525-0d74-47e3-fc91-09bedebbc3fd"
      },
      "outputs": [
        {
          "data": {
            "text/plain": [
              "'Guido van rossum'"
            ]
          },
          "execution_count": 85,
          "metadata": {},
          "output_type": "execute_result"
        }
      ],
      "source": [
        "newname"
      ]
    },
    {
      "cell_type": "markdown",
      "id": "3d39e7c4-4bff-4855-bcf1-9681f011ca22",
      "metadata": {
        "id": "3d39e7c4-4bff-4855-bcf1-9681f011ca22"
      },
      "source": [
        "# lower( ) \n",
        "# upper( )\n",
        "\n",
        "# Returns a copy of the string with all letters converted to lowercase and uppercase respectively"
      ]
    },
    {
      "cell_type": "code",
      "execution_count": null,
      "id": "61f8b272-55ed-4511-820f-9b672e4ce716",
      "metadata": {
        "id": "61f8b272-55ed-4511-820f-9b672e4ce716"
      },
      "outputs": [],
      "source": [
        "name=\"akshay kumar gupta\"\n",
        "lc=name.lower()"
      ]
    },
    {
      "cell_type": "code",
      "execution_count": null,
      "id": "f40dda9d-d03e-4329-8bd1-6b667cd087f6",
      "metadata": {
        "id": "f40dda9d-d03e-4329-8bd1-6b667cd087f6",
        "outputId": "168d3f61-198b-4db6-a37d-e3c227da95ba",
        "colab": {
          "base_uri": "https://localhost:8080/",
          "height": 35
        }
      },
      "outputs": [
        {
          "output_type": "execute_result",
          "data": {
            "text/plain": [
              "'akshay kumar gupta'"
            ],
            "application/vnd.google.colaboratory.intrinsic+json": {
              "type": "string"
            }
          },
          "metadata": {},
          "execution_count": 66
        }
      ],
      "source": [
        "lc"
      ]
    },
    {
      "cell_type": "code",
      "execution_count": null,
      "id": "4f8b89dd-4568-4751-b17c-fb2c91075a1b",
      "metadata": {
        "id": "4f8b89dd-4568-4751-b17c-fb2c91075a1b"
      },
      "outputs": [],
      "source": [
        "uc=name.upper()"
      ]
    },
    {
      "cell_type": "code",
      "execution_count": null,
      "id": "8a03480c-673d-4a62-a59f-e32b5ac834d9",
      "metadata": {
        "id": "8a03480c-673d-4a62-a59f-e32b5ac834d9",
        "outputId": "bcf5d9c5-f01c-42ff-ef39-bf21eaadd645",
        "colab": {
          "base_uri": "https://localhost:8080/",
          "height": 35
        }
      },
      "outputs": [
        {
          "output_type": "execute_result",
          "data": {
            "text/plain": [
              "'AKSHAY KUMAR GUPTA'"
            ],
            "application/vnd.google.colaboratory.intrinsic+json": {
              "type": "string"
            }
          },
          "metadata": {},
          "execution_count": 68
        }
      ],
      "source": [
        "uc"
      ]
    },
    {
      "cell_type": "markdown",
      "id": "b49532c8-868e-42dc-a91e-84423560d9a7",
      "metadata": {
        "id": "b49532c8-868e-42dc-a91e-84423560d9a7"
      },
      "source": [
        "# swapcase():Returns a copy of the string with the case of every character swapped . Means that lowercase characters are changed to uppercase and vice-versa. "
      ]
    },
    {
      "cell_type": "code",
      "execution_count": null,
      "id": "0b5a69f5-672a-4fc5-9fea-3ecc67724f7d",
      "metadata": {
        "id": "0b5a69f5-672a-4fc5-9fea-3ecc67724f7d"
      },
      "outputs": [],
      "source": [
        "name=\"akshay kumar gupta \""
      ]
    },
    {
      "cell_type": "code",
      "execution_count": null,
      "id": "2a3a7383-7331-4c79-b770-b7193c7f8dbf",
      "metadata": {
        "id": "2a3a7383-7331-4c79-b770-b7193c7f8dbf",
        "outputId": "1712b8b3-809a-4fa7-f922-b775c5eebd10",
        "colab": {
          "base_uri": "https://localhost:8080/",
          "height": 35
        }
      },
      "outputs": [
        {
          "output_type": "execute_result",
          "data": {
            "text/plain": [
              "'AKSHAY KUMAR GUPTA '"
            ],
            "application/vnd.google.colaboratory.intrinsic+json": {
              "type": "string"
            }
          },
          "metadata": {},
          "execution_count": 70
        }
      ],
      "source": [
        "name.swapcase()"
      ]
    },
    {
      "cell_type": "code",
      "execution_count": null,
      "id": "03a41a28-db7c-479a-8cdd-09af698493c2",
      "metadata": {
        "id": "03a41a28-db7c-479a-8cdd-09af698493c2"
      },
      "outputs": [],
      "source": [
        "mystring='AksHaY'"
      ]
    },
    {
      "cell_type": "code",
      "execution_count": null,
      "id": "36cab018-d66d-430f-aa67-d6fa337b75db",
      "metadata": {
        "id": "36cab018-d66d-430f-aa67-d6fa337b75db",
        "outputId": "fcb6808d-85ab-4a26-f35b-026fed46c297",
        "colab": {
          "base_uri": "https://localhost:8080/",
          "height": 35
        }
      },
      "outputs": [
        {
          "output_type": "execute_result",
          "data": {
            "text/plain": [
              "'aKShAy'"
            ],
            "application/vnd.google.colaboratory.intrinsic+json": {
              "type": "string"
            }
          },
          "metadata": {},
          "execution_count": 72
        }
      ],
      "source": [
        "mystring.swapcase()"
      ]
    },
    {
      "cell_type": "markdown",
      "id": "8726d808-0699-448b-91fc-b5c16100c2b1",
      "metadata": {
        "id": "8726d808-0699-448b-91fc-b5c16100c2b1"
      },
      "source": [
        "# title(): Returns a copy of the string converted to proper case or title case. i.e. , all words begin with uppercase letter and the rest are in lowercase. "
      ]
    },
    {
      "cell_type": "code",
      "execution_count": null,
      "id": "e1d1697e-470b-46a1-af2e-2c129dade7d2",
      "metadata": {
        "id": "e1d1697e-470b-46a1-af2e-2c129dade7d2"
      },
      "outputs": [],
      "source": [
        "text = \"i lOVe pYTHoN\""
      ]
    },
    {
      "cell_type": "code",
      "execution_count": null,
      "id": "fbfd3674-187a-42ab-8e18-1a11123d23d9",
      "metadata": {
        "id": "fbfd3674-187a-42ab-8e18-1a11123d23d9",
        "outputId": "b4c0053d-ef50-46a6-f467-d910787ee71d"
      },
      "outputs": [
        {
          "data": {
            "text/plain": [
              "'I Love Python'"
            ]
          },
          "execution_count": 95,
          "metadata": {},
          "output_type": "execute_result"
        }
      ],
      "source": [
        "text.title()"
      ]
    },
    {
      "cell_type": "markdown",
      "id": "78189622-1f57-49d8-9305-ed22cbf1a3aa",
      "metadata": {
        "id": "78189622-1f57-49d8-9305-ed22cbf1a3aa"
      },
      "source": [
        "# islower( )\n",
        "# isupper( ) \n",
        "# islower( ) and isupper( ) \n",
        "# Returns True or False depending on whether all alphabets in the string are in lowercase and uppercase respectively"
      ]
    },
    {
      "cell_type": "code",
      "execution_count": null,
      "id": "cc4c2eba-1dea-44b8-8a4d-2f95cd37ff7a",
      "metadata": {
        "id": "cc4c2eba-1dea-44b8-8a4d-2f95cd37ff7a"
      },
      "outputs": [],
      "source": [
        "text=\"this is good\""
      ]
    },
    {
      "cell_type": "code",
      "execution_count": null,
      "id": "3119074c-cc19-4676-8b9e-199cff57c0d0",
      "metadata": {
        "id": "3119074c-cc19-4676-8b9e-199cff57c0d0",
        "outputId": "17d5cca6-4914-4348-8b04-0eebc16f3c15"
      },
      "outputs": [
        {
          "data": {
            "text/plain": [
              "True"
            ]
          },
          "execution_count": 97,
          "metadata": {},
          "output_type": "execute_result"
        }
      ],
      "source": [
        "text.islower()"
      ]
    },
    {
      "cell_type": "code",
      "execution_count": null,
      "id": "f17eabcf-9dba-47f5-8c23-305cd1c36d54",
      "metadata": {
        "id": "f17eabcf-9dba-47f5-8c23-305cd1c36d54",
        "outputId": "e7166a65-5e92-47c6-c48f-07d9f0691c30"
      },
      "outputs": [
        {
          "data": {
            "text/plain": [
              "False"
            ]
          },
          "execution_count": 98,
          "metadata": {},
          "output_type": "execute_result"
        }
      ],
      "source": [
        "text.isupper()"
      ]
    },
    {
      "cell_type": "code",
      "execution_count": null,
      "id": "633b53fc-18b4-4c4c-8855-240ea746c154",
      "metadata": {
        "id": "633b53fc-18b4-4c4c-8855-240ea746c154"
      },
      "outputs": [],
      "source": [
        "text=\"I LOVE PYTHON\""
      ]
    },
    {
      "cell_type": "code",
      "execution_count": null,
      "id": "2e5a4508-495f-43c0-8fcd-c9a04ee9631b",
      "metadata": {
        "id": "2e5a4508-495f-43c0-8fcd-c9a04ee9631b",
        "outputId": "fb2caf56-5937-4e3b-ba0f-69948a4f4e5f"
      },
      "outputs": [
        {
          "data": {
            "text/plain": [
              "True"
            ]
          },
          "execution_count": 100,
          "metadata": {},
          "output_type": "execute_result"
        }
      ],
      "source": [
        "text.isupper()"
      ]
    },
    {
      "cell_type": "markdown",
      "id": "9782e6b2-455e-4ac6-8e96-64e8f2572ce8",
      "metadata": {
        "id": "9782e6b2-455e-4ac6-8e96-64e8f2572ce8"
      },
      "source": [
        "# isalpha( )\n",
        "\n",
        "# Returns True if the string contains only alphabets ,otherwise returns False"
      ]
    },
    {
      "cell_type": "code",
      "execution_count": null,
      "id": "2c2d04eb-7e32-4ff1-8b5f-29650c5ae977",
      "metadata": {
        "id": "2c2d04eb-7e32-4ff1-8b5f-29650c5ae977"
      },
      "outputs": [],
      "source": [
        "string=\"mynameissunnyilovedatascience\""
      ]
    },
    {
      "cell_type": "code",
      "execution_count": null,
      "id": "9fabae18-06c8-49de-8300-30cebb9a6911",
      "metadata": {
        "id": "9fabae18-06c8-49de-8300-30cebb9a6911",
        "outputId": "6e2b7481-c64d-4ce2-8c64-381ad139c3b8"
      },
      "outputs": [
        {
          "data": {
            "text/plain": [
              "True"
            ]
          },
          "execution_count": 108,
          "metadata": {},
          "output_type": "execute_result"
        }
      ],
      "source": [
        "string.isalpha()"
      ]
    },
    {
      "cell_type": "markdown",
      "id": "16e59043-4453-4e5f-9445-072b5ae81643",
      "metadata": {
        "id": "16e59043-4453-4e5f-9445-072b5ae81643"
      },
      "source": [
        "# isdigit( )\n",
        "# Returns True if the string contains only digits , otherwise returns False"
      ]
    },
    {
      "cell_type": "code",
      "execution_count": null,
      "id": "74f10e18-1b0c-4322-afdd-7a38ca25fd85",
      "metadata": {
        "id": "74f10e18-1b0c-4322-afdd-7a38ca25fd85"
      },
      "outputs": [],
      "source": [
        "mystring=\"1234567890\""
      ]
    },
    {
      "cell_type": "code",
      "execution_count": null,
      "id": "104d4376-85b4-4a4b-988c-d83685076604",
      "metadata": {
        "id": "104d4376-85b4-4a4b-988c-d83685076604",
        "outputId": "38ee1ace-bf79-42a3-ce53-c568818fcb2e"
      },
      "outputs": [
        {
          "data": {
            "text/plain": [
              "True"
            ]
          },
          "execution_count": 113,
          "metadata": {},
          "output_type": "execute_result"
        }
      ],
      "source": [
        "mystring.isdigit()"
      ]
    },
    {
      "cell_type": "markdown",
      "id": "13c32786-8de7-413f-b3e9-1764abd4a4b5",
      "metadata": {
        "id": "13c32786-8de7-413f-b3e9-1764abd4a4b5"
      },
      "source": [
        "# isalnum( )\n",
        "# Returns True if the string contains only alphanumeric characters , otherwise returns False"
      ]
    },
    {
      "cell_type": "code",
      "execution_count": null,
      "id": "88b01019-b1c8-4e89-b57e-da04096ce927",
      "metadata": {
        "id": "88b01019-b1c8-4e89-b57e-da04096ce927"
      },
      "outputs": [],
      "source": [
        "mystring=\"sunny123\"\n",
        "mystring1=\"sunny\"\n",
        "mystring2=\"1232345\"\n",
        "mystring3=\"sunny123 savita456\"\n",
        "mystring4=\"ehrfjk$%*\""
      ]
    },
    {
      "cell_type": "code",
      "execution_count": null,
      "id": "1c2cd270-51b9-4838-b81e-44f9b3555213",
      "metadata": {
        "id": "1c2cd270-51b9-4838-b81e-44f9b3555213",
        "outputId": "931e4b02-9306-46d6-c3ff-7de07b572ce8"
      },
      "outputs": [
        {
          "name": "stdout",
          "output_type": "stream",
          "text": [
            "True\n",
            "True\n",
            "True\n",
            "False\n",
            "False\n"
          ]
        }
      ],
      "source": [
        "print(mystring.isalnum())\n",
        "print(mystring1.isalnum())\n",
        "print(mystring2.isalnum())\n",
        "print(mystring3.isalnum())\n",
        "print(mystring4.isalnum())"
      ]
    },
    {
      "cell_type": "markdown",
      "id": "03e406bc-df84-426f-8bef-62ffe9a2e98e",
      "metadata": {
        "id": "03e406bc-df84-426f-8bef-62ffe9a2e98e"
      },
      "source": [
        "# isspace( )\n",
        "# Returns True if the string contains only whitespace characters , otherwise returns False"
      ]
    },
    {
      "cell_type": "code",
      "execution_count": null,
      "id": "595f81ba-d86f-40ab-a9fd-9e437819f626",
      "metadata": {
        "id": "595f81ba-d86f-40ab-a9fd-9e437819f626"
      },
      "outputs": [],
      "source": [
        "string=\" \""
      ]
    },
    {
      "cell_type": "code",
      "execution_count": null,
      "id": "30f89ef5-f57e-4b54-8844-aac60250ce49",
      "metadata": {
        "id": "30f89ef5-f57e-4b54-8844-aac60250ce49",
        "outputId": "192c2628-0859-4621-ed29-27c2ee3787df"
      },
      "outputs": [
        {
          "data": {
            "text/plain": [
              "True"
            ]
          },
          "execution_count": 147,
          "metadata": {},
          "output_type": "execute_result"
        }
      ],
      "source": [
        "string.isspace()"
      ]
    },
    {
      "cell_type": "code",
      "execution_count": null,
      "id": "9a81c3f3-b716-4342-ba11-0960b89457f2",
      "metadata": {
        "id": "9a81c3f3-b716-4342-ba11-0960b89457f2"
      },
      "outputs": [],
      "source": [
        "string1=\"\""
      ]
    },
    {
      "cell_type": "code",
      "execution_count": null,
      "id": "938b75b1-1a99-4472-8686-3e9140344956",
      "metadata": {
        "id": "938b75b1-1a99-4472-8686-3e9140344956",
        "outputId": "816e33b3-8d28-4114-df68-c3f0ac8e5e7a"
      },
      "outputs": [
        {
          "data": {
            "text/plain": [
              "False"
            ]
          },
          "execution_count": 149,
          "metadata": {},
          "output_type": "execute_result"
        }
      ],
      "source": [
        "string1.isspace()"
      ]
    },
    {
      "cell_type": "code",
      "execution_count": null,
      "id": "931de0ba-5f19-42c2-96ae-832fcac663f0",
      "metadata": {
        "id": "931de0ba-5f19-42c2-96ae-832fcac663f0"
      },
      "outputs": [],
      "source": [
        "string2=\"S \" "
      ]
    },
    {
      "cell_type": "code",
      "execution_count": null,
      "id": "4d65d36e-7813-4a5b-9979-55defd064f95",
      "metadata": {
        "id": "4d65d36e-7813-4a5b-9979-55defd064f95",
        "outputId": "29dbf494-31fe-413a-f4ce-8657053415b8"
      },
      "outputs": [
        {
          "data": {
            "text/plain": [
              "False"
            ]
          },
          "execution_count": 151,
          "metadata": {},
          "output_type": "execute_result"
        }
      ],
      "source": [
        "string2.isspace()"
      ]
    },
    {
      "cell_type": "markdown",
      "id": "4d334b38-d19a-4fe2-af0b-dda4a490956c",
      "metadata": {
        "id": "4d334b38-d19a-4fe2-af0b-dda4a490956c"
      },
      "source": [
        "# startswith( )\n",
        "# endswith( )\n"
      ]
    },
    {
      "cell_type": "code",
      "execution_count": null,
      "id": "977878b8-245b-4edb-8a24-20b561d9eb3c",
      "metadata": {
        "id": "977878b8-245b-4edb-8a24-20b561d9eb3c"
      },
      "outputs": [],
      "source": [
        "text=\"i love machine learning\""
      ]
    },
    {
      "cell_type": "code",
      "execution_count": null,
      "id": "18fabd52-4289-4a7c-9564-91ff3a586559",
      "metadata": {
        "id": "18fabd52-4289-4a7c-9564-91ff3a586559",
        "outputId": "ea43b76a-f2d5-43b3-df46-587233b7d84b"
      },
      "outputs": [
        {
          "data": {
            "text/plain": [
              "True"
            ]
          },
          "execution_count": 154,
          "metadata": {},
          "output_type": "execute_result"
        }
      ],
      "source": [
        "text.startswith(\"i\")"
      ]
    },
    {
      "cell_type": "code",
      "execution_count": null,
      "id": "ed2da210-c88a-4878-b2a4-30fccab41340",
      "metadata": {
        "id": "ed2da210-c88a-4878-b2a4-30fccab41340",
        "outputId": "1af21ca9-a56c-4cc7-df05-faec4febfc25"
      },
      "outputs": [
        {
          "data": {
            "text/plain": [
              "False"
            ]
          },
          "execution_count": 156,
          "metadata": {},
          "output_type": "execute_result"
        }
      ],
      "source": [
        "text.endswith(\"machine\")"
      ]
    },
    {
      "cell_type": "code",
      "execution_count": null,
      "id": "599e81a2-74b3-4b25-990b-f3c556636996",
      "metadata": {
        "id": "599e81a2-74b3-4b25-990b-f3c556636996",
        "outputId": "05976c96-4717-4a9f-f439-a0a6af59e79b"
      },
      "outputs": [
        {
          "data": {
            "text/plain": [
              "True"
            ]
          },
          "execution_count": 157,
          "metadata": {},
          "output_type": "execute_result"
        }
      ],
      "source": [
        "text.endswith(\"learning\")"
      ]
    },
    {
      "cell_type": "markdown",
      "id": "91b95b53-7b9c-4ed9-a59f-b68af0dbbdab",
      "metadata": {
        "id": "91b95b53-7b9c-4ed9-a59f-b68af0dbbdab"
      },
      "source": [
        "# index( )\n",
        "# Returns the index of first occurrence of a substring  inside the string (if found). \n",
        "\n",
        "# If the substring is not found, it raises an exception."
      ]
    },
    {
      "cell_type": "code",
      "execution_count": null,
      "id": "360bfb27-31cc-4bdd-a327-580b5ed06605",
      "metadata": {
        "id": "360bfb27-31cc-4bdd-a327-580b5ed06605"
      },
      "outputs": [],
      "source": [
        "text=\"sunday is fun day fun day\""
      ]
    },
    {
      "cell_type": "code",
      "execution_count": null,
      "id": "de901864-814f-42b4-9d1c-18bb4491d688",
      "metadata": {
        "id": "de901864-814f-42b4-9d1c-18bb4491d688",
        "outputId": "d1e51cd3-48d4-4f32-d66e-6df3a95d6c9c"
      },
      "outputs": [
        {
          "data": {
            "text/plain": [
              "3"
            ]
          },
          "execution_count": 163,
          "metadata": {},
          "output_type": "execute_result"
        }
      ],
      "source": [
        "text.index(\"day\")"
      ]
    },
    {
      "cell_type": "markdown",
      "id": "ef4ca6a8-a71a-4b46-9e92-cf0a7db43865",
      "metadata": {
        "id": "ef4ca6a8-a71a-4b46-9e92-cf0a7db43865"
      },
      "source": [
        "# count( )\n",
        "\n",
        "# Returns the number of occurrences of a substring in the given string\n"
      ]
    },
    {
      "cell_type": "code",
      "execution_count": null,
      "id": "94c4a4a9-9887-44d5-8ad3-6d8acd4ee81a",
      "metadata": {
        "id": "94c4a4a9-9887-44d5-8ad3-6d8acd4ee81a",
        "outputId": "5215eb84-3f31-4980-a3ec-a0270621e713"
      },
      "outputs": [
        {
          "data": {
            "text/plain": [
              "3"
            ]
          },
          "execution_count": 166,
          "metadata": {},
          "output_type": "execute_result"
        }
      ],
      "source": [
        "text=\"python is awasome. isn't it?, is it true\"\n",
        "text.count(\"is\")"
      ]
    },
    {
      "cell_type": "markdown",
      "id": "e1c42910-b954-4c81-8b01-b1d7ab34396a",
      "metadata": {
        "id": "e1c42910-b954-4c81-8b01-b1d7ab34396a"
      },
      "source": [
        "# split()"
      ]
    },
    {
      "cell_type": "code",
      "execution_count": null,
      "id": "2b93dfb5-e708-4fe2-a13b-62b314989a4f",
      "metadata": {
        "id": "2b93dfb5-e708-4fe2-a13b-62b314989a4f",
        "outputId": "dded2919-0563-4a1c-ef9e-6cc2339a1c2b"
      },
      "outputs": [
        {
          "data": {
            "text/plain": [
              "['i', 'love', 'my', 'india']"
            ]
          },
          "execution_count": 169,
          "metadata": {},
          "output_type": "execute_result"
        }
      ],
      "source": [
        "\"i@love@my@india\".split(\"@\")"
      ]
    },
    {
      "cell_type": "markdown",
      "id": "2decb1ff-cd98-4f24-9ce7-75ecec40e270",
      "metadata": {
        "id": "2decb1ff-cd98-4f24-9ce7-75ecec40e270"
      },
      "source": [
        "# join()"
      ]
    },
    {
      "cell_type": "code",
      "execution_count": null,
      "id": "c6b5f34a-745b-4e6f-8b0f-7f859ecbef45",
      "metadata": {
        "id": "c6b5f34a-745b-4e6f-8b0f-7f859ecbef45",
        "outputId": "74f5ee01-52c6-4c2e-e915-f715a8efad7e",
        "colab": {
          "base_uri": "https://localhost:8080/",
          "height": 35
        }
      },
      "outputs": [
        {
          "output_type": "execute_result",
          "data": {
            "text/plain": [
              "'a@k@s@h@a@y'"
            ],
            "application/vnd.google.colaboratory.intrinsic+json": {
              "type": "string"
            }
          },
          "metadata": {},
          "execution_count": 1
        }
      ],
      "source": [
        "\"@\".join([\"a\",\"k\",\"s\",\"h\",\"a\",\"y\"])"
      ]
    },
    {
      "cell_type": "code",
      "execution_count": null,
      "id": "46718609-c24b-4588-9dee-6a625a43001d",
      "metadata": {
        "id": "46718609-c24b-4588-9dee-6a625a43001d",
        "outputId": "0652b278-5273-4230-8d9a-a0b7ba2be07a",
        "colab": {
          "base_uri": "https://localhost:8080/",
          "height": 35
        }
      },
      "outputs": [
        {
          "output_type": "execute_result",
          "data": {
            "text/plain": [
              "'s@u@n@n@y'"
            ],
            "application/vnd.google.colaboratory.intrinsic+json": {
              "type": "string"
            }
          },
          "metadata": {},
          "execution_count": 2
        }
      ],
      "source": [
        "\"@\".join(\"akshay\")"
      ]
    },
    {
      "cell_type": "code",
      "execution_count": null,
      "id": "4bafc808-5a76-40b1-808a-fde370d695ce",
      "metadata": {
        "id": "4bafc808-5a76-40b1-808a-fde370d695ce",
        "outputId": "ab7fc5ad-b1ac-44dc-aced-2485611c8d9b"
      },
      "outputs": [
        {
          "data": {
            "text/plain": [
              "'s n y'"
            ]
          },
          "execution_count": 175,
          "metadata": {},
          "output_type": "execute_result"
        }
      ],
      "source": [
        "\" \".join((\"s\",\"n\",\"y\"))"
      ]
    },
    {
      "cell_type": "code",
      "execution_count": 4,
      "id": "51acfc9c-2d5d-4c0f-8104-2c5f5f2f539c",
      "metadata": {
        "id": "51acfc9c-2d5d-4c0f-8104-2c5f5f2f539c"
      },
      "outputs": [],
      "source": [
        "name=\"akshay\"\n",
        "age=20"
      ]
    },
    {
      "cell_type": "code",
      "execution_count": 5,
      "id": "17a6cda6-b8c1-4ffa-8a17-697012f6aed0",
      "metadata": {
        "id": "17a6cda6-b8c1-4ffa-8a17-697012f6aed0",
        "outputId": "2e024c4e-c206-4699-e228-b6ea94851db9",
        "colab": {
          "base_uri": "https://localhost:8080/"
        }
      },
      "outputs": [
        {
          "output_type": "stream",
          "name": "stdout",
          "text": [
            "My name is akshay and my age is 20\n"
          ]
        }
      ],
      "source": [
        "\n",
        "print(\"My name is\",name,\"and my age is\",age)"
      ]
    },
    {
      "cell_type": "code",
      "execution_count": 6,
      "id": "ff255b8d-f95b-44ae-be98-ba3298b9c7b1",
      "metadata": {
        "id": "ff255b8d-f95b-44ae-be98-ba3298b9c7b1",
        "outputId": "9b6708f6-7129-473e-9d37-d86c92efaf64",
        "colab": {
          "base_uri": "https://localhost:8080/"
        }
      },
      "outputs": [
        {
          "output_type": "stream",
          "name": "stdout",
          "text": [
            "My name is akshay and my age is 20\n"
          ]
        }
      ],
      "source": [
        "\n",
        "print(\"My name is {0} and my age is {1}\".format(name,age))"
      ]
    },
    {
      "cell_type": "code",
      "execution_count": 7,
      "id": "bcfb886e-0f11-47b2-8ac2-90fc2df829b9",
      "metadata": {
        "id": "bcfb886e-0f11-47b2-8ac2-90fc2df829b9",
        "outputId": "184b92e6-61a7-4839-a03e-d792d67e4f67",
        "colab": {
          "base_uri": "https://localhost:8080/"
        }
      },
      "outputs": [
        {
          "output_type": "stream",
          "name": "stdout",
          "text": [
            "My name is akshay and my age is 20\n"
          ]
        }
      ],
      "source": [
        " print(\"My name is %s and my age is %d\"%(name,age))"
      ]
    },
    {
      "cell_type": "markdown",
      "id": "11af6f43-545d-47bb-aa0f-6016165c8129",
      "metadata": {
        "id": "11af6f43-545d-47bb-aa0f-6016165c8129"
      },
      "source": [
        "# f-string\n",
        "# string interpolation"
      ]
    },
    {
      "cell_type": "code",
      "execution_count": 8,
      "id": "3bb8a0e7-543b-4f0e-b852-26c87bb2afe8",
      "metadata": {
        "id": "3bb8a0e7-543b-4f0e-b852-26c87bb2afe8",
        "outputId": "b0f6c849-fcfe-4227-fe01-21d2242bbbdf",
        "colab": {
          "base_uri": "https://localhost:8080/"
        }
      },
      "outputs": [
        {
          "output_type": "stream",
          "name": "stdout",
          "text": [
            "my name is akshay my age is 20\n"
          ]
        }
      ],
      "source": [
        "# time com complexity is very less\n",
        "print(f\"my name is {name} my age is {age}\")"
      ]
    },
    {
      "cell_type": "code",
      "execution_count": 9,
      "id": "3703b64b-66ca-4bc8-aea7-42b4a61585c6",
      "metadata": {
        "id": "3703b64b-66ca-4bc8-aea7-42b4a61585c6"
      },
      "outputs": [],
      "source": [
        "a=10\n",
        "b=20\n",
        "\n",
        "#i want max from a and b"
      ]
    },
    {
      "cell_type": "code",
      "execution_count": 10,
      "id": "ff07b4d5-4abc-460d-8e2d-7ecb5034bf72",
      "metadata": {
        "id": "ff07b4d5-4abc-460d-8e2d-7ecb5034bf72",
        "outputId": "4201f486-0ced-4180-b5be-49df2b69069f",
        "colab": {
          "base_uri": "https://localhost:8080/"
        }
      },
      "outputs": [
        {
          "output_type": "stream",
          "name": "stdout",
          "text": [
            "my first number is 10 my second number is 20 and max number is 20\n"
          ]
        }
      ],
      "source": [
        "\n",
        "print(f\"my first number is {a} my second number is {b} and max number is {max(a,b)}\")"
      ]
    },
    {
      "cell_type": "code",
      "execution_count": 11,
      "id": "d96e3ded-9dc3-41ef-ac15-816bc40e1503",
      "metadata": {
        "id": "d96e3ded-9dc3-41ef-ac15-816bc40e1503",
        "outputId": "e8f178bc-e78b-42cb-f3b3-8b36d39935f1",
        "colab": {
          "base_uri": "https://localhost:8080/"
        }
      },
      "outputs": [
        {
          "output_type": "stream",
          "name": "stdout",
          "text": [
            "max is 20\n"
          ]
        }
      ],
      "source": [
        "a = 10\n",
        "b = 20\n",
        "if a > b:\n",
        "    print(f'max is {a}')\n",
        "else:\n",
        "    print(f'max is {b}')\n"
      ]
    },
    {
      "cell_type": "code",
      "execution_count": 12,
      "id": "fa0aa8b0-1f44-425e-aa0a-41e98676a710",
      "metadata": {
        "id": "fa0aa8b0-1f44-425e-aa0a-41e98676a710",
        "outputId": "9c5f4d3b-a06a-4dd3-9a3c-83136b74c6dc",
        "colab": {
          "base_uri": "https://localhost:8080/"
        }
      },
      "outputs": [
        {
          "output_type": "stream",
          "name": "stdout",
          "text": [
            "max between a and b is 20\n"
          ]
        }
      ],
      "source": [
        "a = 10\n",
        "b = 20\n",
        "max1 = max(a,b)\n",
        "print(f\"max between a and b is {max1}\")\n"
      ]
    },
    {
      "cell_type": "markdown",
      "id": "d37342a8-e144-49f3-9eaf-3b4aaf9437ea",
      "metadata": {
        "id": "d37342a8-e144-49f3-9eaf-3b4aaf9437ea"
      },
      "source": [
        "# dictionary"
      ]
    },
    {
      "cell_type": "code",
      "execution_count": 13,
      "id": "253b31fd-4aa4-4822-b030-e72848e8b18c",
      "metadata": {
        "id": "253b31fd-4aa4-4822-b030-e72848e8b18c"
      },
      "outputs": [],
      "source": [
        "list=[]\n",
        "tuple=()\n",
        "set={}\n",
        "string=\"\""
      ]
    },
    {
      "cell_type": "code",
      "execution_count": 14,
      "id": "29190587-883a-43b2-8c02-1fbbcde5f7b6",
      "metadata": {
        "id": "29190587-883a-43b2-8c02-1fbbcde5f7b6",
        "colab": {
          "base_uri": "https://localhost:8080/",
          "height": 130
        },
        "outputId": "1c787766-21e7-4212-d31c-54cc012fe546"
      },
      "outputs": [
        {
          "output_type": "error",
          "ename": "SyntaxError",
          "evalue": "ignored",
          "traceback": [
            "\u001b[0;36m  File \u001b[0;32m\"<ipython-input-14-7aec549b8f00>\"\u001b[0;36m, line \u001b[0;32m1\u001b[0m\n\u001b[0;31m    key:value pair\u001b[0m\n\u001b[0m              ^\u001b[0m\n\u001b[0;31mSyntaxError\u001b[0m\u001b[0;31m:\u001b[0m invalid syntax\n"
          ]
        }
      ],
      "source": [
        "key:value pair\n",
        "\n",
        "dictionary: dict is a collection which holds data in pair(that pair will be in key and value)\n",
        "\n",
        "if i want to connect one piece of info with other piece of info so we always we use dictionary\n",
        "\n",
        "ex: rollno->student name\n",
        "    name-> mobile number\n",
        "\n"
      ]
    },
    {
      "cell_type": "code",
      "execution_count": 15,
      "id": "7fd98046-3fd5-4b0e-a65a-16d56539b442",
      "metadata": {
        "id": "7fd98046-3fd5-4b0e-a65a-16d56539b442",
        "outputId": "45988c3b-ac3b-4f4e-d5bb-c24898357cd7",
        "colab": {
          "base_uri": "https://localhost:8080/",
          "height": 235
        }
      },
      "outputs": [
        {
          "output_type": "error",
          "ename": "NameError",
          "evalue": "ignored",
          "traceback": [
            "\u001b[0;31m---------------------------------------------------------------------------\u001b[0m",
            "\u001b[0;31mNameError\u001b[0m                                 Traceback (most recent call last)",
            "\u001b[0;32m<ipython-input-15-f8417a58bf60>\u001b[0m in \u001b[0;36m<module>\u001b[0;34m\u001b[0m\n\u001b[1;32m      1\u001b[0m \u001b[0;31m#syntax of dictionary\u001b[0m\u001b[0;34m\u001b[0m\u001b[0;34m\u001b[0m\u001b[0;34m\u001b[0m\u001b[0m\n\u001b[0;32m----> 2\u001b[0;31m dict={ key1:value1,\n\u001b[0m\u001b[1;32m      3\u001b[0m  \u001b[0mkey2\u001b[0m\u001b[0;34m:\u001b[0m\u001b[0mvalue2\u001b[0m\u001b[0;34m,\u001b[0m\u001b[0;34m\u001b[0m\u001b[0;34m\u001b[0m\u001b[0m\n\u001b[1;32m      4\u001b[0m  \u001b[0mkey3\u001b[0m\u001b[0;34m:\u001b[0m\u001b[0mvalue3\u001b[0m\u001b[0;34m,\u001b[0m\u001b[0;34m\u001b[0m\u001b[0;34m\u001b[0m\u001b[0m\n\u001b[1;32m      5\u001b[0m  \u001b[0;34m...\u001b[0m\u001b[0;34m.\u001b[0m\u001b[0;34m\u001b[0m\u001b[0;34m\u001b[0m\u001b[0m\n",
            "\u001b[0;31mNameError\u001b[0m: name 'key1' is not defined"
          ]
        }
      ],
      "source": [
        "#syntax of dictionary\n",
        "dict={ key1:value1,\n",
        " key2:value2,\n",
        " key3:value3,\n",
        " ....\n",
        " keyn:valuen\n",
        "}"
      ]
    },
    {
      "cell_type": "code",
      "execution_count": 16,
      "id": "9ed81098-d2a4-4146-9b4f-e43f356867ca",
      "metadata": {
        "id": "9ed81098-d2a4-4146-9b4f-e43f356867ca"
      },
      "outputs": [],
      "source": [
        "mydict={}"
      ]
    },
    {
      "cell_type": "code",
      "execution_count": 17,
      "id": "0dc80632-5842-4faf-a147-a1ae1f07a176",
      "metadata": {
        "id": "0dc80632-5842-4faf-a147-a1ae1f07a176",
        "outputId": "5c2c3fac-c951-4a36-da73-b6abafd50e27",
        "colab": {
          "base_uri": "https://localhost:8080/"
        }
      },
      "outputs": [
        {
          "output_type": "execute_result",
          "data": {
            "text/plain": [
              "dict"
            ]
          },
          "metadata": {},
          "execution_count": 17
        }
      ],
      "source": [
        "type(mydict)"
      ]
    },
    {
      "cell_type": "code",
      "execution_count": 19,
      "id": "5bb35f26-563c-4e82-8620-f830a6f48910",
      "metadata": {
        "id": "5bb35f26-563c-4e82-8620-f830a6f48910"
      },
      "outputs": [],
      "source": [
        "# dict of int key\n",
        "mydict1={1:\"sunny\",2:\"rajat\",3:\"satish\"}"
      ]
    },
    {
      "cell_type": "code",
      "execution_count": 20,
      "id": "dfdbb203-dbf2-4091-85eb-e8836b46612f",
      "metadata": {
        "id": "dfdbb203-dbf2-4091-85eb-e8836b46612f",
        "outputId": "0f386cae-8216-4baa-c80c-1d07ddb14c58",
        "colab": {
          "base_uri": "https://localhost:8080/"
        }
      },
      "outputs": [
        {
          "output_type": "execute_result",
          "data": {
            "text/plain": [
              "{1: 'sunny', 2: 'rajat', 3: 'satish'}"
            ]
          },
          "metadata": {},
          "execution_count": 20
        }
      ],
      "source": [
        "mydict1"
      ]
    },
    {
      "cell_type": "code",
      "execution_count": 21,
      "id": "685159ad-3b6d-4bc1-85c2-33e78def0c2c",
      "metadata": {
        "id": "685159ad-3b6d-4bc1-85c2-33e78def0c2c"
      },
      "outputs": [],
      "source": [
        "mydict2={1:\"sunny\",\"a\":\"shubham\"}"
      ]
    },
    {
      "cell_type": "code",
      "execution_count": 22,
      "id": "b61f0518-0837-4da0-a9ba-2e3f7944a9de",
      "metadata": {
        "id": "b61f0518-0837-4da0-a9ba-2e3f7944a9de",
        "outputId": "f4756306-ac46-4923-c1d9-7c383ab1049e",
        "colab": {
          "base_uri": "https://localhost:8080/"
        }
      },
      "outputs": [
        {
          "output_type": "execute_result",
          "data": {
            "text/plain": [
              "{1: 'sunny', 'a': 'shubham'}"
            ]
          },
          "metadata": {},
          "execution_count": 22
        }
      ],
      "source": [
        "mydict2"
      ]
    },
    {
      "cell_type": "code",
      "execution_count": 23,
      "id": "75bd4850-a375-4fb3-9a1b-f95476d6af70",
      "metadata": {
        "id": "75bd4850-a375-4fb3-9a1b-f95476d6af70"
      },
      "outputs": [],
      "source": [
        "mydict3={\"rahul\":[\"c\",\"c++\"],\"rohit\":[\"java\",\"java script\"],\"sunny\":[\"python\",\"machine learning\"]}"
      ]
    },
    {
      "cell_type": "code",
      "execution_count": 24,
      "id": "61da1e3c-0eae-484d-befd-79fb37f1c81f",
      "metadata": {
        "id": "61da1e3c-0eae-484d-befd-79fb37f1c81f",
        "outputId": "471310ac-a642-460e-a3e7-01983e6b8512",
        "colab": {
          "base_uri": "https://localhost:8080/"
        }
      },
      "outputs": [
        {
          "output_type": "execute_result",
          "data": {
            "text/plain": [
              "{'rahul': ['c', 'c++'],\n",
              " 'rohit': ['java', 'java script'],\n",
              " 'sunny': ['python', 'machine learning']}"
            ]
          },
          "metadata": {},
          "execution_count": 24
        }
      ],
      "source": [
        "mydict3"
      ]
    },
    {
      "cell_type": "code",
      "execution_count": 25,
      "id": "6cceb8e7-58ba-446a-bae1-f6fcce4a1175",
      "metadata": {
        "id": "6cceb8e7-58ba-446a-bae1-f6fcce4a1175",
        "outputId": "27393725-9e0b-4192-f63c-fbd9ef4c8003",
        "colab": {
          "base_uri": "https://localhost:8080/"
        }
      },
      "outputs": [
        {
          "output_type": "execute_result",
          "data": {
            "text/plain": [
              "['c', 'c++']"
            ]
          },
          "metadata": {},
          "execution_count": 25
        }
      ],
      "source": [
        "mydict3[\"rahul\"]"
      ]
    },
    {
      "cell_type": "code",
      "execution_count": 26,
      "id": "0cca53a7-9f9b-4af6-aa4b-d83d694a566e",
      "metadata": {
        "id": "0cca53a7-9f9b-4af6-aa4b-d83d694a566e",
        "outputId": "2fb69a7c-a90c-43c9-998e-cdf14e86c73d",
        "colab": {
          "base_uri": "https://localhost:8080/"
        }
      },
      "outputs": [
        {
          "output_type": "execute_result",
          "data": {
            "text/plain": [
              "['python', 'machine learning']"
            ]
          },
          "metadata": {},
          "execution_count": 26
        }
      ],
      "source": [
        "mydict3[\"sunny\"]"
      ]
    },
    {
      "cell_type": "code",
      "execution_count": 27,
      "id": "d09785b6-cb52-4491-b661-6346ed92ba5f",
      "metadata": {
        "id": "d09785b6-cb52-4491-b661-6346ed92ba5f",
        "outputId": "3ea70057-492d-4086-e00a-8928271aa25a",
        "colab": {
          "base_uri": "https://localhost:8080/"
        }
      },
      "outputs": [
        {
          "output_type": "execute_result",
          "data": {
            "text/plain": [
              "['python', 'machine learning']"
            ]
          },
          "metadata": {},
          "execution_count": 27
        }
      ],
      "source": [
        "\n",
        "mydict3.get(\"sunny\")"
      ]
    },
    {
      "cell_type": "code",
      "execution_count": 28,
      "id": "b469c5af-e56d-428d-909e-7c5e497073bc",
      "metadata": {
        "id": "b469c5af-e56d-428d-909e-7c5e497073bc"
      },
      "outputs": [],
      "source": [
        "student_data={1:\"amit\",2:\"brajesh\",3:\"chetan\",4:\"deepak\",5:\"neeraj\"}"
      ]
    },
    {
      "cell_type": "code",
      "execution_count": 29,
      "id": "4bdf0668-3e67-4be5-be4a-8c30bb522e62",
      "metadata": {
        "id": "4bdf0668-3e67-4be5-be4a-8c30bb522e62",
        "outputId": "b5a2f515-c4a4-4753-9f7e-4b9d682544d5",
        "colab": {
          "base_uri": "https://localhost:8080/"
        }
      },
      "outputs": [
        {
          "output_type": "execute_result",
          "data": {
            "text/plain": [
              "{1: 'amit', 2: 'brajesh', 3: 'chetan', 4: 'deepak', 5: 'neeraj'}"
            ]
          },
          "metadata": {},
          "execution_count": 29
        }
      ],
      "source": [
        "student_data"
      ]
    },
    {
      "cell_type": "code",
      "execution_count": 33,
      "id": "f1b6db77-e198-4034-8779-3964cb4d68cf",
      "metadata": {
        "id": "f1b6db77-e198-4034-8779-3964cb4d68cf",
        "outputId": "0c456b3d-e2e2-4dbb-fc19-14ebe26f6f24",
        "colab": {
          "base_uri": "https://localhost:8080/"
        }
      },
      "outputs": [
        {
          "output_type": "stream",
          "name": "stdout",
          "text": [
            "my key is: 1\n",
            "my key is: 2\n",
            "my key is: 3\n",
            "my key is: 4\n",
            "my key is: 5\n"
          ]
        }
      ],
      "source": [
        "for i in student_data:\n",
        "    print(\"my key is:\",i)"
      ]
    },
    {
      "cell_type": "code",
      "execution_count": 34,
      "id": "2a641f14-bd4f-42cb-8428-c04176e623f7",
      "metadata": {
        "id": "2a641f14-bd4f-42cb-8428-c04176e623f7",
        "outputId": "e615a308-330c-42ca-b0aa-4f2287abef73",
        "colab": {
          "base_uri": "https://localhost:8080/"
        }
      },
      "outputs": [
        {
          "output_type": "stream",
          "name": "stdout",
          "text": [
            "my key is: 1\n",
            "my key is: 2\n",
            "my key is: 3\n",
            "my key is: 4\n",
            "my key is: 5\n"
          ]
        }
      ],
      "source": [
        "for i in student_data.keys():\n",
        "    print(\"my key is:\",i)"
      ]
    },
    {
      "cell_type": "code",
      "execution_count": 35,
      "id": "db3f61bf-cd1d-4802-ac61-9417c085a095",
      "metadata": {
        "id": "db3f61bf-cd1d-4802-ac61-9417c085a095",
        "outputId": "c213e34c-917a-4f55-a2f2-92c1c8c06593",
        "colab": {
          "base_uri": "https://localhost:8080/"
        }
      },
      "outputs": [
        {
          "output_type": "stream",
          "name": "stdout",
          "text": [
            "my values is: amit\n",
            "my values is: brajesh\n",
            "my values is: chetan\n",
            "my values is: deepak\n",
            "my values is: neeraj\n"
          ]
        }
      ],
      "source": [
        "for i in student_data.values():\n",
        "    print(\"my values is:\",i)"
      ]
    },
    {
      "cell_type": "code",
      "execution_count": 36,
      "id": "7fd51dbe-2ade-4d99-b721-aaf7d58592c9",
      "metadata": {
        "id": "7fd51dbe-2ade-4d99-b721-aaf7d58592c9",
        "outputId": "818c09d4-a662-4d66-f284-6f378ad1ac1a",
        "colab": {
          "base_uri": "https://localhost:8080/"
        }
      },
      "outputs": [
        {
          "output_type": "stream",
          "name": "stdout",
          "text": [
            "(1, 'amit')\n",
            "(2, 'brajesh')\n",
            "(3, 'chetan')\n",
            "(4, 'deepak')\n",
            "(5, 'neeraj')\n"
          ]
        }
      ],
      "source": [
        "for x in student_data.items():\n",
        "    print(x)"
      ]
    },
    {
      "cell_type": "code",
      "execution_count": 37,
      "id": "ae8ce5f4-6782-4e70-806b-28518fc73756",
      "metadata": {
        "id": "ae8ce5f4-6782-4e70-806b-28518fc73756",
        "outputId": "456c7d6a-f6be-46e0-d0f2-1b27b45fb904",
        "colab": {
          "base_uri": "https://localhost:8080/"
        }
      },
      "outputs": [
        {
          "output_type": "stream",
          "name": "stdout",
          "text": [
            "my key is 1 my value is amit\n",
            "my key is 2 my value is brajesh\n",
            "my key is 3 my value is chetan\n",
            "my key is 4 my value is deepak\n",
            "my key is 5 my value is neeraj\n"
          ]
        }
      ],
      "source": [
        "for x,y in student_data.items():\n",
        "    print(f\"my key is {x} my value is {y}\")"
      ]
    },
    {
      "cell_type": "code",
      "execution_count": 38,
      "id": "4dd9f74a-c6c5-4ea7-9a9f-0881e70e93f2",
      "metadata": {
        "id": "4dd9f74a-c6c5-4ea7-9a9f-0881e70e93f2"
      },
      "outputs": [],
      "source": [
        "student_data={1:\"amit\",2:\"brajesh\",3:\"chetan\",4:\"deepak\",5:\"neeraj\"}"
      ]
    },
    {
      "cell_type": "code",
      "execution_count": 39,
      "id": "6a1d5cf6-43ce-4383-b570-39fb4196607a",
      "metadata": {
        "id": "6a1d5cf6-43ce-4383-b570-39fb4196607a",
        "colab": {
          "base_uri": "https://localhost:8080/",
          "height": 130
        },
        "outputId": "46a50663-cacd-4174-e8ac-4c205a31a162"
      },
      "outputs": [
        {
          "output_type": "error",
          "ename": "SyntaxError",
          "evalue": "ignored",
          "traceback": [
            "\u001b[0;36m  File \u001b[0;32m\"<ipython-input-39-2059f3fbf7b9>\"\u001b[0;36m, line \u001b[0;32m1\u001b[0m\n\u001b[0;31m    if we want to update any new key value pair in dict we use subscript operator or update function.\u001b[0m\n\u001b[0m          ^\u001b[0m\n\u001b[0;31mSyntaxError\u001b[0m\u001b[0;31m:\u001b[0m invalid syntax\n"
          ]
        }
      ],
      "source": [
        "if we want to update any new key value pair in dict we use subscript operator or update function."
      ]
    },
    {
      "cell_type": "code",
      "execution_count": 42,
      "id": "9ce27548-8f46-4572-bce8-1d063551d0d6",
      "metadata": {
        "id": "9ce27548-8f46-4572-bce8-1d063551d0d6"
      },
      "outputs": [],
      "source": [
        "student_data[6]=\"akshay\""
      ]
    },
    {
      "cell_type": "code",
      "execution_count": 43,
      "id": "d127808d-c4a8-4786-b233-3de2c51d2e99",
      "metadata": {
        "id": "d127808d-c4a8-4786-b233-3de2c51d2e99",
        "outputId": "9d0a24a5-0e60-44a7-a378-63c871c9a922",
        "colab": {
          "base_uri": "https://localhost:8080/"
        }
      },
      "outputs": [
        {
          "output_type": "execute_result",
          "data": {
            "text/plain": [
              "{1: 'amit',\n",
              " 2: 'brajesh',\n",
              " 3: 'chetan',\n",
              " 4: 'deepak',\n",
              " 5: 'neeraj',\n",
              " 7: 'zoha',\n",
              " 6: 'akshay'}"
            ]
          },
          "metadata": {},
          "execution_count": 43
        }
      ],
      "source": [
        "student_data"
      ]
    },
    {
      "cell_type": "code",
      "execution_count": 44,
      "id": "b493ae94-a2b5-4e26-b4e5-3ffd65b18eb9",
      "metadata": {
        "id": "b493ae94-a2b5-4e26-b4e5-3ffd65b18eb9"
      },
      "outputs": [],
      "source": [
        "student_data.update({7:\"zoha\"})"
      ]
    },
    {
      "cell_type": "code",
      "execution_count": 45,
      "id": "c7844d0b-f9ac-4a69-b910-6a560915a995",
      "metadata": {
        "id": "c7844d0b-f9ac-4a69-b910-6a560915a995",
        "outputId": "a85aef10-c2f6-4a99-8b9f-7751f9bebb01",
        "colab": {
          "base_uri": "https://localhost:8080/"
        }
      },
      "outputs": [
        {
          "output_type": "execute_result",
          "data": {
            "text/plain": [
              "{1: 'amit',\n",
              " 2: 'brajesh',\n",
              " 3: 'chetan',\n",
              " 4: 'deepak',\n",
              " 5: 'neeraj',\n",
              " 7: 'zoha',\n",
              " 6: 'akshay'}"
            ]
          },
          "metadata": {},
          "execution_count": 45
        }
      ],
      "source": [
        "student_data"
      ]
    },
    {
      "cell_type": "code",
      "execution_count": 46,
      "id": "c76921fa-a8b0-4a95-aef0-2ecd385037d4",
      "metadata": {
        "id": "c76921fa-a8b0-4a95-aef0-2ecd385037d4"
      },
      "outputs": [],
      "source": [
        "student_data[2]=\"narend modi\""
      ]
    },
    {
      "cell_type": "code",
      "execution_count": 47,
      "id": "3a64455f-bb85-4792-bd9a-f3e1f3163f2b",
      "metadata": {
        "id": "3a64455f-bb85-4792-bd9a-f3e1f3163f2b",
        "outputId": "3a6b7ae5-e56c-4390-9e24-e708342a72eb",
        "colab": {
          "base_uri": "https://localhost:8080/"
        }
      },
      "outputs": [
        {
          "output_type": "execute_result",
          "data": {
            "text/plain": [
              "{1: 'amit',\n",
              " 2: 'narend modi',\n",
              " 3: 'chetan',\n",
              " 4: 'deepak',\n",
              " 5: 'neeraj',\n",
              " 7: 'zoha',\n",
              " 6: 'akshay'}"
            ]
          },
          "metadata": {},
          "execution_count": 47
        }
      ],
      "source": [
        "student_data"
      ]
    },
    {
      "cell_type": "markdown",
      "id": "3f357e04-68f4-4b42-b405-987d74a64a78",
      "metadata": {
        "id": "3f357e04-68f4-4b42-b405-987d74a64a78"
      },
      "source": [
        "# if key is not available then it will create new pair if it is avaialble it will be overwrite"
      ]
    },
    {
      "cell_type": "markdown",
      "id": "99228a52-2d63-434a-9518-0c49b9e9f46b",
      "metadata": {
        "id": "99228a52-2d63-434a-9518-0c49b9e9f46b"
      },
      "source": [
        "# function for the dict\n",
        "\n",
        "len()\n",
        "\n",
        "max()\n",
        "\n",
        "min()\n",
        "\n",
        "any()\n",
        "\n",
        "all()\n",
        "\n",
        "sorted()\n",
        "\n",
        "dict()\n"
      ]
    },
    {
      "cell_type": "code",
      "execution_count": 48,
      "id": "4ce60e54-aa53-4909-a807-d2e6db276e6e",
      "metadata": {
        "id": "4ce60e54-aa53-4909-a807-d2e6db276e6e"
      },
      "outputs": [],
      "source": [
        "sixMonths = {\"Jan\":31, \"Feb\":28, \"Mar\":31, \"Apr\":30, \"May\":31, \"Jun\":30}\n"
      ]
    },
    {
      "cell_type": "code",
      "execution_count": 49,
      "id": "21489879-ad65-4cdb-8e2c-270e2a03fb9a",
      "metadata": {
        "id": "21489879-ad65-4cdb-8e2c-270e2a03fb9a",
        "outputId": "7aaae5c5-0b5e-4e87-a2d6-46e04018f18c",
        "colab": {
          "base_uri": "https://localhost:8080/"
        }
      },
      "outputs": [
        {
          "output_type": "execute_result",
          "data": {
            "text/plain": [
              "{'Jan': 31, 'Feb': 28, 'Mar': 31, 'Apr': 30, 'May': 31, 'Jun': 30}"
            ]
          },
          "metadata": {},
          "execution_count": 49
        }
      ],
      "source": [
        "sixMonths"
      ]
    },
    {
      "cell_type": "code",
      "execution_count": 50,
      "id": "433476ec-3c87-47fd-9d5f-7b97af5bb29e",
      "metadata": {
        "id": "433476ec-3c87-47fd-9d5f-7b97af5bb29e",
        "outputId": "89c8f2bf-8cb3-42e9-d55f-c4582b886e22",
        "colab": {
          "base_uri": "https://localhost:8080/"
        }
      },
      "outputs": [
        {
          "output_type": "execute_result",
          "data": {
            "text/plain": [
              "dict_keys(['Jan', 'Feb', 'Mar', 'Apr', 'May', 'Jun'])"
            ]
          },
          "metadata": {},
          "execution_count": 50
        }
      ],
      "source": [
        "sixMonths.keys()"
      ]
    },
    {
      "cell_type": "code",
      "execution_count": 51,
      "id": "00e06530-7339-43c6-a284-684e325e4aa3",
      "metadata": {
        "id": "00e06530-7339-43c6-a284-684e325e4aa3",
        "outputId": "f4d3f3ec-066a-4923-81a7-8b3b64ab8696",
        "colab": {
          "base_uri": "https://localhost:8080/"
        }
      },
      "outputs": [
        {
          "output_type": "execute_result",
          "data": {
            "text/plain": [
              "dict_values([31, 28, 31, 30, 31, 30])"
            ]
          },
          "metadata": {},
          "execution_count": 51
        }
      ],
      "source": [
        "sixMonths.values()"
      ]
    },
    {
      "cell_type": "code",
      "execution_count": 52,
      "id": "f0aaf50a-70b8-4f3c-a537-fd19c3f0aabf",
      "metadata": {
        "id": "f0aaf50a-70b8-4f3c-a537-fd19c3f0aabf",
        "outputId": "a8d41b0e-6293-464d-d185-c15bf2bca716",
        "colab": {
          "base_uri": "https://localhost:8080/"
        }
      },
      "outputs": [
        {
          "output_type": "execute_result",
          "data": {
            "text/plain": [
              "dict_items([('Jan', 31), ('Feb', 28), ('Mar', 31), ('Apr', 30), ('May', 31), ('Jun', 30)])"
            ]
          },
          "metadata": {},
          "execution_count": 52
        }
      ],
      "source": [
        "sixMonths.items()"
      ]
    },
    {
      "cell_type": "code",
      "execution_count": 53,
      "id": "e1683972-08b9-42ca-bc93-4395c4cff14f",
      "metadata": {
        "id": "e1683972-08b9-42ca-bc93-4395c4cff14f",
        "outputId": "734e42e4-4739-438e-f79f-f30c2e24861f",
        "colab": {
          "base_uri": "https://localhost:8080/"
        }
      },
      "outputs": [
        {
          "output_type": "execute_result",
          "data": {
            "text/plain": [
              "6"
            ]
          },
          "metadata": {},
          "execution_count": 53
        }
      ],
      "source": [
        "len(sixMonths)"
      ]
    },
    {
      "cell_type": "code",
      "execution_count": 54,
      "id": "d1c0d456-7b5b-47f9-8168-839379409a81",
      "metadata": {
        "id": "d1c0d456-7b5b-47f9-8168-839379409a81",
        "outputId": "fd5c838d-f0c0-4775-ffd9-f37ddb714345",
        "colab": {
          "base_uri": "https://localhost:8080/",
          "height": 35
        }
      },
      "outputs": [
        {
          "output_type": "execute_result",
          "data": {
            "text/plain": [
              "'May'"
            ],
            "application/vnd.google.colaboratory.intrinsic+json": {
              "type": "string"
            }
          },
          "metadata": {},
          "execution_count": 54
        }
      ],
      "source": [
        "max(sixMonths)"
      ]
    },
    {
      "cell_type": "code",
      "execution_count": null,
      "id": "8d3b6272-bed5-4880-8495-40a8e39e11a3",
      "metadata": {
        "id": "8d3b6272-bed5-4880-8495-40a8e39e11a3"
      },
      "outputs": [],
      "source": [
        "m will be greater among all\n",
        "\n",
        "lexiographic comaprison\n",
        "\n",
        "a >b < c"
      ]
    },
    {
      "cell_type": "code",
      "execution_count": 55,
      "id": "a7c40cf6-0e1b-4372-b7f7-fefd4131d48c",
      "metadata": {
        "id": "a7c40cf6-0e1b-4372-b7f7-fefd4131d48c",
        "colab": {
          "base_uri": "https://localhost:8080/",
          "height": 130
        },
        "outputId": "10e86c95-a370-459b-b4cc-82e735f4fbee"
      },
      "outputs": [
        {
          "output_type": "error",
          "ename": "SyntaxError",
          "evalue": "ignored",
          "traceback": [
            "\u001b[0;36m  File \u001b[0;32m\"<ipython-input-55-6e9983cbbdd4>\"\u001b[0;36m, line \u001b[0;32m1\u001b[0m\n\u001b[0;31m    a b c d e f g h i j k l m n o\u001b[0m\n\u001b[0m      ^\u001b[0m\n\u001b[0;31mSyntaxError\u001b[0m\u001b[0;31m:\u001b[0m invalid syntax\n"
          ]
        }
      ],
      "source": [
        "a b c d e f g h i j k l m n o"
      ]
    },
    {
      "cell_type": "code",
      "execution_count": 56,
      "id": "a0ed04b4-5547-45d0-82d4-812bdee432e4",
      "metadata": {
        "id": "a0ed04b4-5547-45d0-82d4-812bdee432e4",
        "outputId": "520abb57-a024-471c-80e6-6018e21c4281",
        "colab": {
          "base_uri": "https://localhost:8080/"
        }
      },
      "outputs": [
        {
          "output_type": "execute_result",
          "data": {
            "text/plain": [
              "31"
            ]
          },
          "metadata": {},
          "execution_count": 56
        }
      ],
      "source": [
        "max(sixMonths.values())"
      ]
    },
    {
      "cell_type": "code",
      "execution_count": 57,
      "id": "98e93161-c92f-489e-b344-4327cbbee55b",
      "metadata": {
        "id": "98e93161-c92f-489e-b344-4327cbbee55b",
        "outputId": "8e01c3c1-14c7-4190-b5bf-8de068feca2b",
        "colab": {
          "base_uri": "https://localhost:8080/",
          "height": 35
        }
      },
      "outputs": [
        {
          "output_type": "execute_result",
          "data": {
            "text/plain": [
              "'Apr'"
            ],
            "application/vnd.google.colaboratory.intrinsic+json": {
              "type": "string"
            }
          },
          "metadata": {},
          "execution_count": 57
        }
      ],
      "source": [
        "min(sixMonths)"
      ]
    },
    {
      "cell_type": "code",
      "execution_count": 58,
      "id": "be8e2848-d20a-4202-8328-055ebe600854",
      "metadata": {
        "id": "be8e2848-d20a-4202-8328-055ebe600854",
        "outputId": "c25b3f9f-b5d7-420b-e02b-5d718d8e9f7c",
        "colab": {
          "base_uri": "https://localhost:8080/"
        }
      },
      "outputs": [
        {
          "output_type": "execute_result",
          "data": {
            "text/plain": [
              "[28, 30, 30, 31, 31, 31]"
            ]
          },
          "metadata": {},
          "execution_count": 58
        }
      ],
      "source": [
        "sorted(sixMonths.values())"
      ]
    },
    {
      "cell_type": "code",
      "execution_count": 59,
      "id": "1e217618-395b-4e3f-bb85-7cac18e5e6fe",
      "metadata": {
        "id": "1e217618-395b-4e3f-bb85-7cac18e5e6fe",
        "outputId": "2871b15b-af97-41fa-f4f2-7045a9afc6f6",
        "colab": {
          "base_uri": "https://localhost:8080/"
        }
      },
      "outputs": [
        {
          "output_type": "execute_result",
          "data": {
            "text/plain": [
              "True"
            ]
          },
          "metadata": {},
          "execution_count": 59
        }
      ],
      "source": [
        "# homework\n",
        "any(sixMonths)"
      ]
    },
    {
      "cell_type": "code",
      "execution_count": 60,
      "id": "0fd97921-459f-44aa-b050-21c606585f08",
      "metadata": {
        "id": "0fd97921-459f-44aa-b050-21c606585f08",
        "outputId": "83c8e50f-beab-4803-aa5b-fa333a713dd3",
        "colab": {
          "base_uri": "https://localhost:8080/"
        }
      },
      "outputs": [
        {
          "output_type": "execute_result",
          "data": {
            "text/plain": [
              "True"
            ]
          },
          "metadata": {},
          "execution_count": 60
        }
      ],
      "source": [
        "#homework\n",
        "all(sixMonths)"
      ]
    },
    {
      "cell_type": "markdown",
      "id": "0d336147-8ec3-4df5-a643-4d3e7e418bbb",
      "metadata": {
        "id": "0d336147-8ec3-4df5-a643-4d3e7e418bbb"
      },
      "source": [
        "# methods in dictionary\n",
        "\n",
        "clear()\n",
        "\n",
        "copy()\n",
        "\n",
        "setdefault()\n",
        "\n",
        "get()# alredy discussed\n",
        "\n",
        "keys()# already discussed\n",
        "\n",
        "values()# already discussed\n",
        "\n",
        "items() # already discussed\n",
        "\n",
        "updated() # already discussed\n",
        "\n",
        "pop()# marked\n",
        "\n",
        "popitem()#marked"
      ]
    },
    {
      "cell_type": "code",
      "execution_count": 61,
      "id": "2db4b67b-53e0-45d1-8d0b-7fc4402d2daf",
      "metadata": {
        "id": "2db4b67b-53e0-45d1-8d0b-7fc4402d2daf"
      },
      "outputs": [],
      "source": [
        "sixMonths = {\"Jan\":31, \"Feb\":28, \"Mar\":31, \"Apr\":30, \"May\":31, \"Jun\":30}\n"
      ]
    },
    {
      "cell_type": "code",
      "execution_count": 62,
      "id": "d35a1b73-a422-402c-be65-550d5c079062",
      "metadata": {
        "id": "d35a1b73-a422-402c-be65-550d5c079062",
        "outputId": "eacf3d5f-2b8f-4378-e355-465c8fe78eed",
        "colab": {
          "base_uri": "https://localhost:8080/"
        }
      },
      "outputs": [
        {
          "output_type": "execute_result",
          "data": {
            "text/plain": [
              "{'Jan': 31, 'Feb': 28, 'Mar': 31, 'Apr': 30, 'May': 31, 'Jun': 30}"
            ]
          },
          "metadata": {},
          "execution_count": 62
        }
      ],
      "source": [
        "sixMonths"
      ]
    },
    {
      "cell_type": "code",
      "execution_count": 63,
      "id": "c02c0251-e2ca-48ce-98fc-736c26c7a378",
      "metadata": {
        "id": "c02c0251-e2ca-48ce-98fc-736c26c7a378",
        "outputId": "5c93f8e1-21ad-4b27-89b9-2fe8cb991e01",
        "colab": {
          "base_uri": "https://localhost:8080/"
        }
      },
      "outputs": [
        {
          "output_type": "execute_result",
          "data": {
            "text/plain": [
              "31"
            ]
          },
          "metadata": {},
          "execution_count": 63
        }
      ],
      "source": [
        "sixMonths.pop(\"Jan\")"
      ]
    },
    {
      "cell_type": "code",
      "execution_count": 64,
      "id": "ae6325b8-d7f0-4b1e-a3ee-b89aaede9bdf",
      "metadata": {
        "id": "ae6325b8-d7f0-4b1e-a3ee-b89aaede9bdf",
        "outputId": "0860f358-6de3-4275-a5e2-c8d4f163c475",
        "colab": {
          "base_uri": "https://localhost:8080/"
        }
      },
      "outputs": [
        {
          "output_type": "execute_result",
          "data": {
            "text/plain": [
              "{'Feb': 28, 'Mar': 31, 'Apr': 30, 'May': 31, 'Jun': 30}"
            ]
          },
          "metadata": {},
          "execution_count": 64
        }
      ],
      "source": [
        "sixMonths"
      ]
    },
    {
      "cell_type": "code",
      "execution_count": 65,
      "id": "db53f10b-0711-4fe1-9f1d-06825e8e2c6d",
      "metadata": {
        "id": "db53f10b-0711-4fe1-9f1d-06825e8e2c6d",
        "outputId": "bd8ba455-0a48-4377-8f85-96aa869130ad",
        "colab": {
          "base_uri": "https://localhost:8080/",
          "height": 165
        }
      },
      "outputs": [
        {
          "output_type": "error",
          "ename": "KeyError",
          "evalue": "ignored",
          "traceback": [
            "\u001b[0;31m---------------------------------------------------------------------------\u001b[0m",
            "\u001b[0;31mKeyError\u001b[0m                                  Traceback (most recent call last)",
            "\u001b[0;32m<ipython-input-65-78c82c07ca3c>\u001b[0m in \u001b[0;36m<module>\u001b[0;34m\u001b[0m\n\u001b[0;32m----> 1\u001b[0;31m \u001b[0msixMonths\u001b[0m\u001b[0;34m.\u001b[0m\u001b[0mpop\u001b[0m\u001b[0;34m(\u001b[0m\u001b[0;34m\"nov\"\u001b[0m\u001b[0;34m)\u001b[0m\u001b[0;34m\u001b[0m\u001b[0;34m\u001b[0m\u001b[0m\n\u001b[0m",
            "\u001b[0;31mKeyError\u001b[0m: 'nov'"
          ]
        }
      ],
      "source": [
        "sixMonths.pop(\"nov\")"
      ]
    },
    {
      "cell_type": "code",
      "execution_count": 66,
      "id": "3e899b63-788a-49c4-9490-9a4b13a858b9",
      "metadata": {
        "id": "3e899b63-788a-49c4-9490-9a4b13a858b9",
        "outputId": "978c78d0-474c-4f5f-961d-24d88f143386",
        "colab": {
          "base_uri": "https://localhost:8080/",
          "height": 35
        }
      },
      "outputs": [
        {
          "output_type": "execute_result",
          "data": {
            "text/plain": [
              "'not found'"
            ],
            "application/vnd.google.colaboratory.intrinsic+json": {
              "type": "string"
            }
          },
          "metadata": {},
          "execution_count": 66
        }
      ],
      "source": [
        "sixMonths.pop(\"nov\",\"not found\")"
      ]
    },
    {
      "cell_type": "code",
      "execution_count": 67,
      "id": "409b717a-3a9d-4f44-a5c3-c987e81542a9",
      "metadata": {
        "id": "409b717a-3a9d-4f44-a5c3-c987e81542a9",
        "outputId": "69dfc3d2-55ac-4a63-fc63-05771e338b6a",
        "colab": {
          "base_uri": "https://localhost:8080/"
        }
      },
      "outputs": [
        {
          "output_type": "execute_result",
          "data": {
            "text/plain": [
              "28"
            ]
          },
          "metadata": {},
          "execution_count": 67
        }
      ],
      "source": [
        "sixMonths.pop(\"Feb\",\"not found\")"
      ]
    },
    {
      "cell_type": "code",
      "execution_count": 68,
      "id": "a88061bf-b590-49a1-b259-4666d57fb2b4",
      "metadata": {
        "id": "a88061bf-b590-49a1-b259-4666d57fb2b4",
        "outputId": "84912735-b5a7-4c12-e9f9-749aa0f8f915",
        "colab": {
          "base_uri": "https://localhost:8080/"
        }
      },
      "outputs": [
        {
          "output_type": "execute_result",
          "data": {
            "text/plain": [
              "{'Mar': 31, 'Apr': 30, 'May': 31, 'Jun': 30}"
            ]
          },
          "metadata": {},
          "execution_count": 68
        }
      ],
      "source": [
        "sixMonths"
      ]
    },
    {
      "cell_type": "code",
      "execution_count": 69,
      "id": "b158c0b0-a332-4295-95f6-0f7a3beb6e48",
      "metadata": {
        "id": "b158c0b0-a332-4295-95f6-0f7a3beb6e48",
        "outputId": "28f6ab8d-bb48-45f0-b374-f83a27cc4d27",
        "colab": {
          "base_uri": "https://localhost:8080/",
          "height": 35
        }
      },
      "outputs": [
        {
          "output_type": "execute_result",
          "data": {
            "text/plain": [
              "'not found'"
            ],
            "application/vnd.google.colaboratory.intrinsic+json": {
              "type": "string"
            }
          },
          "metadata": {},
          "execution_count": 69
        }
      ],
      "source": [
        "sixMonths.pop(\"oct\",\"not found\")"
      ]
    },
    {
      "cell_type": "code",
      "execution_count": 70,
      "id": "9237e9aa-4477-4fc2-8d11-bad218601991",
      "metadata": {
        "id": "9237e9aa-4477-4fc2-8d11-bad218601991",
        "outputId": "79ffed0e-b807-4fea-fefc-64ae65a03f1e",
        "colab": {
          "base_uri": "https://localhost:8080/"
        }
      },
      "outputs": [
        {
          "output_type": "execute_result",
          "data": {
            "text/plain": [
              "{'Mar': 31, 'Apr': 30, 'May': 31, 'Jun': 30}"
            ]
          },
          "metadata": {},
          "execution_count": 70
        }
      ],
      "source": [
        "sixMonths\n"
      ]
    },
    {
      "cell_type": "code",
      "execution_count": 71,
      "id": "c6f4c737-45f7-40c3-a557-1dc37a14e8b1",
      "metadata": {
        "id": "c6f4c737-45f7-40c3-a557-1dc37a14e8b1",
        "outputId": "d52ce865-d606-4eef-fe09-9c5da216606a",
        "colab": {
          "base_uri": "https://localhost:8080/"
        }
      },
      "outputs": [
        {
          "output_type": "execute_result",
          "data": {
            "text/plain": [
              "('Jun', 30)"
            ]
          },
          "metadata": {},
          "execution_count": 71
        }
      ],
      "source": [
        "sixMonths.popitem()"
      ]
    },
    {
      "cell_type": "code",
      "execution_count": 72,
      "id": "8c59c53d-c39a-40d6-b0e3-36b394b5da58",
      "metadata": {
        "id": "8c59c53d-c39a-40d6-b0e3-36b394b5da58",
        "outputId": "2516fcf8-7f98-4eb9-8456-903a9d3338c3",
        "colab": {
          "base_uri": "https://localhost:8080/"
        }
      },
      "outputs": [
        {
          "output_type": "execute_result",
          "data": {
            "text/plain": [
              "{'Mar': 31, 'Apr': 30, 'May': 31}"
            ]
          },
          "metadata": {},
          "execution_count": 72
        }
      ],
      "source": [
        "sixMonths"
      ]
    },
    {
      "cell_type": "code",
      "execution_count": 73,
      "id": "a70644d2-c6d8-4660-af6a-4bd46e518e4b",
      "metadata": {
        "id": "a70644d2-c6d8-4660-af6a-4bd46e518e4b",
        "outputId": "e4f102e7-b1ff-422a-aea5-d27962abde92",
        "colab": {
          "base_uri": "https://localhost:8080/"
        }
      },
      "outputs": [
        {
          "output_type": "execute_result",
          "data": {
            "text/plain": [
              "('May', 31)"
            ]
          },
          "metadata": {},
          "execution_count": 73
        }
      ],
      "source": [
        "sixMonths.popitem()"
      ]
    },
    {
      "cell_type": "code",
      "execution_count": 74,
      "id": "a74e2f7c-e065-4af1-892f-6e5a683b175d",
      "metadata": {
        "id": "a74e2f7c-e065-4af1-892f-6e5a683b175d",
        "outputId": "d0acdc08-8294-4bc8-a460-edba436584f3",
        "colab": {
          "base_uri": "https://localhost:8080/"
        }
      },
      "outputs": [
        {
          "output_type": "execute_result",
          "data": {
            "text/plain": [
              "{'Mar': 31, 'Apr': 30}"
            ]
          },
          "metadata": {},
          "execution_count": 74
        }
      ],
      "source": [
        "sixMonths"
      ]
    },
    {
      "cell_type": "code",
      "execution_count": null,
      "id": "fa03c5da-b226-4ceb-80be-fdb2fc7ae735",
      "metadata": {
        "id": "fa03c5da-b226-4ceb-80be-fdb2fc7ae735"
      },
      "outputs": [],
      "source": [
        "pop and popitem is clear"
      ]
    },
    {
      "cell_type": "code",
      "execution_count": 75,
      "id": "7cfd440f-b87a-4b1a-9aa5-bd8b087bdbc6",
      "metadata": {
        "id": "7cfd440f-b87a-4b1a-9aa5-bd8b087bdbc6"
      },
      "outputs": [],
      "source": [
        "sixMonths = {\"Jan\":31, \"Feb\":28, \"Mar\":31, \"Apr\":30, \"May\":31, \"Jun\":30}"
      ]
    },
    {
      "cell_type": "code",
      "execution_count": 76,
      "id": "608bb5fb-cc1d-47d2-b455-d974c61335e0",
      "metadata": {
        "id": "608bb5fb-cc1d-47d2-b455-d974c61335e0"
      },
      "outputs": [],
      "source": [
        "sixMonths.clear()"
      ]
    },
    {
      "cell_type": "code",
      "execution_count": 77,
      "id": "7cd1bde1-09b9-4583-a352-d3ce4a0f2344",
      "metadata": {
        "id": "7cd1bde1-09b9-4583-a352-d3ce4a0f2344",
        "outputId": "f035b8a9-972d-48c6-b452-2fa20dc0efb0",
        "colab": {
          "base_uri": "https://localhost:8080/"
        }
      },
      "outputs": [
        {
          "output_type": "execute_result",
          "data": {
            "text/plain": [
              "{}"
            ]
          },
          "metadata": {},
          "execution_count": 77
        }
      ],
      "source": [
        "sixMonths"
      ]
    },
    {
      "cell_type": "code",
      "execution_count": 78,
      "id": "89c371de-77ee-4b6e-a285-40ac5210b091",
      "metadata": {
        "id": "89c371de-77ee-4b6e-a285-40ac5210b091"
      },
      "outputs": [],
      "source": [
        "orignal={1:\"one\",2:\"two\",3:\"three\"}"
      ]
    },
    {
      "cell_type": "code",
      "execution_count": 79,
      "id": "519eaaa6-0872-40c1-a172-931831afd541",
      "metadata": {
        "id": "519eaaa6-0872-40c1-a172-931831afd541"
      },
      "outputs": [],
      "source": [
        "new=orignal.copy()"
      ]
    },
    {
      "cell_type": "code",
      "execution_count": 80,
      "id": "29fb72f1-6e26-49cd-bc05-1fe462983b43",
      "metadata": {
        "id": "29fb72f1-6e26-49cd-bc05-1fe462983b43",
        "outputId": "27031c8e-a656-4eda-c302-6c854ad9afd4",
        "colab": {
          "base_uri": "https://localhost:8080/"
        }
      },
      "outputs": [
        {
          "output_type": "execute_result",
          "data": {
            "text/plain": [
              "{1: 'one', 2: 'two', 3: 'three'}"
            ]
          },
          "metadata": {},
          "execution_count": 80
        }
      ],
      "source": [
        "new"
      ]
    },
    {
      "cell_type": "markdown",
      "id": "0efce232-6f7c-47e4-8ae3-72e6fa0fc742",
      "metadata": {
        "id": "0efce232-6f7c-47e4-8ae3-72e6fa0fc742"
      },
      "source": [
        "# what is a difference between deep copy and shallow copy?"
      ]
    },
    {
      "cell_type": "code",
      "execution_count": 81,
      "id": "ad823ab1-795b-4fbf-a62f-fc08f4a0ecac",
      "metadata": {
        "id": "ad823ab1-795b-4fbf-a62f-fc08f4a0ecac"
      },
      "outputs": [],
      "source": [
        "cars = {\"Maruti\":\"Ciaz\",\"Hyundai\":\"Verna\",\"Honda\":\"Amaze\"}\n"
      ]
    },
    {
      "cell_type": "code",
      "execution_count": 82,
      "id": "dd97e340-ca54-4891-92c8-6a899446f4c8",
      "metadata": {
        "id": "dd97e340-ca54-4891-92c8-6a899446f4c8"
      },
      "outputs": [],
      "source": [
        "value=cars.setdefault(\"Hyundai\")"
      ]
    },
    {
      "cell_type": "code",
      "execution_count": 83,
      "id": "7542ce66-7fa5-4584-9e75-bf76a22b43a2",
      "metadata": {
        "id": "7542ce66-7fa5-4584-9e75-bf76a22b43a2",
        "outputId": "4a731e1a-6c7c-44c7-9027-8f0039b57440",
        "colab": {
          "base_uri": "https://localhost:8080/",
          "height": 35
        }
      },
      "outputs": [
        {
          "output_type": "execute_result",
          "data": {
            "text/plain": [
              "'Verna'"
            ],
            "application/vnd.google.colaboratory.intrinsic+json": {
              "type": "string"
            }
          },
          "metadata": {},
          "execution_count": 83
        }
      ],
      "source": [
        "value"
      ]
    },
    {
      "cell_type": "code",
      "execution_count": 84,
      "id": "0b6b8673-2d9d-47ca-a9d9-6f9fccdbb5ab",
      "metadata": {
        "id": "0b6b8673-2d9d-47ca-a9d9-6f9fccdbb5ab"
      },
      "outputs": [],
      "source": [
        "value=cars.setdefault(\"Hyundai\",\"i20\")"
      ]
    },
    {
      "cell_type": "code",
      "execution_count": 85,
      "id": "fc2cef0b-164d-4c5a-9548-e2c50e6af71a",
      "metadata": {
        "id": "fc2cef0b-164d-4c5a-9548-e2c50e6af71a",
        "outputId": "2eabda22-4639-42e8-b252-345b07352495",
        "colab": {
          "base_uri": "https://localhost:8080/",
          "height": 35
        }
      },
      "outputs": [
        {
          "output_type": "execute_result",
          "data": {
            "text/plain": [
              "'Verna'"
            ],
            "application/vnd.google.colaboratory.intrinsic+json": {
              "type": "string"
            }
          },
          "metadata": {},
          "execution_count": 85
        }
      ],
      "source": [
        "value"
      ]
    },
    {
      "cell_type": "code",
      "execution_count": 86,
      "id": "457fd555-91af-4d6e-bc46-ee4ac38495a4",
      "metadata": {
        "id": "457fd555-91af-4d6e-bc46-ee4ac38495a4"
      },
      "outputs": [],
      "source": [
        "value=cars.setdefault(\"Renault\")"
      ]
    },
    {
      "cell_type": "code",
      "execution_count": 87,
      "id": "d1d112c5-25d2-4294-b017-6ad05f9f11db",
      "metadata": {
        "id": "d1d112c5-25d2-4294-b017-6ad05f9f11db"
      },
      "outputs": [],
      "source": [
        "value"
      ]
    },
    {
      "cell_type": "code",
      "execution_count": 88,
      "id": "1a4c375c-4399-42f5-a656-1968f816d399",
      "metadata": {
        "id": "1a4c375c-4399-42f5-a656-1968f816d399",
        "outputId": "dd8dd91e-8129-4c42-9cb9-2ec2bafbcac9",
        "colab": {
          "base_uri": "https://localhost:8080/"
        }
      },
      "outputs": [
        {
          "output_type": "execute_result",
          "data": {
            "text/plain": [
              "{'Maruti': 'Ciaz', 'Hyundai': 'Verna', 'Honda': 'Amaze', 'Renault': None}"
            ]
          },
          "metadata": {},
          "execution_count": 88
        }
      ],
      "source": [
        "cars"
      ]
    },
    {
      "cell_type": "code",
      "execution_count": 89,
      "id": "f967df17-a90d-4423-a54c-6b401dd26823",
      "metadata": {
        "id": "f967df17-a90d-4423-a54c-6b401dd26823"
      },
      "outputs": [],
      "source": [
        "value=cars.setdefault(\"Renault\",\"duster\")"
      ]
    },
    {
      "cell_type": "code",
      "execution_count": 90,
      "id": "f10200d3-b58e-45c1-8309-b420a7b09bc4",
      "metadata": {
        "id": "f10200d3-b58e-45c1-8309-b420a7b09bc4"
      },
      "outputs": [],
      "source": [
        "cars[\"Renault\"]=\"duster\""
      ]
    },
    {
      "cell_type": "code",
      "execution_count": 91,
      "id": "7e02f4d4-daca-494f-aac5-3203c80c21aa",
      "metadata": {
        "id": "7e02f4d4-daca-494f-aac5-3203c80c21aa",
        "outputId": "3d81cb32-31b4-4714-cc2a-b6b9d58102d9",
        "colab": {
          "base_uri": "https://localhost:8080/"
        }
      },
      "outputs": [
        {
          "output_type": "execute_result",
          "data": {
            "text/plain": [
              "{'Maruti': 'Ciaz', 'Hyundai': 'Verna', 'Honda': 'Amaze', 'Renault': 'duster'}"
            ]
          },
          "metadata": {},
          "execution_count": 91
        }
      ],
      "source": [
        "cars"
      ]
    },
    {
      "cell_type": "code",
      "execution_count": 92,
      "id": "acb89e61-9d5d-4aed-a65c-0b90a1e1fa9a",
      "metadata": {
        "id": "acb89e61-9d5d-4aed-a65c-0b90a1e1fa9a"
      },
      "outputs": [],
      "source": [
        "value=cars.setdefault(\"Audi\",\"Q7\")"
      ]
    },
    {
      "cell_type": "code",
      "execution_count": 93,
      "id": "efa5f44e-ff6e-4709-88f9-6e2dd10289ec",
      "metadata": {
        "id": "efa5f44e-ff6e-4709-88f9-6e2dd10289ec",
        "outputId": "fc754a71-e7f6-40fa-c28e-f843bfc503b3",
        "colab": {
          "base_uri": "https://localhost:8080/",
          "height": 35
        }
      },
      "outputs": [
        {
          "output_type": "execute_result",
          "data": {
            "text/plain": [
              "'Q7'"
            ],
            "application/vnd.google.colaboratory.intrinsic+json": {
              "type": "string"
            }
          },
          "metadata": {},
          "execution_count": 93
        }
      ],
      "source": [
        "value"
      ]
    },
    {
      "cell_type": "code",
      "execution_count": 94,
      "id": "ba5bb7e6-91a0-4742-b26b-18661317a7ad",
      "metadata": {
        "id": "ba5bb7e6-91a0-4742-b26b-18661317a7ad",
        "outputId": "225695ad-e437-43d6-a7bd-c2f658859232",
        "colab": {
          "base_uri": "https://localhost:8080/",
          "height": 35
        }
      },
      "outputs": [
        {
          "output_type": "execute_result",
          "data": {
            "text/plain": [
              "'Q7'"
            ],
            "application/vnd.google.colaboratory.intrinsic+json": {
              "type": "string"
            }
          },
          "metadata": {},
          "execution_count": 94
        }
      ],
      "source": [
        "value"
      ]
    },
    {
      "cell_type": "code",
      "execution_count": 95,
      "id": "33051e41-0423-4efb-8439-db8e9e93cef3",
      "metadata": {
        "id": "33051e41-0423-4efb-8439-db8e9e93cef3",
        "outputId": "6a5941ca-8c2c-43da-cc88-88d0e5992875",
        "colab": {
          "base_uri": "https://localhost:8080/"
        }
      },
      "outputs": [
        {
          "output_type": "execute_result",
          "data": {
            "text/plain": [
              "{'Maruti': 'Ciaz',\n",
              " 'Hyundai': 'Verna',\n",
              " 'Honda': 'Amaze',\n",
              " 'Renault': 'duster',\n",
              " 'Audi': 'Q7'}"
            ]
          },
          "metadata": {},
          "execution_count": 95
        }
      ],
      "source": [
        "cars"
      ]
    },
    {
      "cell_type": "code",
      "execution_count": 96,
      "id": "6859199e-31dc-4a11-b175-788ad82da562",
      "metadata": {
        "id": "6859199e-31dc-4a11-b175-788ad82da562"
      },
      "outputs": [],
      "source": [
        "cars.setdefault(\"Mahindra\")"
      ]
    },
    {
      "cell_type": "code",
      "execution_count": 97,
      "id": "23f8d8f4-462a-44a6-897f-aa242a7ee242",
      "metadata": {
        "id": "23f8d8f4-462a-44a6-897f-aa242a7ee242",
        "outputId": "fac65919-fed9-4afc-bb8c-18a393c09aef",
        "colab": {
          "base_uri": "https://localhost:8080/"
        }
      },
      "outputs": [
        {
          "output_type": "execute_result",
          "data": {
            "text/plain": [
              "{'Maruti': 'Ciaz',\n",
              " 'Hyundai': 'Verna',\n",
              " 'Honda': 'Amaze',\n",
              " 'Renault': 'duster',\n",
              " 'Audi': 'Q7',\n",
              " 'Mahindra': None}"
            ]
          },
          "metadata": {},
          "execution_count": 97
        }
      ],
      "source": [
        "cars"
      ]
    },
    {
      "cell_type": "code",
      "execution_count": 98,
      "id": "a61df796-30d7-4e98-8037-052ad6e26b52",
      "metadata": {
        "id": "a61df796-30d7-4e98-8037-052ad6e26b52"
      },
      "outputs": [],
      "source": [
        "value=cars.setdefault(\"Mahindra\")"
      ]
    },
    {
      "cell_type": "code",
      "execution_count": 99,
      "id": "c81e213f-b2ac-4fba-9c6f-2903612bc6eb",
      "metadata": {
        "id": "c81e213f-b2ac-4fba-9c6f-2903612bc6eb"
      },
      "outputs": [],
      "source": [
        "value"
      ]
    },
    {
      "cell_type": "code",
      "execution_count": 100,
      "id": "94b49395-2a3e-4a5b-b888-86c555c252aa",
      "metadata": {
        "id": "94b49395-2a3e-4a5b-b888-86c555c252aa"
      },
      "outputs": [],
      "source": [
        "value=cars.setdefault(\"bmw\",\"m5\")"
      ]
    },
    {
      "cell_type": "code",
      "execution_count": 101,
      "id": "dc1db3f5-3ae7-44e2-b7cf-a93113c1ba4f",
      "metadata": {
        "id": "dc1db3f5-3ae7-44e2-b7cf-a93113c1ba4f",
        "outputId": "5d6cdc38-9b06-4c77-856a-94ab1b862001",
        "colab": {
          "base_uri": "https://localhost:8080/",
          "height": 35
        }
      },
      "outputs": [
        {
          "output_type": "execute_result",
          "data": {
            "text/plain": [
              "'m5'"
            ],
            "application/vnd.google.colaboratory.intrinsic+json": {
              "type": "string"
            }
          },
          "metadata": {},
          "execution_count": 101
        }
      ],
      "source": [
        "value"
      ]
    },
    {
      "cell_type": "code",
      "execution_count": null,
      "id": "20952f01-15df-457e-9d20-8966650f80a4",
      "metadata": {
        "id": "20952f01-15df-457e-9d20-8966650f80a4"
      },
      "outputs": [],
      "source": [
        "#kwargs\n",
        "#functions\n",
        "#oops"
      ]
    }
  ],
  "metadata": {
    "kernelspec": {
      "display_name": "Python 3 (ipykernel)",
      "language": "python",
      "name": "python3"
    },
    "language_info": {
      "codemirror_mode": {
        "name": "ipython",
        "version": 3
      },
      "file_extension": ".py",
      "mimetype": "text/x-python",
      "name": "python",
      "nbconvert_exporter": "python",
      "pygments_lexer": "ipython3",
      "version": "3.10.6"
    },
    "colab": {
      "provenance": []
    }
  },
  "nbformat": 4,
  "nbformat_minor": 5
}