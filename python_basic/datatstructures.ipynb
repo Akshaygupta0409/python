{
  "cells": [
    {
      "cell_type": "code",
      "execution_count": null,
      "id": "79d83003-5ad3-4ec9-93fb-3fa307cec369",
      "metadata": {
        "id": "79d83003-5ad3-4ec9-93fb-3fa307cec369"
      },
      "outputs": [],
      "source": [
        "#empty list\n",
        "#we represent the list with squre bracket\n",
        "mylist=[]"
      ]
    },
    {
      "cell_type": "code",
      "execution_count": null,
      "id": "dff17797-a631-48e7-9528-b4c89bb898fc",
      "metadata": {
        "id": "dff17797-a631-48e7-9528-b4c89bb898fc",
        "outputId": "bfa919ab-b6a1-4332-fad1-30c731a7c7f7"
      },
      "outputs": [
        {
          "data": {
            "text/plain": [
              "[]"
            ]
          },
          "execution_count": 2,
          "metadata": {},
          "output_type": "execute_result"
        }
      ],
      "source": [
        "mylist"
      ]
    },
    {
      "cell_type": "code",
      "execution_count": null,
      "id": "d593829e-05c3-4192-ac29-5f55255cbd64",
      "metadata": {
        "id": "d593829e-05c3-4192-ac29-5f55255cbd64"
      },
      "outputs": [],
      "source": [
        "#list of integers\n",
        "mylist=[1,2,3,4,5]"
      ]
    },
    {
      "cell_type": "code",
      "execution_count": null,
      "id": "458957f2-09e6-4bf2-9aaf-d5f271b6d7b1",
      "metadata": {
        "id": "458957f2-09e6-4bf2-9aaf-d5f271b6d7b1",
        "outputId": "4f9b4de8-ad52-4472-fc19-3c6fca6d8e8e"
      },
      "outputs": [
        {
          "data": {
            "text/plain": [
              "[1, 2, 3, 4, 5]"
            ]
          },
          "execution_count": 5,
          "metadata": {},
          "output_type": "execute_result"
        }
      ],
      "source": [
        "mylist"
      ]
    },
    {
      "cell_type": "code",
      "execution_count": null,
      "id": "06e45000-9790-45ec-b39b-51e3b1e2e478",
      "metadata": {
        "id": "06e45000-9790-45ec-b39b-51e3b1e2e478"
      },
      "outputs": [],
      "source": [
        "#list with different data types\n",
        "mylist=[1,\"hello\",2.5]"
      ]
    },
    {
      "cell_type": "code",
      "execution_count": null,
      "id": "8f704b00-a0b3-42d8-89d4-81f7a0426143",
      "metadata": {
        "id": "8f704b00-a0b3-42d8-89d4-81f7a0426143",
        "outputId": "3cfa68c9-1d5b-45a5-b666-fc6de477401a"
      },
      "outputs": [
        {
          "data": {
            "text/plain": [
              "[1, 'hello', 2.5]"
            ]
          },
          "execution_count": 8,
          "metadata": {},
          "output_type": "execute_result"
        }
      ],
      "source": [
        "mylist"
      ]
    },
    {
      "cell_type": "code",
      "execution_count": null,
      "id": "91eb1867-dd99-4d3d-9cdc-ded42b03fba0",
      "metadata": {
        "id": "91eb1867-dd99-4d3d-9cdc-ded42b03fba0"
      },
      "outputs": [],
      "source": [
        "number=\"10\""
      ]
    },
    {
      "cell_type": "code",
      "execution_count": null,
      "id": "eb700123-feed-4f37-b8df-5b6709d26b40",
      "metadata": {
        "id": "eb700123-feed-4f37-b8df-5b6709d26b40",
        "outputId": "5bad45b4-1913-4893-a3a0-d8247c157692"
      },
      "outputs": [
        {
          "data": {
            "text/plain": [
              "'10'"
            ]
          },
          "execution_count": 12,
          "metadata": {},
          "output_type": "execute_result"
        }
      ],
      "source": [
        "number"
      ]
    },
    {
      "cell_type": "code",
      "execution_count": null,
      "id": "2b4b9fcb-7b14-4027-ae9c-c4ae1575ad51",
      "metadata": {
        "id": "2b4b9fcb-7b14-4027-ae9c-c4ae1575ad51",
        "outputId": "27bd1dc0-fc27-4824-a7dd-cc912fa9b5a3"
      },
      "outputs": [
        {
          "data": {
            "text/plain": [
              "str"
            ]
          },
          "execution_count": 10,
          "metadata": {},
          "output_type": "execute_result"
        }
      ],
      "source": [
        "type(number)"
      ]
    },
    {
      "cell_type": "code",
      "execution_count": null,
      "id": "a103e6e3-466c-4c87-be47-a7b072724756",
      "metadata": {
        "id": "a103e6e3-466c-4c87-be47-a7b072724756",
        "outputId": "6bd48e50-c01c-4a41-de52-1432d3da56cf"
      },
      "outputs": [
        {
          "data": {
            "text/plain": [
              "10"
            ]
          },
          "execution_count": 11,
          "metadata": {},
          "output_type": "execute_result"
        }
      ],
      "source": [
        "int(number)"
      ]
    },
    {
      "cell_type": "code",
      "execution_count": null,
      "id": "a63ca01c-2ced-4ff0-a735-b77518b6023b",
      "metadata": {
        "id": "a63ca01c-2ced-4ff0-a735-b77518b6023b"
      },
      "outputs": [],
      "source": [
        "int()\n",
        "str()\n",
        "float()\n",
        "bool()"
      ]
    },
    {
      "cell_type": "code",
      "execution_count": null,
      "id": "ca4be61f-74b8-4226-abdf-b2ca7c407528",
      "metadata": {
        "id": "ca4be61f-74b8-4226-abdf-b2ca7c407528",
        "outputId": "50e83af8-8007-483a-960a-0313490515b4"
      },
      "outputs": [
        {
          "ename": "TypeError",
          "evalue": "'int' object is not iterable",
          "output_type": "error",
          "traceback": [
            "\u001b[0;31m---------------------------------------------------------------------------\u001b[0m",
            "\u001b[0;31mTypeError\u001b[0m                                 Traceback (most recent call last)",
            "Cell \u001b[0;32mIn [13], line 2\u001b[0m\n\u001b[1;32m      1\u001b[0m \u001b[38;5;66;03m#itrable\u001b[39;00m\n\u001b[0;32m----> 2\u001b[0m \u001b[38;5;28;43mlist\u001b[39;49m\u001b[43m(\u001b[49m\u001b[38;5;241;43m10\u001b[39;49m\u001b[43m)\u001b[49m\n",
            "\u001b[0;31mTypeError\u001b[0m: 'int' object is not iterable"
          ]
        }
      ],
      "source": [
        "#itrable\n",
        "list(10)"
      ]
    },
    {
      "cell_type": "code",
      "execution_count": null,
      "id": "bed51a70-0043-4fd7-988c-7bf9d6c6c0d2",
      "metadata": {
        "id": "bed51a70-0043-4fd7-988c-7bf9d6c6c0d2",
        "outputId": "5b54bf60-925f-4bb4-aa41-91a68116ae83"
      },
      "outputs": [
        {
          "data": {
            "text/plain": [
              "['s', 'u', 'n', 'n', 'y']"
            ]
          },
          "execution_count": 14,
          "metadata": {},
          "output_type": "execute_result"
        }
      ],
      "source": [
        "list(\"sunny\")"
      ]
    },
    {
      "cell_type": "code",
      "execution_count": null,
      "id": "b03d052f-b38b-4e7f-9daf-47977cf18d11",
      "metadata": {
        "id": "b03d052f-b38b-4e7f-9daf-47977cf18d11",
        "outputId": "9b0c871e-83f7-47a2-ab6e-2ed0da40e429"
      },
      "outputs": [
        {
          "data": {
            "text/plain": [
              "[10, 20, 30]"
            ]
          },
          "execution_count": 15,
          "metadata": {},
          "output_type": "execute_result"
        }
      ],
      "source": [
        "list((10,20,30))"
      ]
    },
    {
      "cell_type": "code",
      "execution_count": null,
      "id": "8d66f673-43d9-4cbf-89a6-7a9c474f91bb",
      "metadata": {
        "id": "8d66f673-43d9-4cbf-89a6-7a9c474f91bb",
        "outputId": "a8aebf5c-6606-4986-e686-549076075478"
      },
      "outputs": [
        {
          "data": {
            "text/plain": [
              "[10, 20, 30]"
            ]
          },
          "execution_count": 16,
          "metadata": {},
          "output_type": "execute_result"
        }
      ],
      "source": [
        "list([10,20,30])"
      ]
    },
    {
      "cell_type": "code",
      "execution_count": null,
      "id": "cf284b56-cc83-4d22-bc7a-4270b9d12f13",
      "metadata": {
        "id": "cf284b56-cc83-4d22-bc7a-4270b9d12f13"
      },
      "outputs": [],
      "source": [
        "mylist=[1,2,3,4,45,5,6,7]"
      ]
    },
    {
      "cell_type": "code",
      "execution_count": null,
      "id": "f9c3077b-35eb-4255-8bcc-c60b76b81f32",
      "metadata": {
        "id": "f9c3077b-35eb-4255-8bcc-c60b76b81f32",
        "outputId": "aeaddb60-5f7d-4940-ac8e-0054e4386a8a"
      },
      "outputs": [
        {
          "data": {
            "text/plain": [
              "45"
            ]
          },
          "execution_count": 18,
          "metadata": {},
          "output_type": "execute_result"
        }
      ],
      "source": [
        "#access the element of list\n",
        "mylist[4]"
      ]
    },
    {
      "cell_type": "code",
      "execution_count": null,
      "id": "3d31e9b0-096c-408d-9f8a-414d3ac7b498",
      "metadata": {
        "id": "3d31e9b0-096c-408d-9f8a-414d3ac7b498",
        "outputId": "5343309b-3f63-47ef-d2c4-5dcae1e1795f"
      },
      "outputs": [
        {
          "data": {
            "text/plain": [
              "[3, 4, 45]"
            ]
          },
          "execution_count": 19,
          "metadata": {},
          "output_type": "execute_result"
        }
      ],
      "source": [
        "mylist[2:5]"
      ]
    },
    {
      "cell_type": "code",
      "execution_count": null,
      "id": "66c0d168-a272-40fd-b021-329867ffdbf7",
      "metadata": {
        "id": "66c0d168-a272-40fd-b021-329867ffdbf7",
        "outputId": "6d16caff-ae80-4976-b1a2-7a86e590ca29"
      },
      "outputs": [
        {
          "data": {
            "text/plain": [
              "7"
            ]
          },
          "execution_count": 20,
          "metadata": {},
          "output_type": "execute_result"
        }
      ],
      "source": [
        "mylist[-1]"
      ]
    },
    {
      "cell_type": "code",
      "execution_count": null,
      "id": "db1b47ee-4230-4e32-9e3c-6720aadb43c6",
      "metadata": {
        "id": "db1b47ee-4230-4e32-9e3c-6720aadb43c6",
        "outputId": "049dbbff-5e64-4a8a-e1c3-ea30c2e89f4e"
      },
      "outputs": [
        {
          "data": {
            "text/plain": [
              "5"
            ]
          },
          "execution_count": 21,
          "metadata": {},
          "output_type": "execute_result"
        }
      ],
      "source": [
        "mylist[-3]"
      ]
    },
    {
      "cell_type": "code",
      "execution_count": null,
      "id": "4483c29f-22de-4772-863c-97e22acb5f43",
      "metadata": {
        "id": "4483c29f-22de-4772-863c-97e22acb5f43"
      },
      "outputs": [],
      "source": [
        "mynum=[10,20,30,40,50]"
      ]
    },
    {
      "cell_type": "code",
      "execution_count": null,
      "id": "265bbf37-3fea-4ab9-bcc9-bd811fbf1727",
      "metadata": {
        "id": "265bbf37-3fea-4ab9-bcc9-bd811fbf1727",
        "outputId": "b2670578-4812-4ee0-8b0f-d1073e82e17f"
      },
      "outputs": [
        {
          "data": {
            "text/plain": [
              "[20, 30, 40]"
            ]
          },
          "execution_count": 23,
          "metadata": {},
          "output_type": "execute_result"
        }
      ],
      "source": [
        "mynum[1:4]"
      ]
    },
    {
      "cell_type": "code",
      "execution_count": null,
      "id": "c0aac984-a8cc-44dc-8143-d0d80105aaf5",
      "metadata": {
        "id": "c0aac984-a8cc-44dc-8143-d0d80105aaf5",
        "outputId": "1fb74f9e-5e87-43fe-867c-129b55bc045b"
      },
      "outputs": [
        {
          "data": {
            "text/plain": [
              "[40, 50]"
            ]
          },
          "execution_count": 24,
          "metadata": {},
          "output_type": "execute_result"
        }
      ],
      "source": [
        "mynum[3:5]"
      ]
    },
    {
      "cell_type": "code",
      "execution_count": null,
      "id": "d13697bb-0c0d-4c23-956e-5ecaf5d2215a",
      "metadata": {
        "id": "d13697bb-0c0d-4c23-956e-5ecaf5d2215a",
        "outputId": "745eec58-e236-4a2b-87f6-9d362cdf5b03"
      },
      "outputs": [
        {
          "data": {
            "text/plain": [
              "[30]"
            ]
          },
          "execution_count": 26,
          "metadata": {},
          "output_type": "execute_result"
        }
      ],
      "source": [
        "mynum[2:3]"
      ]
    },
    {
      "cell_type": "code",
      "execution_count": null,
      "id": "fc2de608-8a99-4675-9f19-92cb91a8d064",
      "metadata": {
        "id": "fc2de608-8a99-4675-9f19-92cb91a8d064",
        "outputId": "9e79f19c-e221-4b8f-8a90-2aedcaf57b38"
      },
      "outputs": [
        {
          "data": {
            "text/plain": [
              "[20, 30, 40, 50]"
            ]
          },
          "execution_count": 27,
          "metadata": {},
          "output_type": "execute_result"
        }
      ],
      "source": [
        "mynum[1:]"
      ]
    },
    {
      "cell_type": "code",
      "execution_count": null,
      "id": "e30ec00f-2ff1-44ba-8dff-e551f1f8b256",
      "metadata": {
        "id": "e30ec00f-2ff1-44ba-8dff-e551f1f8b256",
        "outputId": "6ec15c0f-40e5-41de-fa4c-570be7d49db7"
      },
      "outputs": [
        {
          "data": {
            "text/plain": [
              "[10, 20, 30]"
            ]
          },
          "execution_count": 28,
          "metadata": {},
          "output_type": "execute_result"
        }
      ],
      "source": [
        "mynum[:-2]"
      ]
    },
    {
      "cell_type": "code",
      "execution_count": null,
      "id": "7aac3b42-c478-48b4-bc2d-1ee0236727be",
      "metadata": {
        "id": "7aac3b42-c478-48b4-bc2d-1ee0236727be"
      },
      "outputs": [],
      "source": [
        "#modity the existing element\n",
        "sports=[\"cricket\",\"hockey\",\"football\"]"
      ]
    },
    {
      "cell_type": "code",
      "execution_count": null,
      "id": "aaf26d81-2efa-4973-ad63-fe365eb3e2d8",
      "metadata": {
        "id": "aaf26d81-2efa-4973-ad63-fe365eb3e2d8"
      },
      "outputs": [],
      "source": [
        "#use index for single value\n",
        "sports[1]=\"badminton\""
      ]
    },
    {
      "cell_type": "code",
      "execution_count": null,
      "id": "689aeab0-028f-4247-8034-8f1f23594b1a",
      "metadata": {
        "id": "689aeab0-028f-4247-8034-8f1f23594b1a",
        "outputId": "38f23856-aac3-454c-a4ff-d2d59e498451"
      },
      "outputs": [
        {
          "data": {
            "text/plain": [
              "['cricket', 'badminton', 'football']"
            ]
          },
          "execution_count": 33,
          "metadata": {},
          "output_type": "execute_result"
        }
      ],
      "source": [
        "sports"
      ]
    },
    {
      "cell_type": "code",
      "execution_count": null,
      "id": "2e58158a-8e00-47d5-977d-b3f9d5e017e8",
      "metadata": {
        "id": "2e58158a-8e00-47d5-977d-b3f9d5e017e8"
      },
      "outputs": [],
      "source": [
        "#slicing operator for multiple value\n",
        "sports[1:3]=[\"basketball\",\"tennis\"]"
      ]
    },
    {
      "cell_type": "code",
      "execution_count": null,
      "id": "ef154189-501c-4e50-a46d-355365120d02",
      "metadata": {
        "id": "ef154189-501c-4e50-a46d-355365120d02",
        "outputId": "af6be8ee-85c5-4f24-cc94-1dd4327a94d0"
      },
      "outputs": [
        {
          "data": {
            "text/plain": [
              "['cricket', 'basketball', 'tennis']"
            ]
          },
          "execution_count": 36,
          "metadata": {},
          "output_type": "execute_result"
        }
      ],
      "source": [
        "sports"
      ]
    },
    {
      "cell_type": "code",
      "execution_count": null,
      "id": "97841768-907a-474e-9bb5-d736bf92d5fc",
      "metadata": {
        "id": "97841768-907a-474e-9bb5-d736bf92d5fc",
        "outputId": "057e76af-34dd-492c-ac63-a84f15243c64"
      },
      "outputs": [
        {
          "data": {
            "text/plain": [
              "'sunny savita'"
            ]
          },
          "execution_count": 38,
          "metadata": {},
          "output_type": "execute_result"
        }
      ],
      "source": [
        "\"sunny\"+\" \"+\"savita\""
      ]
    },
    {
      "cell_type": "code",
      "execution_count": null,
      "id": "bd3e97a7-d7aa-4b06-8bf0-62e6ca711a70",
      "metadata": {
        "id": "bd3e97a7-d7aa-4b06-8bf0-62e6ca711a70"
      },
      "outputs": [],
      "source": [
        "outdoorgames=[\"cricket\",\"basketball\",\"tennis\"]"
      ]
    },
    {
      "cell_type": "code",
      "execution_count": null,
      "id": "2550f1da-15af-4242-a76a-bf8141ac4d2d",
      "metadata": {
        "id": "2550f1da-15af-4242-a76a-bf8141ac4d2d"
      },
      "outputs": [],
      "source": [
        "indoorgames=[\"carrom\",\"ludo\",\"chess\",\"cricket\"]"
      ]
    },
    {
      "cell_type": "code",
      "execution_count": null,
      "id": "cedee861-5756-4d63-8717-9632bc731710",
      "metadata": {
        "id": "cedee861-5756-4d63-8717-9632bc731710"
      },
      "outputs": [],
      "source": [
        "#concating the list \n",
        "all_sports=outdoorgames+indoorgames"
      ]
    },
    {
      "cell_type": "code",
      "execution_count": null,
      "id": "553d151d-9b7a-44e9-a97b-afcb1fcc77a7",
      "metadata": {
        "id": "553d151d-9b7a-44e9-a97b-afcb1fcc77a7",
        "outputId": "58a11389-e1e7-4b1d-8339-0b9af2325649"
      },
      "outputs": [
        {
          "data": {
            "text/plain": [
              "['cricket', 'basketball', 'tennis', 'carrom', 'ludo', 'chess', 'cricket']"
            ]
          },
          "execution_count": 46,
          "metadata": {},
          "output_type": "execute_result"
        }
      ],
      "source": [
        "all_sports"
      ]
    },
    {
      "cell_type": "code",
      "execution_count": null,
      "id": "ad596882-e62c-44c0-aa11-d5b7d23afd64",
      "metadata": {
        "id": "ad596882-e62c-44c0-aa11-d5b7d23afd64"
      },
      "outputs": [],
      "source": [
        "ineuron_team=[\"sunny\",\"krish\",\"sudhanshu\"]"
      ]
    },
    {
      "cell_type": "code",
      "execution_count": null,
      "id": "9d1693b2-2214-4f13-9a07-93950ca92e14",
      "metadata": {
        "id": "9d1693b2-2214-4f13-9a07-93950ca92e14"
      },
      "outputs": [],
      "source": [
        "ineuron_team=ineuron_team+list([\"satya\"])"
      ]
    },
    {
      "cell_type": "code",
      "execution_count": null,
      "id": "99620056-54d2-49a6-b373-0a68d27857bc",
      "metadata": {
        "id": "99620056-54d2-49a6-b373-0a68d27857bc",
        "outputId": "bc386f74-ddd0-43c7-e578-17d191d07535"
      },
      "outputs": [
        {
          "data": {
            "text/plain": [
              "['sunny', 'krish', 'sudhanshu', 'satya']"
            ]
          },
          "execution_count": 53,
          "metadata": {},
          "output_type": "execute_result"
        }
      ],
      "source": [
        "ineuron_team"
      ]
    },
    {
      "cell_type": "code",
      "execution_count": null,
      "id": "e517eaa6-f70c-4b89-b6fd-e871f37a44ab",
      "metadata": {
        "id": "e517eaa6-f70c-4b89-b6fd-e871f37a44ab",
        "outputId": "ac337a37-385b-4c87-a208-35ad10b62628"
      },
      "outputs": [
        {
          "data": {
            "text/plain": [
              "['sunny', 'krish', 'sudhanshu', 'satya', 'rishav']"
            ]
          },
          "execution_count": 54,
          "metadata": {},
          "output_type": "execute_result"
        }
      ],
      "source": [
        "ineuron_team+[\"rishav\"]"
      ]
    },
    {
      "cell_type": "code",
      "execution_count": null,
      "id": "f3c08638-bd6c-4c8a-a192-8a77195bf0cc",
      "metadata": {
        "id": "f3c08638-bd6c-4c8a-a192-8a77195bf0cc",
        "outputId": "989127ac-93c5-4777-a134-c2482fcdd618"
      },
      "outputs": [
        {
          "data": {
            "text/plain": [
              "['sunny',\n",
              " 'krish',\n",
              " 'sudhanshu',\n",
              " 'satya',\n",
              " 'sunny',\n",
              " 'krish',\n",
              " 'sudhanshu',\n",
              " 'satya',\n",
              " 'sunny',\n",
              " 'krish',\n",
              " 'sudhanshu',\n",
              " 'satya']"
            ]
          },
          "execution_count": 55,
          "metadata": {},
          "output_type": "execute_result"
        }
      ],
      "source": [
        "ineuron_team*3"
      ]
    },
    {
      "cell_type": "code",
      "execution_count": null,
      "id": "8a2ea4e8-90d3-4243-8451-3e53ff62f950",
      "metadata": {
        "id": "8a2ea4e8-90d3-4243-8451-3e53ff62f950",
        "outputId": "e948f888-e7e4-4d0e-d889-12770697260d"
      },
      "outputs": [
        {
          "ename": "TypeError",
          "evalue": "can only concatenate list (not \"int\") to list",
          "output_type": "error",
          "traceback": [
            "\u001b[0;31m---------------------------------------------------------------------------\u001b[0m",
            "\u001b[0;31mTypeError\u001b[0m                                 Traceback (most recent call last)",
            "Cell \u001b[0;32mIn [56], line 1\u001b[0m\n\u001b[0;32m----> 1\u001b[0m \u001b[43mineuron_team\u001b[49m\u001b[38;5;241;43m+\u001b[39;49m\u001b[38;5;241;43m3\u001b[39;49m\n",
            "\u001b[0;31mTypeError\u001b[0m: can only concatenate list (not \"int\") to list"
          ]
        }
      ],
      "source": [
        "ineuron_team+3"
      ]
    },
    {
      "cell_type": "markdown",
      "id": "a1bc97e5-007d-4a84-9ad9-9d5606f08aa8",
      "metadata": {
        "id": "a1bc97e5-007d-4a84-9ad9-9d5606f08aa8"
      },
      "source": [
        "# membership opertor\n",
        "# in and not in"
      ]
    },
    {
      "cell_type": "code",
      "execution_count": null,
      "id": "723430d2-08b4-40e4-b544-594fbb80e60f",
      "metadata": {
        "id": "723430d2-08b4-40e4-b544-594fbb80e60f",
        "outputId": "b2490bcb-f589-4bda-8e88-6e2f6ae86653"
      },
      "outputs": [
        {
          "data": {
            "text/plain": [
              "['sunny', 'krish', 'sudhanshu', 'satya']"
            ]
          },
          "execution_count": 57,
          "metadata": {},
          "output_type": "execute_result"
        }
      ],
      "source": [
        "ineuron_team"
      ]
    },
    {
      "cell_type": "code",
      "execution_count": null,
      "id": "8e4e554a-83b3-4d66-95df-ef036bcc9dec",
      "metadata": {
        "id": "8e4e554a-83b3-4d66-95df-ef036bcc9dec",
        "outputId": "191a6c7d-9d90-4c14-e1ba-5bfd541f9d85"
      },
      "outputs": [
        {
          "data": {
            "text/plain": [
              "True"
            ]
          },
          "execution_count": 58,
          "metadata": {},
          "output_type": "execute_result"
        }
      ],
      "source": [
        "\"sunny\" in ineuron_team\n"
      ]
    },
    {
      "cell_type": "code",
      "execution_count": null,
      "id": "2c10a971-2dc5-4f4b-a22b-feb90ada74f4",
      "metadata": {
        "id": "2c10a971-2dc5-4f4b-a22b-feb90ada74f4",
        "outputId": "b168b520-d885-4070-9ca9-7d19244f9cd6"
      },
      "outputs": [
        {
          "data": {
            "text/plain": [
              "True"
            ]
          },
          "execution_count": 59,
          "metadata": {},
          "output_type": "execute_result"
        }
      ],
      "source": [
        "\"Rohit\" not in ineuron_team"
      ]
    },
    {
      "cell_type": "code",
      "execution_count": null,
      "id": "e6fc6262-1b16-4bba-97db-043c94676235",
      "metadata": {
        "id": "e6fc6262-1b16-4bba-97db-043c94676235",
        "outputId": "db883967-aed9-4961-875c-7f3548951b3c"
      },
      "outputs": [
        {
          "data": {
            "text/plain": [
              "False"
            ]
          },
          "execution_count": 60,
          "metadata": {},
          "output_type": "execute_result"
        }
      ],
      "source": [
        "\"krish\" not in ineuron_team"
      ]
    },
    {
      "cell_type": "code",
      "execution_count": null,
      "id": "35d0065e-0f20-479d-b560-0ea900cd0258",
      "metadata": {
        "id": "35d0065e-0f20-479d-b560-0ea900cd0258",
        "outputId": "93c049d0-ba6f-44cb-b326-0f09c5ef7999"
      },
      "outputs": [
        {
          "data": {
            "text/plain": [
              "False"
            ]
          },
          "execution_count": 61,
          "metadata": {},
          "output_type": "execute_result"
        }
      ],
      "source": [
        "\"S\" in \"sunny\""
      ]
    },
    {
      "cell_type": "markdown",
      "id": "d42e9e65-a123-46be-8fdf-435ea9e25385",
      "metadata": {
        "id": "d42e9e65-a123-46be-8fdf-435ea9e25385"
      },
      "source": [
        "# List function\n",
        "# List Methods"
      ]
    },
    {
      "cell_type": "markdown",
      "id": "569925a8-4aad-491e-9abb-9bc10b541ccb",
      "metadata": {
        "id": "569925a8-4aad-491e-9abb-9bc10b541ccb"
      },
      "source": [
        "# Difference Between function and methods(after function and oops)"
      ]
    },
    {
      "cell_type": "markdown",
      "id": "355b16f8-6225-4066-81d9-53d8bb87d813",
      "metadata": {
        "id": "355b16f8-6225-4066-81d9-53d8bb87d813"
      },
      "source": [
        "# List function"
      ]
    },
    {
      "cell_type": "markdown",
      "id": "f80e6b2a-2ed6-4cdb-aba3-805dc1b09ad8",
      "metadata": {
        "id": "f80e6b2a-2ed6-4cdb-aba3-805dc1b09ad8"
      },
      "source": [
        "1. len()\n",
        "2. max()\n",
        "3. min()\n",
        "4. sum()\n",
        "5. sorted()\n",
        "6. any()\n",
        "7. all()\n",
        "8. list()\n"
      ]
    },
    {
      "cell_type": "markdown",
      "id": "d3607fb2-fd88-4e65-ba3c-411ec0d67dd6",
      "metadata": {
        "id": "d3607fb2-fd88-4e65-ba3c-411ec0d67dd6"
      },
      "source": [
        "# List methods"
      ]
    },
    {
      "cell_type": "markdown",
      "id": "ce780ceb-0b4c-458c-a2e8-bbf76463a7ae",
      "metadata": {
        "id": "ce780ceb-0b4c-458c-a2e8-bbf76463a7ae"
      },
      "source": [
        "1. appned()\n",
        "2. extend()\n",
        "3. insert()\n",
        "4. index()\n",
        "5. count()\n",
        "6. remove()\n",
        "7. pop()\n",
        "8. clear()\n",
        "9. reverse()\n",
        "10. sort()"
      ]
    },
    {
      "cell_type": "markdown",
      "id": "ebd9cca9-0cd3-44fa-b2aa-0d7596e44929",
      "metadata": {
        "id": "ebd9cca9-0cd3-44fa-b2aa-0d7596e44929"
      },
      "source": [
        "# List comprehension"
      ]
    },
    {
      "cell_type": "code",
      "execution_count": null,
      "id": "aa04e56d-0fa6-4ea9-b333-6c743d17eed2",
      "metadata": {
        "id": "aa04e56d-0fa6-4ea9-b333-6c743d17eed2"
      },
      "outputs": [],
      "source": [
        "mynums=[1,2,3,4,5,6,67,8]"
      ]
    },
    {
      "cell_type": "code",
      "execution_count": null,
      "id": "5fd3ed92-403d-4a12-a235-cb63aaa9a1d2",
      "metadata": {
        "id": "5fd3ed92-403d-4a12-a235-cb63aaa9a1d2",
        "outputId": "33577755-c411-49d4-a2eb-e7ad01384087"
      },
      "outputs": [
        {
          "data": {
            "text/plain": [
              "8"
            ]
          },
          "execution_count": 65,
          "metadata": {},
          "output_type": "execute_result"
        }
      ],
      "source": [
        "#len fun gives me length\n",
        "len(mynums)"
      ]
    },
    {
      "cell_type": "code",
      "execution_count": null,
      "id": "ceaf27a4-aea1-4a09-b71c-f8fa8c03f2b8",
      "metadata": {
        "id": "ceaf27a4-aea1-4a09-b71c-f8fa8c03f2b8",
        "outputId": "673c71e6-520f-415f-8238-6420c63e52d0"
      },
      "outputs": [
        {
          "data": {
            "text/plain": [
              "67"
            ]
          },
          "execution_count": 66,
          "metadata": {},
          "output_type": "execute_result"
        }
      ],
      "source": [
        "max(mynums)"
      ]
    },
    {
      "cell_type": "code",
      "execution_count": null,
      "id": "0e13c8de-21c5-4ba0-b38f-e0afd4c944e2",
      "metadata": {
        "id": "0e13c8de-21c5-4ba0-b38f-e0afd4c944e2",
        "outputId": "659ba885-d4af-41fa-9c3b-43b4a98bdc9f"
      },
      "outputs": [
        {
          "data": {
            "text/plain": [
              "1"
            ]
          },
          "execution_count": 67,
          "metadata": {},
          "output_type": "execute_result"
        }
      ],
      "source": [
        "min(mynums)"
      ]
    },
    {
      "cell_type": "code",
      "execution_count": null,
      "id": "ab035552-998d-405f-b3be-894007c57f42",
      "metadata": {
        "id": "ab035552-998d-405f-b3be-894007c57f42",
        "outputId": "20ec3511-361e-4055-9957-478aec8f7e34"
      },
      "outputs": [
        {
          "data": {
            "text/plain": [
              "96"
            ]
          },
          "execution_count": 68,
          "metadata": {},
          "output_type": "execute_result"
        }
      ],
      "source": [
        "sum(mynums)"
      ]
    },
    {
      "cell_type": "code",
      "execution_count": null,
      "id": "e866c572-fa59-4576-b436-8207b67d1dea",
      "metadata": {
        "id": "e866c572-fa59-4576-b436-8207b67d1dea",
        "outputId": "0f24e1a3-6fab-47d9-c215-ba9442082df4"
      },
      "outputs": [
        {
          "data": {
            "text/plain": [
              "[1, 2, 3, 4, 5, 6, 67, 8]"
            ]
          },
          "execution_count": 70,
          "metadata": {},
          "output_type": "execute_result"
        }
      ],
      "source": [
        "mynums"
      ]
    },
    {
      "cell_type": "code",
      "execution_count": null,
      "id": "81a481a0-e577-4b2c-bcaa-2d4e1593c2ed",
      "metadata": {
        "id": "81a481a0-e577-4b2c-bcaa-2d4e1593c2ed",
        "outputId": "2c274ffa-ffe0-4f01-9223-fe973e7f602c"
      },
      "outputs": [
        {
          "data": {
            "text/plain": [
              "[1, 2, 3, 4, 5, 6, 8, 67]"
            ]
          },
          "execution_count": 72,
          "metadata": {},
          "output_type": "execute_result"
        }
      ],
      "source": [
        "sorted(mynums)"
      ]
    },
    {
      "cell_type": "code",
      "execution_count": null,
      "id": "528811ff-d7b8-4459-8c10-20c3c214cde4",
      "metadata": {
        "id": "528811ff-d7b8-4459-8c10-20c3c214cde4",
        "outputId": "7854cce2-69b4-44f3-9c36-bf5e16b7032c"
      },
      "outputs": [
        {
          "data": {
            "text/plain": [
              "[67, 8, 6, 5, 4, 3, 2, 1]"
            ]
          },
          "execution_count": 71,
          "metadata": {},
          "output_type": "execute_result"
        }
      ],
      "source": [
        "sorted(mynums,reverse=True)"
      ]
    },
    {
      "cell_type": "markdown",
      "id": "f7cdc154-5920-4a39-b338-20cccf518d0a",
      "metadata": {
        "id": "f7cdc154-5920-4a39-b338-20cccf518d0a"
      },
      "source": [
        "## if all the elements is true in the list it will give me true otherwise false"
      ]
    },
    {
      "cell_type": "markdown",
      "id": "8c3a3f39-2e0a-4743-8ee5-eead9476af10",
      "metadata": {
        "id": "8c3a3f39-2e0a-4743-8ee5-eead9476af10"
      },
      "source": [
        "# 0, 0.0. False,0+0j this values will be false in python and rest of the value apart from this one will be true"
      ]
    },
    {
      "cell_type": "code",
      "execution_count": null,
      "id": "ec6e9cf3-c381-4587-bcfa-0240ebc53881",
      "metadata": {
        "id": "ec6e9cf3-c381-4587-bcfa-0240ebc53881"
      },
      "outputs": [],
      "source": [
        "mynums2=[0,1,2,3,4,45456,66,6]"
      ]
    },
    {
      "cell_type": "code",
      "execution_count": null,
      "id": "2ad6ac19-376d-4303-9f49-402f0f784cbb",
      "metadata": {
        "id": "2ad6ac19-376d-4303-9f49-402f0f784cbb",
        "outputId": "79f6ca05-ec5c-4161-e036-cd14a3f36cc8"
      },
      "outputs": [
        {
          "data": {
            "text/plain": [
              "False"
            ]
          },
          "execution_count": 76,
          "metadata": {},
          "output_type": "execute_result"
        }
      ],
      "source": [
        "all(mynums2)"
      ]
    },
    {
      "cell_type": "code",
      "execution_count": null,
      "id": "5f99243e-d235-40a4-b827-45eda78fae9b",
      "metadata": {
        "id": "5f99243e-d235-40a4-b827-45eda78fae9b",
        "outputId": "8f39a8da-8d43-408a-a1a8-bd364b236ec2"
      },
      "outputs": [
        {
          "data": {
            "text/plain": [
              "True"
            ]
          },
          "execution_count": 77,
          "metadata": {},
          "output_type": "execute_result"
        }
      ],
      "source": [
        "any(mynums)"
      ]
    },
    {
      "cell_type": "code",
      "execution_count": null,
      "id": "9fa55a72-9a0c-44a2-a840-e68ea6060e5a",
      "metadata": {
        "id": "9fa55a72-9a0c-44a2-a840-e68ea6060e5a",
        "outputId": "a18fba70-43a4-4b31-d011-9f62f83777a0"
      },
      "outputs": [
        {
          "data": {
            "text/plain": [
              "True"
            ]
          },
          "execution_count": 78,
          "metadata": {},
          "output_type": "execute_result"
        }
      ],
      "source": [
        "any(mynums2)"
      ]
    },
    {
      "cell_type": "code",
      "execution_count": null,
      "id": "6eeb5112-3207-47e7-9a54-aeb778242872",
      "metadata": {
        "id": "6eeb5112-3207-47e7-9a54-aeb778242872"
      },
      "outputs": [],
      "source": [
        "mynums3=[0,False,0.0,0+0j]"
      ]
    },
    {
      "cell_type": "code",
      "execution_count": null,
      "id": "7ae59128-1e9e-4126-8f23-90dd78e21fb6",
      "metadata": {
        "id": "7ae59128-1e9e-4126-8f23-90dd78e21fb6",
        "outputId": "63857221-52a7-43dd-95f9-f6a91c9eca02"
      },
      "outputs": [
        {
          "data": {
            "text/plain": [
              "False"
            ]
          },
          "execution_count": 84,
          "metadata": {},
          "output_type": "execute_result"
        }
      ],
      "source": [
        "any(mynums3)"
      ]
    },
    {
      "cell_type": "code",
      "execution_count": null,
      "id": "08a0494f-d5fd-4edb-9e42-c214ebfa372b",
      "metadata": {
        "id": "08a0494f-d5fd-4edb-9e42-c214ebfa372b"
      },
      "outputs": [],
      "source": [
        "primes=[2,3,5,7,11]"
      ]
    },
    {
      "cell_type": "code",
      "execution_count": null,
      "id": "2d0d5cfb-005a-49bb-a00b-f011151133d4",
      "metadata": {
        "id": "2d0d5cfb-005a-49bb-a00b-f011151133d4",
        "outputId": "4838c0c4-282c-44e4-973a-9bdf2fbf5ef9"
      },
      "outputs": [
        {
          "data": {
            "text/plain": [
              "6"
            ]
          },
          "execution_count": 92,
          "metadata": {},
          "output_type": "execute_result"
        }
      ],
      "source": [
        "len(primes)"
      ]
    },
    {
      "cell_type": "code",
      "execution_count": null,
      "id": "a6239568-a6da-4530-a26a-7066ea7f3a3a",
      "metadata": {
        "id": "a6239568-a6da-4530-a26a-7066ea7f3a3a",
        "outputId": "ef3e075c-2aa4-49fd-feae-2f9bf13ed566"
      },
      "outputs": [
        {
          "ename": "AttributeError",
          "evalue": "'list' object has no attribute 'len'",
          "output_type": "error",
          "traceback": [
            "\u001b[0;31m---------------------------------------------------------------------------\u001b[0m",
            "\u001b[0;31mAttributeError\u001b[0m                            Traceback (most recent call last)",
            "Cell \u001b[0;32mIn [93], line 1\u001b[0m\n\u001b[0;32m----> 1\u001b[0m \u001b[43mprimes\u001b[49m\u001b[38;5;241;43m.\u001b[39;49m\u001b[43mlen\u001b[49m()\n",
            "\u001b[0;31mAttributeError\u001b[0m: 'list' object has no attribute 'len'"
          ]
        }
      ],
      "source": [
        "primes.len()"
      ]
    },
    {
      "cell_type": "markdown",
      "id": "293fb3bd-f702-4ec0-87c0-1f129a47e324",
      "metadata": {
        "id": "293fb3bd-f702-4ec0-87c0-1f129a47e324"
      },
      "source": [
        "next prime number will be 13"
      ]
    },
    {
      "cell_type": "code",
      "execution_count": null,
      "id": "a2586b4c-7593-4b4c-9323-b706858ff462",
      "metadata": {
        "id": "a2586b4c-7593-4b4c-9323-b706858ff462"
      },
      "outputs": [],
      "source": [
        "primes.append(13)"
      ]
    },
    {
      "cell_type": "code",
      "execution_count": null,
      "id": "8edcfed3-ac00-48c4-96ac-5249e80c8b91",
      "metadata": {
        "id": "8edcfed3-ac00-48c4-96ac-5249e80c8b91",
        "outputId": "19565d89-ed19-41c2-f16e-51e6e51c9511"
      },
      "outputs": [
        {
          "data": {
            "text/plain": [
              "[2, 3, 5, 7, 11, 13]"
            ]
          },
          "execution_count": 91,
          "metadata": {},
          "output_type": "execute_result"
        }
      ],
      "source": [
        "primes"
      ]
    },
    {
      "cell_type": "code",
      "execution_count": null,
      "id": "95329e01-2ae4-46b5-9fe4-7920d81e3ad8",
      "metadata": {
        "id": "95329e01-2ae4-46b5-9fe4-7920d81e3ad8"
      },
      "outputs": [],
      "source": [
        "animal=[\"dog\",\"cat\",\"rabbit\"]"
      ]
    },
    {
      "cell_type": "code",
      "execution_count": null,
      "id": "14714b84-73a2-4743-a198-c69843ba0cd8",
      "metadata": {
        "id": "14714b84-73a2-4743-a198-c69843ba0cd8"
      },
      "outputs": [],
      "source": [
        "animal.append(\"tiger\")"
      ]
    },
    {
      "cell_type": "code",
      "execution_count": null,
      "id": "558597e7-1ef2-462f-8826-cf30e0020263",
      "metadata": {
        "id": "558597e7-1ef2-462f-8826-cf30e0020263",
        "outputId": "8f6c064b-f8cd-41ff-8180-7cdd0518f375"
      },
      "outputs": [
        {
          "data": {
            "text/plain": [
              "['dog', 'cat', 'rabbit', 'tiger']"
            ]
          },
          "execution_count": 96,
          "metadata": {},
          "output_type": "execute_result"
        }
      ],
      "source": [
        "animal"
      ]
    },
    {
      "cell_type": "code",
      "execution_count": null,
      "id": "3a86391a-af42-4bcf-b522-4bca74e5db3e",
      "metadata": {
        "id": "3a86391a-af42-4bcf-b522-4bca74e5db3e"
      },
      "outputs": [],
      "source": [
        "wild_animal=[\"lion\",\"fox\"]"
      ]
    },
    {
      "cell_type": "code",
      "execution_count": null,
      "id": "3a1b669a-fc2e-457c-8626-644c4e90f783",
      "metadata": {
        "id": "3a1b669a-fc2e-457c-8626-644c4e90f783"
      },
      "outputs": [],
      "source": [
        "animal.append(wild_animal)"
      ]
    },
    {
      "cell_type": "code",
      "execution_count": null,
      "id": "f8a6b90c-f0a9-43cf-8a8f-f6ff5d3d48d4",
      "metadata": {
        "id": "f8a6b90c-f0a9-43cf-8a8f-f6ff5d3d48d4",
        "outputId": "574995de-0ea6-49c1-836b-3f784dafb461"
      },
      "outputs": [
        {
          "data": {
            "text/plain": [
              "['dog', 'cat', 'rabbit', ['lion', 'fox']]"
            ]
          },
          "execution_count": 105,
          "metadata": {},
          "output_type": "execute_result"
        }
      ],
      "source": [
        "animal"
      ]
    },
    {
      "cell_type": "code",
      "execution_count": null,
      "id": "87ba231b-03b5-4d4a-80a4-1a71a06fada4",
      "metadata": {
        "id": "87ba231b-03b5-4d4a-80a4-1a71a06fada4",
        "outputId": "1d624b43-92a1-4b92-e9d9-ac6ca39024d4"
      },
      "outputs": [
        {
          "data": {
            "text/plain": [
              "['dog', 'cat', 'rabbit']"
            ]
          },
          "execution_count": 102,
          "metadata": {},
          "output_type": "execute_result"
        }
      ],
      "source": [
        "animal"
      ]
    },
    {
      "cell_type": "code",
      "execution_count": null,
      "id": "11dfb347-e299-4f34-a494-b4115ce9190e",
      "metadata": {
        "id": "11dfb347-e299-4f34-a494-b4115ce9190e",
        "outputId": "33fc2e59-6b14-4aa3-a1c3-8954945d817b"
      },
      "outputs": [
        {
          "data": {
            "text/plain": [
              "['dog', 'cat', 'rabbit', 'tiger', ['lion', 'fox'], 'lion', 'fox']"
            ]
          },
          "execution_count": 100,
          "metadata": {},
          "output_type": "execute_result"
        }
      ],
      "source": [
        "animal+wild_animal"
      ]
    },
    {
      "cell_type": "code",
      "execution_count": null,
      "id": "0f9ac7a7-4d02-40ed-ab54-0ef1af14bcf5",
      "metadata": {
        "id": "0f9ac7a7-4d02-40ed-ab54-0ef1af14bcf5"
      },
      "outputs": [],
      "source": [
        "animal.extend(wild_animal)"
      ]
    },
    {
      "cell_type": "code",
      "execution_count": null,
      "id": "0e42d5a7-5d0c-4f04-a297-7f90aeb0eb68",
      "metadata": {
        "id": "0e42d5a7-5d0c-4f04-a297-7f90aeb0eb68",
        "outputId": "29358d08-f310-4470-84b8-5c66a318aa5c"
      },
      "outputs": [
        {
          "data": {
            "text/plain": [
              "['dog', 'cat', 'rabbit', 'lion', 'fox', ['lion', 'fox']]"
            ]
          },
          "execution_count": 113,
          "metadata": {},
          "output_type": "execute_result"
        }
      ],
      "source": [
        "animal"
      ]
    },
    {
      "cell_type": "code",
      "execution_count": null,
      "id": "1a32354d-37fd-4a56-a35e-e210ceb6472e",
      "metadata": {
        "id": "1a32354d-37fd-4a56-a35e-e210ceb6472e",
        "outputId": "61fcae11-3d18-4bf1-bcd3-b6bffc7714cd"
      },
      "outputs": [
        {
          "data": {
            "text/plain": [
              "'n'"
            ]
          },
          "execution_count": 116,
          "metadata": {},
          "output_type": "execute_result"
        }
      ],
      "source": [
        "animal[5][0][3]"
      ]
    },
    {
      "cell_type": "code",
      "execution_count": null,
      "id": "ed9a2417-af9b-49ab-8adc-4f8eeabd5e5c",
      "metadata": {
        "id": "ed9a2417-af9b-49ab-8adc-4f8eeabd5e5c"
      },
      "outputs": [],
      "source": [
        "mynums=[1,2,34,5,546,56,6576,767,76]"
      ]
    },
    {
      "cell_type": "code",
      "execution_count": null,
      "id": "e79578d2-4a7a-42b9-a02f-130fc1efff36",
      "metadata": {
        "id": "e79578d2-4a7a-42b9-a02f-130fc1efff36"
      },
      "outputs": [],
      "source": [
        "mynums.append(1000)"
      ]
    },
    {
      "cell_type": "code",
      "execution_count": null,
      "id": "fa62e749-0acc-4255-86af-778bc4290645",
      "metadata": {
        "id": "fa62e749-0acc-4255-86af-778bc4290645",
        "outputId": "023f1207-ccb2-427c-f959-d49812e23e4a"
      },
      "outputs": [
        {
          "data": {
            "text/plain": [
              "[1, 2, 34, 5, 546, 56, 6576, 767, 76, 1000]"
            ]
          },
          "execution_count": 119,
          "metadata": {},
          "output_type": "execute_result"
        }
      ],
      "source": [
        "mynums"
      ]
    },
    {
      "cell_type": "code",
      "execution_count": null,
      "id": "adf8c509-4293-4749-a76b-06d9e39421f9",
      "metadata": {
        "id": "adf8c509-4293-4749-a76b-06d9e39421f9"
      },
      "outputs": [],
      "source": [
        "mynums.extend(\"2000\")"
      ]
    },
    {
      "cell_type": "code",
      "execution_count": null,
      "id": "92492e07-d235-43a5-8215-a8df1cc42f69",
      "metadata": {
        "id": "92492e07-d235-43a5-8215-a8df1cc42f69",
        "outputId": "cb3ee16b-d0cd-495d-d524-e1b02f116dd9"
      },
      "outputs": [
        {
          "data": {
            "text/plain": [
              "[1, 2, 34, 5, 546, 56, 6576, 767, 76, 1000, '2', '0', '0', '0']"
            ]
          },
          "execution_count": 122,
          "metadata": {},
          "output_type": "execute_result"
        }
      ],
      "source": [
        "mynums"
      ]
    },
    {
      "cell_type": "code",
      "execution_count": null,
      "id": "0bbafcf5-c3d6-442a-8eca-979611529958",
      "metadata": {
        "id": "0bbafcf5-c3d6-442a-8eca-979611529958"
      },
      "outputs": [],
      "source": [
        "mynums.extend([2000])"
      ]
    },
    {
      "cell_type": "code",
      "execution_count": null,
      "id": "403697ed-c0f9-46a4-b859-7481677bbbfa",
      "metadata": {
        "id": "403697ed-c0f9-46a4-b859-7481677bbbfa",
        "outputId": "a1689475-956a-4e00-87fc-b3440e5f9ad1"
      },
      "outputs": [
        {
          "data": {
            "text/plain": [
              "[1, 2, 34, 5, 546, 56, 6576, 767, 76, 1000, '2', '0', '0', '0', 2000]"
            ]
          },
          "execution_count": 124,
          "metadata": {},
          "output_type": "execute_result"
        }
      ],
      "source": [
        "mynums"
      ]
    },
    {
      "cell_type": "code",
      "execution_count": null,
      "id": "b9d35bb4-56b6-4ee9-ab2a-54604462f5b4",
      "metadata": {
        "id": "b9d35bb4-56b6-4ee9-ab2a-54604462f5b4"
      },
      "outputs": [],
      "source": [
        "primes=[2,3,5,7,11]"
      ]
    },
    {
      "cell_type": "code",
      "execution_count": null,
      "id": "2e8ae2c0-074d-4492-9db9-0fe3ad65089b",
      "metadata": {
        "id": "2e8ae2c0-074d-4492-9db9-0fe3ad65089b"
      },
      "outputs": [],
      "source": [
        "#modifying the list(it is going to overwrite)\n",
        "primes[3]=9"
      ]
    },
    {
      "cell_type": "code",
      "execution_count": null,
      "id": "fbd2e74b-357f-4f6d-b837-93aac19bd7f7",
      "metadata": {
        "id": "fbd2e74b-357f-4f6d-b837-93aac19bd7f7",
        "outputId": "bdcfceae-8fb8-44c7-b6c6-f85ff920ec08"
      },
      "outputs": [
        {
          "data": {
            "text/plain": [
              "[2, 3, 5, 9, 11]"
            ]
          },
          "execution_count": 127,
          "metadata": {},
          "output_type": "execute_result"
        }
      ],
      "source": [
        "primes"
      ]
    },
    {
      "cell_type": "markdown",
      "id": "eea731eb-79f4-404c-ad46-d572cc1de055",
      "metadata": {
        "id": "eea731eb-79f4-404c-ad46-d572cc1de055"
      },
      "source": [
        "# insert(index,value)\n",
        "\n",
        "# not overwrite only insert at the given index"
      ]
    },
    {
      "cell_type": "code",
      "execution_count": null,
      "id": "ffd3e34f-4b91-4ec0-aefd-30a8d357978a",
      "metadata": {
        "id": "ffd3e34f-4b91-4ec0-aefd-30a8d357978a"
      },
      "outputs": [],
      "source": [
        "primes.insert(3,1000)"
      ]
    },
    {
      "cell_type": "code",
      "execution_count": null,
      "id": "c706c98b-619a-4cda-9412-bce88cb04446",
      "metadata": {
        "id": "c706c98b-619a-4cda-9412-bce88cb04446",
        "outputId": "fae330ff-2168-416b-d7d2-5d7d66728ea5"
      },
      "outputs": [
        {
          "data": {
            "text/plain": [
              "[2, 3, 5, 1000, 9, 11]"
            ]
          },
          "execution_count": 129,
          "metadata": {},
          "output_type": "execute_result"
        }
      ],
      "source": [
        "primes"
      ]
    },
    {
      "cell_type": "markdown",
      "id": "7db764fd-58dd-405d-846b-f0b99d8361f8",
      "metadata": {
        "id": "7db764fd-58dd-405d-846b-f0b99d8361f8"
      },
      "source": [
        "# count"
      ]
    },
    {
      "cell_type": "code",
      "execution_count": null,
      "id": "00ce5b87-d0aa-4f94-bf51-a0289d0ad9c7",
      "metadata": {
        "id": "00ce5b87-d0aa-4f94-bf51-a0289d0ad9c7",
        "outputId": "5c3ee61b-b3e6-4d7b-e482-2c71b723be89"
      },
      "outputs": [
        {
          "data": {
            "text/plain": [
              "[1, 2, 34, 5, 546, 56, 6576, 767, 76, 1000, '2', '0', '0', '0', 2000]"
            ]
          },
          "execution_count": 132,
          "metadata": {},
          "output_type": "execute_result"
        }
      ],
      "source": [
        "mynums"
      ]
    },
    {
      "cell_type": "code",
      "execution_count": null,
      "id": "0aa7101e-aa09-4352-be4b-f91cb8188d3f",
      "metadata": {
        "id": "0aa7101e-aa09-4352-be4b-f91cb8188d3f",
        "outputId": "de16c873-a685-407a-d65c-d42d8b148780"
      },
      "outputs": [
        {
          "data": {
            "text/plain": [
              "1"
            ]
          },
          "execution_count": 139,
          "metadata": {},
          "output_type": "execute_result"
        }
      ],
      "source": [
        "mynums.count(\"2\")"
      ]
    },
    {
      "cell_type": "markdown",
      "id": "f49566ca-bd46-439b-9c26-a048376da6df",
      "metadata": {
        "id": "f49566ca-bd46-439b-9c26-a048376da6df"
      },
      "source": [
        "# index"
      ]
    },
    {
      "cell_type": "code",
      "execution_count": null,
      "id": "b0693fc3-2cf0-4ef3-bd93-c362a1de0719",
      "metadata": {
        "id": "b0693fc3-2cf0-4ef3-bd93-c362a1de0719",
        "outputId": "a3e03413-1416-4201-a561-b404f0aa749c"
      },
      "outputs": [
        {
          "data": {
            "text/plain": [
              "3"
            ]
          },
          "execution_count": 140,
          "metadata": {},
          "output_type": "execute_result"
        }
      ],
      "source": [
        "# you will get index of the given element\n",
        "mynums.index(5)"
      ]
    },
    {
      "cell_type": "code",
      "execution_count": null,
      "id": "f399d9c0-2a2f-45ac-8d31-dfcf08cab050",
      "metadata": {
        "id": "f399d9c0-2a2f-45ac-8d31-dfcf08cab050",
        "outputId": "24ea2b72-f635-4c6b-eabd-3595f8fe86c9"
      },
      "outputs": [
        {
          "data": {
            "text/plain": [
              "14"
            ]
          },
          "execution_count": 141,
          "metadata": {},
          "output_type": "execute_result"
        }
      ],
      "source": [
        "mynums.index(2000)"
      ]
    },
    {
      "cell_type": "code",
      "execution_count": null,
      "id": "684a92e6-e2d2-4ceb-8fb7-96ad47fce2c4",
      "metadata": {
        "id": "684a92e6-e2d2-4ceb-8fb7-96ad47fce2c4",
        "outputId": "a34464fe-9ae9-403e-8888-2e045e183770"
      },
      "outputs": [
        {
          "data": {
            "text/plain": [
              "14"
            ]
          },
          "execution_count": 143,
          "metadata": {},
          "output_type": "execute_result"
        }
      ],
      "source": [
        "len(mynums)-1"
      ]
    },
    {
      "cell_type": "markdown",
      "id": "29e1f79a-a017-4147-afaf-3bce6cda9175",
      "metadata": {
        "id": "29e1f79a-a017-4147-afaf-3bce6cda9175"
      },
      "source": [
        "# remove()"
      ]
    },
    {
      "cell_type": "code",
      "execution_count": null,
      "id": "bac05a21-4656-4a27-843e-187b02a60908",
      "metadata": {
        "id": "bac05a21-4656-4a27-843e-187b02a60908"
      },
      "outputs": [],
      "source": [
        "# search for the given element and remove it(it removes the first matching element)\n",
        "vowels=[\"a\",\"e\",\"i\",\"o\",\"u\"]"
      ]
    },
    {
      "cell_type": "code",
      "execution_count": null,
      "id": "9bd9e877-a3b3-422c-80e6-da9e54075ec4",
      "metadata": {
        "id": "9bd9e877-a3b3-422c-80e6-da9e54075ec4"
      },
      "outputs": [],
      "source": [
        "vowels.remove(\"a\")"
      ]
    },
    {
      "cell_type": "code",
      "execution_count": null,
      "id": "dd1ed5d8-35f1-49a0-a6ea-e6803d2fe1f7",
      "metadata": {
        "id": "dd1ed5d8-35f1-49a0-a6ea-e6803d2fe1f7",
        "outputId": "0a91f133-bcc0-4dd2-f0e3-be8998504ff2"
      },
      "outputs": [
        {
          "data": {
            "text/plain": [
              "['e', 'i', 'o', 'u']"
            ]
          },
          "execution_count": 146,
          "metadata": {},
          "output_type": "execute_result"
        }
      ],
      "source": [
        "vowels"
      ]
    },
    {
      "cell_type": "code",
      "execution_count": null,
      "id": "fad8d074-ebee-48cb-871d-e17eaa2e7804",
      "metadata": {
        "id": "fad8d074-ebee-48cb-871d-e17eaa2e7804"
      },
      "outputs": [],
      "source": [
        "# search for the given element and remove it(it removes the first matching element)\n",
        "vowels=[\"a\",\"a\",\"e\",\"i\",\"o\",\"u\"]"
      ]
    },
    {
      "cell_type": "code",
      "execution_count": null,
      "id": "51c731d6-2f6f-400e-8fec-766d21e5460c",
      "metadata": {
        "id": "51c731d6-2f6f-400e-8fec-766d21e5460c",
        "outputId": "c78c5a9c-e05b-4965-bc99-5ca79a438eaa"
      },
      "outputs": [
        {
          "data": {
            "text/plain": [
              "['a', 'a', 'e', 'i', 'o', 'u']"
            ]
          },
          "execution_count": 149,
          "metadata": {},
          "output_type": "execute_result"
        }
      ],
      "source": [
        "vowels"
      ]
    },
    {
      "cell_type": "code",
      "execution_count": null,
      "id": "23b533dd-2523-4644-8fbb-3b5fc6ad89e6",
      "metadata": {
        "id": "23b533dd-2523-4644-8fbb-3b5fc6ad89e6"
      },
      "outputs": [],
      "source": [
        "vowels.remove(\"a\")"
      ]
    },
    {
      "cell_type": "code",
      "execution_count": null,
      "id": "5ca25286-0c72-4557-b8d2-439bba90a261",
      "metadata": {
        "id": "5ca25286-0c72-4557-b8d2-439bba90a261",
        "outputId": "5dcf2075-1eab-45f0-dacf-b58ea9f18f2d"
      },
      "outputs": [
        {
          "data": {
            "text/plain": [
              "['e', 'i', 'o', 'u']"
            ]
          },
          "execution_count": 153,
          "metadata": {},
          "output_type": "execute_result"
        }
      ],
      "source": [
        "vowels"
      ]
    },
    {
      "cell_type": "markdown",
      "id": "c297f48b-da6a-4cd4-9cc6-c7928561ce6e",
      "metadata": {
        "id": "c297f48b-da6a-4cd4-9cc6-c7928561ce6e"
      },
      "source": [
        "# pop "
      ]
    },
    {
      "cell_type": "markdown",
      "id": "6de8dfbe-7069-42a1-8467-6197fdb2eb11",
      "metadata": {
        "id": "6de8dfbe-7069-42a1-8467-6197fdb2eb11"
      },
      "source": [
        "# pop method removes and return the element at the given index"
      ]
    },
    {
      "cell_type": "markdown",
      "id": "6d0b9452-dd7a-4314-b345-01749b429fee",
      "metadata": {
        "id": "6d0b9452-dd7a-4314-b345-01749b429fee"
      },
      "source": [
        "# pop mehtod takes index and remove it from the list and return that element"
      ]
    },
    {
      "cell_type": "code",
      "execution_count": null,
      "id": "97bee8d9-3131-4c1f-b237-e653a6736d2b",
      "metadata": {
        "id": "97bee8d9-3131-4c1f-b237-e653a6736d2b"
      },
      "outputs": [],
      "source": [
        "fruits=[\"apple\",\"banana\",\"orange\"]"
      ]
    },
    {
      "cell_type": "code",
      "execution_count": null,
      "id": "5e267e6c-c5a7-45eb-9788-4ef0a123d8bb",
      "metadata": {
        "id": "5e267e6c-c5a7-45eb-9788-4ef0a123d8bb",
        "outputId": "572c50d0-8491-4c96-f9f3-d71efbe53c1f"
      },
      "outputs": [
        {
          "data": {
            "text/plain": [
              "'banana'"
            ]
          },
          "execution_count": 155,
          "metadata": {},
          "output_type": "execute_result"
        }
      ],
      "source": [
        "fruits.pop(1)"
      ]
    },
    {
      "cell_type": "code",
      "execution_count": null,
      "id": "c21ede03-0966-4e61-a76f-1db95d5af092",
      "metadata": {
        "id": "c21ede03-0966-4e61-a76f-1db95d5af092",
        "outputId": "9dcd14d2-dc0f-4e31-b5cf-8762e7daee40"
      },
      "outputs": [
        {
          "data": {
            "text/plain": [
              "['apple', 'orange']"
            ]
          },
          "execution_count": 156,
          "metadata": {},
          "output_type": "execute_result"
        }
      ],
      "source": [
        "fruits"
      ]
    },
    {
      "cell_type": "code",
      "execution_count": null,
      "id": "3f8a3992-8b4e-4562-83d6-57c99de61417",
      "metadata": {
        "id": "3f8a3992-8b4e-4562-83d6-57c99de61417",
        "outputId": "17e5c65f-67f1-4102-9a11-24e49d9b1610"
      },
      "outputs": [
        {
          "data": {
            "text/plain": [
              "'orange'"
            ]
          },
          "execution_count": 158,
          "metadata": {},
          "output_type": "execute_result"
        }
      ],
      "source": [
        "fruits.pop(1)"
      ]
    },
    {
      "cell_type": "code",
      "execution_count": null,
      "id": "eb72c774-7d23-4a9f-9c7c-78b6f911cbcd",
      "metadata": {
        "id": "eb72c774-7d23-4a9f-9c7c-78b6f911cbcd",
        "outputId": "c804261c-143e-412a-f7cb-8653447a3366"
      },
      "outputs": [
        {
          "data": {
            "text/plain": [
              "['apple']"
            ]
          },
          "execution_count": 159,
          "metadata": {},
          "output_type": "execute_result"
        }
      ],
      "source": [
        "fruits"
      ]
    },
    {
      "cell_type": "code",
      "execution_count": null,
      "id": "3ffef8da-1711-42f8-a635-e97095074036",
      "metadata": {
        "id": "3ffef8da-1711-42f8-a635-e97095074036",
        "outputId": "6aac4313-8cb1-42da-daad-396fd6f508c3"
      },
      "outputs": [
        {
          "ename": "SyntaxError",
          "evalue": "invalid syntax (4039824852.py, line 1)",
          "output_type": "error",
          "traceback": [
            "\u001b[0;36m  Cell \u001b[0;32mIn [160], line 1\u001b[0;36m\u001b[0m\n\u001b[0;31m    a->str\u001b[0m\n\u001b[0m     ^\u001b[0m\n\u001b[0;31mSyntaxError\u001b[0m\u001b[0;31m:\u001b[0m invalid syntax\n"
          ]
        }
      ],
      "source": []
    },
    {
      "cell_type": "code",
      "execution_count": null,
      "id": "c0fe8b13-8a5a-459d-8a54-1fc820ff3944",
      "metadata": {
        "id": "c0fe8b13-8a5a-459d-8a54-1fc820ff3944"
      },
      "outputs": [],
      "source": [
        "fruits.clear()"
      ]
    },
    {
      "cell_type": "code",
      "execution_count": null,
      "id": "004d41a6-a462-46e4-b7e1-0b0f3e2d5672",
      "metadata": {
        "id": "004d41a6-a462-46e4-b7e1-0b0f3e2d5672",
        "outputId": "1175d008-2efb-45be-9b85-9da40d110b00"
      },
      "outputs": [
        {
          "data": {
            "text/plain": [
              "[]"
            ]
          },
          "execution_count": 162,
          "metadata": {},
          "output_type": "execute_result"
        }
      ],
      "source": [
        "fruits"
      ]
    },
    {
      "cell_type": "markdown",
      "id": "6ed4990d-f08c-42b6-9046-0f7edcbfcb17",
      "metadata": {
        "id": "6ed4990d-f08c-42b6-9046-0f7edcbfcb17"
      },
      "source": [
        "# sort"
      ]
    },
    {
      "cell_type": "markdown",
      "id": "c39147a1-868b-4ba4-9555-e27f31d397fc",
      "metadata": {
        "id": "c39147a1-868b-4ba4-9555-e27f31d397fc"
      },
      "source": [
        "# it is going to sort in assending as well as decending"
      ]
    },
    {
      "cell_type": "code",
      "execution_count": null,
      "id": "35457b70-69cf-48b2-9fd9-04348db718bb",
      "metadata": {
        "id": "35457b70-69cf-48b2-9fd9-04348db718bb"
      },
      "outputs": [],
      "source": [
        "mylist=[233,3456,346,576,76578,5678,5,34,6556,546]"
      ]
    },
    {
      "cell_type": "code",
      "execution_count": null,
      "id": "3d94df73-a59d-4eb1-8ee4-ad495f382db9",
      "metadata": {
        "id": "3d94df73-a59d-4eb1-8ee4-ad495f382db9"
      },
      "outputs": [],
      "source": [
        "mylist.sort()"
      ]
    },
    {
      "cell_type": "code",
      "execution_count": null,
      "id": "b4cd0a0b-55b1-42cb-9eb7-2c0a37a71c8a",
      "metadata": {
        "id": "b4cd0a0b-55b1-42cb-9eb7-2c0a37a71c8a",
        "outputId": "bba237d2-7c2e-4448-c947-e9b7f13832f2"
      },
      "outputs": [
        {
          "data": {
            "text/plain": [
              "[5, 34, 233, 346, 546, 576, 3456, 5678, 6556, 76578]"
            ]
          },
          "execution_count": 165,
          "metadata": {},
          "output_type": "execute_result"
        }
      ],
      "source": [
        "mylist"
      ]
    },
    {
      "cell_type": "code",
      "execution_count": null,
      "id": "8040170a-f01a-4541-840b-3b19dedd677b",
      "metadata": {
        "id": "8040170a-f01a-4541-840b-3b19dedd677b"
      },
      "outputs": [],
      "source": [
        "mylist.sort(reverse=True)"
      ]
    },
    {
      "cell_type": "code",
      "execution_count": null,
      "id": "b717b6d3-6e8c-423c-8094-5ba8259248bb",
      "metadata": {
        "id": "b717b6d3-6e8c-423c-8094-5ba8259248bb",
        "outputId": "5bb9bec8-175e-4799-8893-d903498f8caa"
      },
      "outputs": [
        {
          "data": {
            "text/plain": [
              "[76578, 6556, 5678, 3456, 576, 546, 346, 233, 34, 5]"
            ]
          },
          "execution_count": 167,
          "metadata": {},
          "output_type": "execute_result"
        }
      ],
      "source": [
        "mylist"
      ]
    },
    {
      "cell_type": "markdown",
      "id": "9bd23277-7efa-4c22-af15-effa07b43153",
      "metadata": {
        "id": "9bd23277-7efa-4c22-af15-effa07b43153"
      },
      "source": [
        "# reverse"
      ]
    },
    {
      "cell_type": "markdown",
      "id": "6986a50a-3d14-4471-93c0-6bd2b3c542ee",
      "metadata": {
        "id": "6986a50a-3d14-4471-93c0-6bd2b3c542ee"
      },
      "source": [
        "# it is going to reverse the element"
      ]
    },
    {
      "cell_type": "code",
      "execution_count": null,
      "id": "114b1dda-151d-421c-85e4-b15ed713c6e0",
      "metadata": {
        "id": "114b1dda-151d-421c-85e4-b15ed713c6e0"
      },
      "outputs": [],
      "source": [
        "mylist.reverse()"
      ]
    },
    {
      "cell_type": "code",
      "execution_count": null,
      "id": "d4b3c984-fc48-4aac-a328-ede73059a52a",
      "metadata": {
        "id": "d4b3c984-fc48-4aac-a328-ede73059a52a",
        "outputId": "e15f9a31-267d-43b9-88ab-85b80b87f5b2"
      },
      "outputs": [
        {
          "data": {
            "text/plain": [
              "[546, 6556, 34, 5, 5678, 76578, 576, 346, 3456, 233]"
            ]
          },
          "execution_count": 171,
          "metadata": {},
          "output_type": "execute_result"
        }
      ],
      "source": [
        "mylist"
      ]
    },
    {
      "cell_type": "code",
      "execution_count": null,
      "id": "3d4861b3-77db-4010-b942-ed14ac4d62b5",
      "metadata": {
        "id": "3d4861b3-77db-4010-b942-ed14ac4d62b5"
      },
      "outputs": [],
      "source": [
        "#print all the elements with while as well as for loop\n",
        "mynums=[45,65,765,75,523,5,547,67345,474,65,46]"
      ]
    },
    {
      "cell_type": "code",
      "execution_count": null,
      "id": "1551b6f3-23a2-4ed5-aeac-1138c449c097",
      "metadata": {
        "id": "1551b6f3-23a2-4ed5-aeac-1138c449c097",
        "outputId": "5e67c12e-d688-436c-eb5c-2454ca83614e"
      },
      "outputs": [
        {
          "name": "stdout",
          "output_type": "stream",
          "text": [
            "45\n",
            "65\n",
            "765\n",
            "75\n",
            "523\n",
            "5\n",
            "547\n",
            "67345\n",
            "474\n",
            "65\n",
            "46\n"
          ]
        }
      ],
      "source": [
        "i=0\n",
        "while i < len(mynums):\n",
        "    print(mynums[i])\n",
        "    i=i+1"
      ]
    },
    {
      "cell_type": "code",
      "execution_count": null,
      "id": "ff3f78df-d36d-4083-b0ea-f038a29cfd61",
      "metadata": {
        "id": "ff3f78df-d36d-4083-b0ea-f038a29cfd61",
        "outputId": "f71b5ff8-6b70-4bdf-b93d-bc08c7e70575"
      },
      "outputs": [
        {
          "name": "stdout",
          "output_type": "stream",
          "text": [
            "45\n",
            "65\n",
            "765\n",
            "75\n",
            "523\n",
            "5\n",
            "547\n",
            "67345\n",
            "474\n",
            "65\n",
            "46\n"
          ]
        }
      ],
      "source": [
        "for i in mynums:\n",
        "    print(i)"
      ]
    },
    {
      "cell_type": "markdown",
      "id": "31ea5615-5df3-477c-b54d-03d0bc1b1e88",
      "metadata": {
        "id": "31ea5615-5df3-477c-b54d-03d0bc1b1e88"
      },
      "source": [
        "# homework"
      ]
    },
    {
      "cell_type": "markdown",
      "id": "28d137fd-c6a1-44fb-97cc-a10f4a5a2bb4",
      "metadata": {
        "id": "28d137fd-c6a1-44fb-97cc-a10f4a5a2bb4"
      },
      "source": [
        "Write a program to accept five integers from the user , store them in a list . Display these integers and also display their sum\n"
      ]
    },
    {
      "cell_type": "markdown",
      "id": "834afcbb-05b0-4362-8aae-ed4758322c29",
      "metadata": {
        "id": "834afcbb-05b0-4362-8aae-ed4758322c29"
      },
      "source": [
        "Write a program to accept 5 unique integers from the user. Make sure if the integer being entered is already present in the list your code displays the message “Item already present” and ask the user to reenter the integer. \n"
      ]
    },
    {
      "cell_type": "markdown",
      "id": "ca3ae842-b507-4e46-94fc-1e844fb1ab8d",
      "metadata": {
        "id": "ca3ae842-b507-4e46-94fc-1e844fb1ab8d"
      },
      "source": [
        "Write a program to accept 2 lists from the user of 5 nos each . Assume each list will have unique nos Now find out how many items in these lists are common .\n"
      ]
    },
    {
      "cell_type": "markdown",
      "id": "0f732446-66e5-482d-99f1-608d1ee3631d",
      "metadata": {
        "id": "0f732446-66e5-482d-99f1-608d1ee3631d"
      },
      "source": [
        "Rewrite the previous code so that your code alos displays the items which are common in both the lists\n"
      ]
    },
    {
      "cell_type": "code",
      "execution_count": null,
      "id": "aa1f9496-0316-48cd-9cf5-dd72166d7df7",
      "metadata": {
        "id": "aa1f9496-0316-48cd-9cf5-dd72166d7df7"
      },
      "outputs": [],
      "source": []
    }
  ],
  "metadata": {
    "kernelspec": {
      "display_name": "Python 3 (ipykernel)",
      "language": "python",
      "name": "python3"
    },
    "language_info": {
      "codemirror_mode": {
        "name": "ipython",
        "version": 3
      },
      "file_extension": ".py",
      "mimetype": "text/x-python",
      "name": "python",
      "nbconvert_exporter": "python",
      "pygments_lexer": "ipython3",
      "version": "3.10.6"
    },
    "colab": {
      "provenance": []
    }
  },
  "nbformat": 4,
  "nbformat_minor": 5
}