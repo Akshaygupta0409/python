{
  "cells": [
    {
      "cell_type": "code",
      "execution_count": null,
      "id": "654dc9ba-693b-4e7b-80ac-ee455eb7b7ee",
      "metadata": {
        "id": "654dc9ba-693b-4e7b-80ac-ee455eb7b7ee"
      },
      "outputs": [],
      "source": [
        "word=\"imran\""
      ]
    },
    {
      "cell_type": "code",
      "execution_count": null,
      "id": "2ffff08d-28b6-4d4b-ab8d-b9d26b27a76a",
      "metadata": {
        "id": "2ffff08d-28b6-4d4b-ab8d-b9d26b27a76a",
        "outputId": "1002bd19-ed17-4853-cdea-226e65f6b866"
      },
      "outputs": [
        {
          "name": "stdout",
          "output_type": "stream",
          "text": [
            "i\n",
            "m\n",
            "r\n",
            "a\n",
            "n\n"
          ]
        }
      ],
      "source": [
        "for na in word:\n",
        "    print(na)"
      ]
    },
    {
      "cell_type": "code",
      "execution_count": null,
      "id": "24271bc8-88d2-423c-9273-2b96de3e586a",
      "metadata": {
        "id": "24271bc8-88d2-423c-9273-2b96de3e586a"
      },
      "outputs": [],
      "source": [
        "x=[1,2,3,\"a\"]"
      ]
    },
    {
      "cell_type": "code",
      "execution_count": null,
      "id": "dc498db6-5dd4-41ca-8ab0-9f4598eb9132",
      "metadata": {
        "id": "dc498db6-5dd4-41ca-8ab0-9f4598eb9132",
        "outputId": "31e45445-9e0d-473b-99b9-9443567ef731"
      },
      "outputs": [
        {
          "data": {
            "text/plain": [
              "list"
            ]
          },
          "execution_count": 4,
          "metadata": {},
          "output_type": "execute_result"
        }
      ],
      "source": [
        "type(x)"
      ]
    },
    {
      "cell_type": "code",
      "execution_count": null,
      "id": "a09eb2d2-6efd-4b7a-a204-d571e3753062",
      "metadata": {
        "id": "a09eb2d2-6efd-4b7a-a204-d571e3753062",
        "outputId": "144f0eaf-bb03-4ac2-9378-8b40a7de9713"
      },
      "outputs": [
        {
          "name": "stdout",
          "output_type": "stream",
          "text": [
            "1\n",
            "2\n",
            "3\n",
            "a\n"
          ]
        }
      ],
      "source": [
        "for y in x:\n",
        "    print(y)"
      ]
    },
    {
      "cell_type": "code",
      "execution_count": null,
      "id": "c69ce7a5-de8a-4631-a64b-e550b9daf8cd",
      "metadata": {
        "id": "c69ce7a5-de8a-4631-a64b-e550b9daf8cd"
      },
      "outputs": [],
      "source": [
        "fruits=['apple','orange','mango',2,True]"
      ]
    },
    {
      "cell_type": "code",
      "execution_count": null,
      "id": "0b9b98a5-5d8e-47c1-88b5-4dadec9ed3c8",
      "metadata": {
        "id": "0b9b98a5-5d8e-47c1-88b5-4dadec9ed3c8",
        "outputId": "2370fcca-f647-4cf8-8d9b-b90d81f6e628"
      },
      "outputs": [
        {
          "name": "stdout",
          "output_type": "stream",
          "text": [
            "apple\n",
            "orange\n",
            "mango\n",
            "2\n",
            "True\n"
          ]
        }
      ],
      "source": [
        "for i in fruits:\n",
        "    print(i)"
      ]
    },
    {
      "cell_type": "code",
      "execution_count": null,
      "id": "8d7e9251-96fb-46f7-b64d-a455e7d0a222",
      "metadata": {
        "id": "8d7e9251-96fb-46f7-b64d-a455e7d0a222",
        "outputId": "26d20332-d0cb-4e03-a996-2522d9ce4b05"
      },
      "outputs": [
        {
          "name": "stdout",
          "output_type": "stream",
          "text": [
            "Graphes found in the fruits list\n"
          ]
        }
      ],
      "source": [
        "fruits=['apple','orange','mango','papaya','grapes']\n",
        "is_grapes=False\n",
        "\n",
        "for i in fruits:\n",
        "    if i ==\"grapes\":\n",
        "        is_grapes= True\n",
        "        print(\"Graphes found in the fruits list\")\n",
        "        break\n",
        "        \n",
        "if is_grapes == False:\n",
        "    print(\"No grapes found in the list\")"
      ]
    },
    {
      "cell_type": "code",
      "execution_count": null,
      "id": "8d834b07-9e60-4394-9436-0701af73e52d",
      "metadata": {
        "id": "8d834b07-9e60-4394-9436-0701af73e52d",
        "outputId": "1c91a448-4f19-44a6-eae8-ef60c4309bbf"
      },
      "outputs": [
        {
          "name": "stdout",
          "output_type": "stream",
          "text": [
            "all the elements in the list are in the limit\n"
          ]
        }
      ],
      "source": [
        "my_list1=[14,10,12,17]\n",
        "low_bound=10\n",
        "upp_bound=20\n",
        "for i in my_list1:\n",
        "    if i<low_bound or i>upp_bound:\n",
        "        print(\"all elements are not in the limit\")\n",
        "        break\n",
        "else:\n",
        "    print(\"all the elements in the list are in the limit\")"
      ]
    },
    {
      "cell_type": "code",
      "execution_count": null,
      "id": "d610193e-1fd2-4134-a8de-8c8ae03b69e1",
      "metadata": {
        "id": "d610193e-1fd2-4134-a8de-8c8ae03b69e1"
      },
      "outputs": [],
      "source": [
        "range() function in python which return range object\n",
        "#this function is useful to generate sequnece of numbers in form of list"
      ]
    },
    {
      "cell_type": "code",
      "execution_count": null,
      "id": "d40ac489-c538-44ed-bcac-71244de49992",
      "metadata": {
        "id": "d40ac489-c538-44ed-bcac-71244de49992"
      },
      "outputs": [],
      "source": [
        "a=range(20)"
      ]
    },
    {
      "cell_type": "code",
      "execution_count": null,
      "id": "989c4619-0ae6-46a3-89a7-7697c728a189",
      "metadata": {
        "id": "989c4619-0ae6-46a3-89a7-7697c728a189",
        "outputId": "2c97ebdd-d6aa-4d5d-b8c8-7bcfd0f7b2d4"
      },
      "outputs": [
        {
          "name": "stdout",
          "output_type": "stream",
          "text": [
            "range(0, 20)\n"
          ]
        }
      ],
      "source": [
        "print(a)"
      ]
    },
    {
      "cell_type": "code",
      "execution_count": null,
      "id": "c55d4ec1-e12f-40cd-8fe3-e52114754f18",
      "metadata": {
        "id": "c55d4ec1-e12f-40cd-8fe3-e52114754f18",
        "outputId": "3b14c677-5c32-4a86-ba5e-5734ab272fae"
      },
      "outputs": [
        {
          "data": {
            "text/plain": [
              "[0, 1, 2, 3, 4, 5, 6, 7, 8, 9, 10, 11, 12, 13, 14, 15, 16, 17, 18, 19]"
            ]
          },
          "execution_count": 33,
          "metadata": {},
          "output_type": "execute_result"
        }
      ],
      "source": [
        "list(a)"
      ]
    },
    {
      "cell_type": "code",
      "execution_count": null,
      "id": "4fc73f28-b39d-4324-8bf4-7689327c449b",
      "metadata": {
        "id": "4fc73f28-b39d-4324-8bf4-7689327c449b"
      },
      "outputs": [],
      "source": []
    },
    {
      "cell_type": "code",
      "execution_count": null,
      "id": "b14c558f-326d-4749-a17e-16a7ddcb1736",
      "metadata": {
        "id": "b14c558f-326d-4749-a17e-16a7ddcb1736"
      },
      "outputs": [],
      "source": [
        "range(start,stop,step)\n",
        "\n",
        "#range(20)\n",
        "#range(1,20)\n",
        "#range(1,20,2)"
      ]
    },
    {
      "cell_type": "code",
      "execution_count": null,
      "id": "2bf77f44-008d-4e29-8e7e-5caf12420fbf",
      "metadata": {
        "id": "2bf77f44-008d-4e29-8e7e-5caf12420fbf"
      },
      "outputs": [],
      "source": [
        "b=range(4)"
      ]
    },
    {
      "cell_type": "code",
      "execution_count": null,
      "id": "0e600e1a-5f54-4c04-a6c2-0dac69c2bba4",
      "metadata": {
        "id": "0e600e1a-5f54-4c04-a6c2-0dac69c2bba4",
        "outputId": "98f22d23-0481-4064-d7bf-ee778223d6f2"
      },
      "outputs": [
        {
          "name": "stdout",
          "output_type": "stream",
          "text": [
            "range(0, 4)\n"
          ]
        }
      ],
      "source": [
        "print(b)"
      ]
    },
    {
      "cell_type": "code",
      "execution_count": null,
      "id": "192d196a-de76-45db-bf37-a5e075577854",
      "metadata": {
        "id": "192d196a-de76-45db-bf37-a5e075577854",
        "outputId": "6ffe729d-4579-42df-e042-5439d686b4fc"
      },
      "outputs": [
        {
          "data": {
            "text/plain": [
              "[0, 1, 2, 3]"
            ]
          },
          "execution_count": 37,
          "metadata": {},
          "output_type": "execute_result"
        }
      ],
      "source": [
        "list(b)"
      ]
    },
    {
      "cell_type": "code",
      "execution_count": null,
      "id": "d2b4f5a8-1c6c-459c-931d-2879b1531217",
      "metadata": {
        "id": "d2b4f5a8-1c6c-459c-931d-2879b1531217",
        "outputId": "0a3b2d05-764b-466e-83eb-0e4225ec02eb"
      },
      "outputs": [
        {
          "name": "stdout",
          "output_type": "stream",
          "text": [
            "0\n",
            "1\n",
            "2\n",
            "3\n"
          ]
        }
      ],
      "source": [
        "for i in b:\n",
        "    print(i)"
      ]
    },
    {
      "cell_type": "code",
      "execution_count": null,
      "id": "ef3b8c7a-798e-40a1-8524-1e244af189e8",
      "metadata": {
        "id": "ef3b8c7a-798e-40a1-8524-1e244af189e8"
      },
      "outputs": [],
      "source": [
        "c=range(15)\n",
        "d=list(c)"
      ]
    },
    {
      "cell_type": "code",
      "execution_count": null,
      "id": "21dfc4fa-dd52-4116-98af-00a2108ca4cd",
      "metadata": {
        "id": "21dfc4fa-dd52-4116-98af-00a2108ca4cd",
        "outputId": "1fbd038f-b919-46df-93b7-fc925f63f0ec"
      },
      "outputs": [
        {
          "name": "stdout",
          "output_type": "stream",
          "text": [
            "0\n",
            "1\n",
            "2\n",
            "3\n",
            "4\n",
            "5\n",
            "6\n",
            "7\n",
            "8\n",
            "9\n",
            "10\n",
            "11\n",
            "12\n",
            "13\n",
            "14\n"
          ]
        }
      ],
      "source": [
        "for i in c:\n",
        "    print(i)"
      ]
    },
    {
      "cell_type": "code",
      "execution_count": null,
      "id": "6ad3d8a6-6d27-4346-b329-e9ee04330f47",
      "metadata": {
        "id": "6ad3d8a6-6d27-4346-b329-e9ee04330f47"
      },
      "outputs": [],
      "source": [
        "x=range(7)"
      ]
    },
    {
      "cell_type": "code",
      "execution_count": null,
      "id": "730f8f0e-c252-4746-82a3-95083fd2a821",
      "metadata": {
        "id": "730f8f0e-c252-4746-82a3-95083fd2a821",
        "outputId": "256607e2-501f-4ba0-ede6-3409ee99c8dc"
      },
      "outputs": [
        {
          "name": "stdout",
          "output_type": "stream",
          "text": [
            "0\n",
            "1\n",
            "2\n",
            "3\n",
            "4\n",
            "5\n",
            "6\n"
          ]
        }
      ],
      "source": [
        "for i in x:\n",
        "    print(i)"
      ]
    },
    {
      "cell_type": "code",
      "execution_count": null,
      "id": "4d746b9b-babe-44e5-b7b1-1880380e044d",
      "metadata": {
        "id": "4d746b9b-babe-44e5-b7b1-1880380e044d"
      },
      "outputs": [],
      "source": [
        "range(start,stop,step)"
      ]
    },
    {
      "cell_type": "code",
      "execution_count": null,
      "id": "43752075-7a3c-4a63-a1b9-1dc59635998f",
      "metadata": {
        "id": "43752075-7a3c-4a63-a1b9-1dc59635998f"
      },
      "outputs": [],
      "source": [
        "y=range(6)"
      ]
    },
    {
      "cell_type": "code",
      "execution_count": null,
      "id": "3567d172-9d78-4e11-8516-6a30ff7ce9dc",
      "metadata": {
        "id": "3567d172-9d78-4e11-8516-6a30ff7ce9dc",
        "outputId": "a6d1ce11-3781-4be1-f037-5bd056960acd"
      },
      "outputs": [
        {
          "name": "stdout",
          "output_type": "stream",
          "text": [
            "0\n",
            "1\n",
            "2\n",
            "3\n",
            "4\n",
            "5\n"
          ]
        }
      ],
      "source": [
        "for i in y:\n",
        "    print(i)"
      ]
    },
    {
      "cell_type": "code",
      "execution_count": null,
      "id": "f89960d7-bd72-4568-ae98-fe66850057a5",
      "metadata": {
        "id": "f89960d7-bd72-4568-ae98-fe66850057a5"
      },
      "outputs": [],
      "source": [
        "y=range(1,6)"
      ]
    },
    {
      "cell_type": "code",
      "execution_count": null,
      "id": "7a9e4d5f-0f39-4cb7-983f-a3ca35584ae7",
      "metadata": {
        "id": "7a9e4d5f-0f39-4cb7-983f-a3ca35584ae7",
        "outputId": "a1c6a19a-6d17-42a2-c8c1-cf8bf2907585"
      },
      "outputs": [
        {
          "name": "stdout",
          "output_type": "stream",
          "text": [
            "1\n",
            "2\n",
            "3\n",
            "4\n",
            "5\n"
          ]
        }
      ],
      "source": [
        "for i in y:\n",
        "    print(i)"
      ]
    },
    {
      "cell_type": "code",
      "execution_count": null,
      "id": "6a62b853-0537-49ff-8d52-5672405e3f02",
      "metadata": {
        "id": "6a62b853-0537-49ff-8d52-5672405e3f02"
      },
      "outputs": [],
      "source": [
        "y=range(1,6,2)"
      ]
    },
    {
      "cell_type": "code",
      "execution_count": null,
      "id": "3cdde3b8-a1b9-4aea-98dd-e954b5e36b17",
      "metadata": {
        "id": "3cdde3b8-a1b9-4aea-98dd-e954b5e36b17",
        "outputId": "021ca675-09ac-48b0-c170-3a2dcc6d439a"
      },
      "outputs": [
        {
          "name": "stdout",
          "output_type": "stream",
          "text": [
            "1\n",
            "3\n",
            "5\n"
          ]
        }
      ],
      "source": [
        "for i in y:\n",
        "    print(i)"
      ]
    },
    {
      "cell_type": "code",
      "execution_count": null,
      "id": "7f85a960-a585-413b-b82c-064232833409",
      "metadata": {
        "id": "7f85a960-a585-413b-b82c-064232833409"
      },
      "outputs": [],
      "source": [
        "x=range(-10)"
      ]
    },
    {
      "cell_type": "code",
      "execution_count": null,
      "id": "4d419bfa-e61f-465e-98fa-7f5367f27296",
      "metadata": {
        "id": "4d419bfa-e61f-465e-98fa-7f5367f27296",
        "outputId": "204ab558-6655-49da-86b1-9ca61eae6f16"
      },
      "outputs": [
        {
          "data": {
            "text/plain": [
              "[]"
            ]
          },
          "execution_count": 55,
          "metadata": {},
          "output_type": "execute_result"
        }
      ],
      "source": [
        "list(x)"
      ]
    },
    {
      "cell_type": "code",
      "execution_count": null,
      "id": "d56add0d-d4aa-45b3-90c8-dc7d3cb4399b",
      "metadata": {
        "id": "d56add0d-d4aa-45b3-90c8-dc7d3cb4399b"
      },
      "outputs": [],
      "source": [
        "m=range(1)"
      ]
    },
    {
      "cell_type": "code",
      "execution_count": null,
      "id": "ad48116b-6d97-4416-a2fa-78f5840ab046",
      "metadata": {
        "id": "ad48116b-6d97-4416-a2fa-78f5840ab046"
      },
      "outputs": [],
      "source": [
        "l=list(m)"
      ]
    },
    {
      "cell_type": "code",
      "execution_count": null,
      "id": "8cc2e854-173b-409b-8b69-92758600a3bb",
      "metadata": {
        "id": "8cc2e854-173b-409b-8b69-92758600a3bb",
        "outputId": "3179a9ba-9910-497f-b410-cc519d92fa54"
      },
      "outputs": [
        {
          "name": "stdout",
          "output_type": "stream",
          "text": [
            "[0]\n"
          ]
        }
      ],
      "source": [
        "print(l)"
      ]
    },
    {
      "cell_type": "code",
      "execution_count": null,
      "id": "2e69ea9c-750a-433c-9e6a-2d5f0e8e4b14",
      "metadata": {
        "id": "2e69ea9c-750a-433c-9e6a-2d5f0e8e4b14"
      },
      "outputs": [],
      "source": [
        "a=range(10,1)"
      ]
    },
    {
      "cell_type": "code",
      "execution_count": null,
      "id": "6961e063-536e-41dc-a597-1f2c572cbe51",
      "metadata": {
        "id": "6961e063-536e-41dc-a597-1f2c572cbe51",
        "outputId": "92d1be68-37a9-47b2-ee24-899d04ad169d"
      },
      "outputs": [
        {
          "data": {
            "text/plain": [
              "[]"
            ]
          },
          "execution_count": 64,
          "metadata": {},
          "output_type": "execute_result"
        }
      ],
      "source": [
        "list(a)"
      ]
    },
    {
      "cell_type": "code",
      "execution_count": null,
      "id": "b6210f57-c5b0-4198-a5c4-16a07403c05f",
      "metadata": {
        "id": "b6210f57-c5b0-4198-a5c4-16a07403c05f"
      },
      "outputs": [],
      "source": [
        "a=range(-10,3)"
      ]
    },
    {
      "cell_type": "code",
      "execution_count": null,
      "id": "d9b4ffda-1362-4b96-b9d6-c12611a3c667",
      "metadata": {
        "id": "d9b4ffda-1362-4b96-b9d6-c12611a3c667",
        "outputId": "3ddf5e88-a18f-49b1-8fca-a72a8937b1dd"
      },
      "outputs": [
        {
          "data": {
            "text/plain": [
              "[-10, -9, -8, -7, -6, -5, -4, -3, -2, -1, 0, 1, 2]"
            ]
          },
          "execution_count": 66,
          "metadata": {},
          "output_type": "execute_result"
        }
      ],
      "source": [
        "list(a)"
      ]
    },
    {
      "cell_type": "code",
      "execution_count": null,
      "id": "a9fea6a0-5cb2-4d93-a065-8d3bc9fc80e9",
      "metadata": {
        "id": "a9fea6a0-5cb2-4d93-a065-8d3bc9fc80e9"
      },
      "outputs": [],
      "source": [
        "a=range(-3,-10,-2)"
      ]
    },
    {
      "cell_type": "code",
      "execution_count": null,
      "id": "a7bcfe0b-c99b-4c38-ad71-c428c27e2f89",
      "metadata": {
        "id": "a7bcfe0b-c99b-4c38-ad71-c428c27e2f89"
      },
      "outputs": [],
      "source": []
    },
    {
      "cell_type": "code",
      "execution_count": null,
      "id": "19116a5d-7e3f-495d-bcb0-61da968a0ca6",
      "metadata": {
        "id": "19116a5d-7e3f-495d-bcb0-61da968a0ca6",
        "outputId": "48cc9809-98e1-485a-8c4d-2efd2a8a6fbd"
      },
      "outputs": [
        {
          "data": {
            "text/plain": [
              "[-3, -5, -7, -9]"
            ]
          },
          "execution_count": 88,
          "metadata": {},
          "output_type": "execute_result"
        }
      ],
      "source": [
        "list(a)"
      ]
    },
    {
      "cell_type": "code",
      "execution_count": null,
      "id": "31998c60-fee5-43fd-ae21-76bc8c565fc9",
      "metadata": {
        "id": "31998c60-fee5-43fd-ae21-76bc8c565fc9"
      },
      "outputs": [],
      "source": [
        "a=range(1,10,2)"
      ]
    },
    {
      "cell_type": "code",
      "execution_count": null,
      "id": "dca26d4d-4cef-4b17-bf40-037d18ec76ad",
      "metadata": {
        "id": "dca26d4d-4cef-4b17-bf40-037d18ec76ad",
        "outputId": "de62ca64-1a59-40c2-8d12-13133dfd6591"
      },
      "outputs": [
        {
          "data": {
            "text/plain": [
              "[1, 3, 5, 7, 9]"
            ]
          },
          "execution_count": 72,
          "metadata": {},
          "output_type": "execute_result"
        }
      ],
      "source": [
        "list(a)"
      ]
    },
    {
      "cell_type": "code",
      "execution_count": null,
      "id": "1959df60-e126-4242-a172-2c86b8ce7f40",
      "metadata": {
        "id": "1959df60-e126-4242-a172-2c86b8ce7f40"
      },
      "outputs": [],
      "source": [
        "a=range(7,1,-2)"
      ]
    },
    {
      "cell_type": "code",
      "execution_count": null,
      "id": "1363f9c8-e3b8-430d-b5dd-e2aa51391e15",
      "metadata": {
        "id": "1363f9c8-e3b8-430d-b5dd-e2aa51391e15",
        "outputId": "36654b6d-f33a-4232-dc94-a7db3ac9b214"
      },
      "outputs": [
        {
          "data": {
            "text/plain": [
              "[7, 5, 3]"
            ]
          },
          "execution_count": 76,
          "metadata": {},
          "output_type": "execute_result"
        }
      ],
      "source": [
        "list(a)"
      ]
    },
    {
      "cell_type": "code",
      "execution_count": null,
      "id": "2848e440-d854-4bf2-8006-bb02109d69e0",
      "metadata": {
        "id": "2848e440-d854-4bf2-8006-bb02109d69e0"
      },
      "outputs": [],
      "source": [
        "b=range(5,10,20)"
      ]
    },
    {
      "cell_type": "code",
      "execution_count": null,
      "id": "40fa960c-c188-4ae0-a8b7-efb28c66cdef",
      "metadata": {
        "id": "40fa960c-c188-4ae0-a8b7-efb28c66cdef",
        "outputId": "3266862e-4e02-44ef-d5c9-ff0ee83b811a"
      },
      "outputs": [
        {
          "data": {
            "text/plain": [
              "[5]"
            ]
          },
          "execution_count": 78,
          "metadata": {},
          "output_type": "execute_result"
        }
      ],
      "source": [
        "list(b)"
      ]
    },
    {
      "cell_type": "code",
      "execution_count": null,
      "id": "e0f036ea-bd66-4563-bf2b-65bbbaeb200e",
      "metadata": {
        "id": "e0f036ea-bd66-4563-bf2b-65bbbaeb200e"
      },
      "outputs": [],
      "source": [
        "#k=range(2,14,1.5)"
      ]
    },
    {
      "cell_type": "code",
      "execution_count": null,
      "id": "d3063f68-6e28-41da-b02d-b3c3b36c9f3d",
      "metadata": {
        "id": "d3063f68-6e28-41da-b02d-b3c3b36c9f3d"
      },
      "outputs": [],
      "source": [
        "m=range(10,1,-2)"
      ]
    },
    {
      "cell_type": "code",
      "execution_count": null,
      "id": "43d057ad-a10c-48a8-822d-dc1a507eca95",
      "metadata": {
        "id": "43d057ad-a10c-48a8-822d-dc1a507eca95",
        "outputId": "b4afdbb8-78fc-4fff-8625-59bd62849377"
      },
      "outputs": [
        {
          "data": {
            "text/plain": [
              "[10, 8, 6, 4, 2]"
            ]
          },
          "execution_count": 92,
          "metadata": {},
          "output_type": "execute_result"
        }
      ],
      "source": [
        "list(m)"
      ]
    },
    {
      "cell_type": "code",
      "execution_count": null,
      "id": "f1caf7ae-9588-41e3-a0c9-49d347915df7",
      "metadata": {
        "id": "f1caf7ae-9588-41e3-a0c9-49d347915df7"
      },
      "outputs": [],
      "source": [
        "#guess the out"
      ]
    },
    {
      "cell_type": "code",
      "execution_count": null,
      "id": "a81b47b5-bdf5-483d-b4be-0b6c455a8f9a",
      "metadata": {
        "id": "a81b47b5-bdf5-483d-b4be-0b6c455a8f9a"
      },
      "outputs": [],
      "source": [
        "a=range(7,1,-2)\n"
      ]
    },
    {
      "cell_type": "code",
      "execution_count": null,
      "id": "177c8e46-ba53-4ec2-933a-ba1b3a25b3e6",
      "metadata": {
        "id": "177c8e46-ba53-4ec2-933a-ba1b3a25b3e6",
        "outputId": "f33c131e-1690-48bd-d08c-6420d696ea29"
      },
      "outputs": [
        {
          "data": {
            "text/plain": [
              "[7, 5, 3]"
            ]
          },
          "execution_count": 95,
          "metadata": {},
          "output_type": "execute_result"
        }
      ],
      "source": [
        "list(a)"
      ]
    },
    {
      "cell_type": "code",
      "execution_count": null,
      "id": "4c5ac1db-2717-4e82-938d-8213f05bd582",
      "metadata": {
        "id": "4c5ac1db-2717-4e82-938d-8213f05bd582",
        "outputId": "eeac7242-21ac-499a-cc3c-c4cc7a03b70b"
      },
      "outputs": [
        {
          "ename": "ValueError",
          "evalue": "range() arg 3 must not be zero",
          "output_type": "error",
          "traceback": [
            "\u001b[0;31m---------------------------------------------------------------------------\u001b[0m",
            "\u001b[0;31mValueError\u001b[0m                                Traceback (most recent call last)",
            "Cell \u001b[0;32mIn [99], line 1\u001b[0m\n\u001b[0;32m----> 1\u001b[0m a\u001b[38;5;241m=\u001b[39m\u001b[38;5;28;43mrange\u001b[39;49m\u001b[43m(\u001b[49m\u001b[38;5;241;43m5\u001b[39;49m\u001b[43m,\u001b[49m\u001b[38;5;241;43m10\u001b[39;49m\u001b[43m,\u001b[49m\u001b[38;5;241;43m0\u001b[39;49m\u001b[43m)\u001b[49m\n",
            "\u001b[0;31mValueError\u001b[0m: range() arg 3 must not be zero"
          ]
        }
      ],
      "source": [
        "a=range(5,10,0)"
      ]
    },
    {
      "cell_type": "code",
      "execution_count": null,
      "id": "c716dd69-ec1b-4b02-ad68-e20fcdd88854",
      "metadata": {
        "id": "c716dd69-ec1b-4b02-ad68-e20fcdd88854",
        "outputId": "7b099e24-1885-48ac-f267-b841f25706f4"
      },
      "outputs": [
        {
          "data": {
            "text/plain": [
              "[5]"
            ]
          },
          "execution_count": 97,
          "metadata": {},
          "output_type": "execute_result"
        }
      ],
      "source": [
        "list(a)"
      ]
    },
    {
      "cell_type": "code",
      "execution_count": null,
      "id": "70027751-7f31-4825-b0e7-19a2ccaea7a5",
      "metadata": {
        "id": "70027751-7f31-4825-b0e7-19a2ccaea7a5",
        "outputId": "3289f570-16cc-458a-8512-05e8db82b9ce"
      },
      "outputs": [
        {
          "name": "stdout",
          "output_type": "stream",
          "text": [
            "0\n",
            "1\n",
            "2\n",
            "3\n",
            "4\n",
            "5\n",
            "6\n",
            "7\n",
            "8\n",
            "9\n",
            "10\n"
          ]
        }
      ],
      "source": [
        "for i in range(11):\n",
        "    print(i)"
      ]
    },
    {
      "cell_type": "code",
      "execution_count": null,
      "id": "a70be97a-03d5-40f3-87d5-dfe9d0347732",
      "metadata": {
        "id": "a70be97a-03d5-40f3-87d5-dfe9d0347732"
      },
      "outputs": [],
      "source": [
        "number=range(4)"
      ]
    },
    {
      "cell_type": "code",
      "execution_count": null,
      "id": "52d8e498-da63-414d-8de5-5378f886f5f5",
      "metadata": {
        "id": "52d8e498-da63-414d-8de5-5378f886f5f5",
        "outputId": "e74bd542-339b-47ab-a27b-12932cf229f9"
      },
      "outputs": [
        {
          "name": "stdout",
          "output_type": "stream",
          "text": [
            "0\n",
            "1\n",
            "2\n",
            "3\n"
          ]
        }
      ],
      "source": [
        "for i in number:\n",
        "    print(i)"
      ]
    },
    {
      "cell_type": "code",
      "execution_count": null,
      "id": "968b00b8-f345-429c-8057-ae58f55ab21b",
      "metadata": {
        "id": "968b00b8-f345-429c-8057-ae58f55ab21b",
        "outputId": "82c4ccf7-267e-408e-ec4c-c75be23f2b1c"
      },
      "outputs": [
        {
          "name": "stdout",
          "output_type": "stream",
          "text": [
            "0 hello\n",
            "1 hello\n",
            "2 hello\n",
            "3 hello\n",
            "4 hello\n"
          ]
        }
      ],
      "source": [
        "for i in range(5):\n",
        "    print(i,\"hello\")"
      ]
    },
    {
      "cell_type": "code",
      "execution_count": null,
      "id": "be29a744-0939-4fe5-b120-8bd6957c2a82",
      "metadata": {
        "id": "be29a744-0939-4fe5-b120-8bd6957c2a82",
        "outputId": "40b6843d-896b-45c0-ccb6-e2a64087412e"
      },
      "outputs": [
        {
          "name": "stdout",
          "output_type": "stream",
          "text": [
            "1\n",
            "2\n",
            "3\n",
            "4\n",
            "5\n",
            "6\n",
            "7\n",
            "8\n",
            "9\n",
            "10\n"
          ]
        }
      ],
      "source": [
        "for i in range(1,11):\n",
        "    print(i)"
      ]
    },
    {
      "cell_type": "code",
      "execution_count": null,
      "id": "284b424c-789e-4713-8ebd-da3293a2e4b5",
      "metadata": {
        "id": "284b424c-789e-4713-8ebd-da3293a2e4b5",
        "outputId": "99348635-e54e-4484-c3d3-394159120903"
      },
      "outputs": [
        {
          "name": "stdin",
          "output_type": "stream",
          "text": [
            "enter the int 3\n"
          ]
        },
        {
          "name": "stdout",
          "output_type": "stream",
          "text": [
            "sum of number is 1 to 3 is 6\n"
          ]
        }
      ],
      "source": [
        "num=int(input(\"enter the int\"))\n",
        "total=0\n",
        "\n",
        "for i in range(1,num+1):\n",
        "    total=total+i\n",
        "\n",
        "print(\"sum of number is 1 to {} is {}\".format(num,total))\n",
        "        \n"
      ]
    },
    {
      "cell_type": "code",
      "execution_count": null,
      "id": "db34d21a-e4d7-42df-8b4f-c3b37f6853f7",
      "metadata": {
        "id": "db34d21a-e4d7-42df-8b4f-c3b37f6853f7",
        "outputId": "13ba65be-e408-4d9c-a7d0-22cf82ac2a28"
      },
      "outputs": [
        {
          "name": "stdout",
          "output_type": "stream",
          "text": [
            "1\n",
            "2\n",
            "3\n"
          ]
        }
      ],
      "source": [
        "for i in range(1,4):\n",
        "    print(i)"
      ]
    },
    {
      "cell_type": "code",
      "execution_count": null,
      "id": "3589b268-4727-463d-b321-578c4a479187",
      "metadata": {
        "id": "3589b268-4727-463d-b321-578c4a479187",
        "outputId": "600ceed2-194a-4c49-9674-8c4f610110a8"
      },
      "outputs": [
        {
          "name": "stdout",
          "output_type": "stream",
          "text": [
            "100\n",
            "90\n",
            "80\n",
            "70\n",
            "60\n",
            "50\n",
            "40\n",
            "30\n",
            "20\n",
            "10\n"
          ]
        }
      ],
      "source": [
        "for i in range(100,0,-10):\n",
        "    print(i)"
      ]
    },
    {
      "cell_type": "code",
      "execution_count": null,
      "id": "b3247056-71f5-4841-a663-da321e6f1267",
      "metadata": {
        "id": "b3247056-71f5-4841-a663-da321e6f1267",
        "outputId": "56cbb887-72de-4220-829f-8867ea72e3d6"
      },
      "outputs": [
        {
          "name": "stdout",
          "output_type": "stream",
          "text": [
            "0\n",
            "1\n",
            "2\n",
            "3\n",
            "4\n",
            "5\n",
            "6\n",
            "7\n",
            "8\n",
            "9\n",
            "loop complete\n"
          ]
        }
      ],
      "source": [
        "for i in range(10):\n",
        "    print(i)\n",
        "else:\n",
        "    print(\"loop complete\") \n",
        "    "
      ]
    },
    {
      "cell_type": "code",
      "execution_count": null,
      "id": "931198cb-4fb6-44d9-a5f3-30dc78e802a5",
      "metadata": {
        "id": "931198cb-4fb6-44d9-a5f3-30dc78e802a5",
        "outputId": "f4862152-f871-41ef-ce2c-47e726756ba5"
      },
      "outputs": [
        {
          "name": "stdout",
          "output_type": "stream",
          "text": [
            "1\n",
            "2\n",
            "3\n",
            "4\n",
            "5\n"
          ]
        }
      ],
      "source": [
        "for i in range(1,10):\n",
        "    print(i)\n",
        "    if i%5==0:\n",
        "        break\n",
        "else:\n",
        "    print(\"loop complete\")"
      ]
    },
    {
      "cell_type": "code",
      "execution_count": null,
      "id": "765963bd-1c3f-4c74-affc-1f8f9cb2eb3a",
      "metadata": {
        "id": "765963bd-1c3f-4c74-affc-1f8f9cb2eb3a",
        "outputId": "251bebb2-be80-43c6-c671-0b7d09b90d25"
      },
      "outputs": [
        {
          "name": "stdout",
          "output_type": "stream",
          "text": [
            "1\n",
            "a\n",
            "b\n",
            "c\n",
            "2\n",
            "a\n",
            "b\n",
            "c\n",
            "3\n",
            "a\n",
            "b\n",
            "c\n"
          ]
        }
      ],
      "source": [
        "numbers = [1,2,3]\n",
        "alpha=['a','b','c']\n",
        "\n",
        "for n in numbers:\n",
        "    print(n)\n",
        "    for ch in alpha:\n",
        "        print(ch)"
      ]
    },
    {
      "cell_type": "code",
      "execution_count": null,
      "id": "76147ca3-7313-401b-8528-2f645e75cc0f",
      "metadata": {
        "id": "76147ca3-7313-401b-8528-2f645e75cc0f",
        "outputId": "9fef3570-89ef-4353-b135-14a95bf393e4"
      },
      "outputs": [
        {
          "name": "stdout",
          "output_type": "stream",
          "text": [
            "* * * \n",
            "* * * \n",
            "* * * \n"
          ]
        }
      ],
      "source": [
        "for i in range(3):\n",
        "    for r in range(3):\n",
        "        print(\"* \",end=\"\")\n",
        "    print()\n"
      ]
    },
    {
      "cell_type": "code",
      "execution_count": null,
      "id": "f0cf723d-5b04-4635-ad43-b1268808bdfc",
      "metadata": {
        "id": "f0cf723d-5b04-4635-ad43-b1268808bdfc",
        "outputId": "03b91e03-7985-4a15-a1e5-08323345e92d"
      },
      "outputs": [
        {
          "name": "stdout",
          "output_type": "stream",
          "text": [
            "* * * \n",
            "* * * \n",
            "* * * \n"
          ]
        }
      ],
      "source": [
        "for i in range(3):\n",
        "    for j in range(3):\n",
        "        print(\"*\",end=\" \")\n",
        "    print('')\n"
      ]
    },
    {
      "cell_type": "code",
      "execution_count": null,
      "id": "2e122be9-8139-4474-99f7-7f0c5e01441e",
      "metadata": {
        "id": "2e122be9-8139-4474-99f7-7f0c5e01441e",
        "outputId": "cba7d84c-4035-412d-dc90-98f104ea14a5"
      },
      "outputs": [
        {
          "name": "stdout",
          "output_type": "stream",
          "text": [
            "***\n",
            "***\n",
            "***\n",
            "***\n"
          ]
        }
      ],
      "source": [
        "i = ['***','***']\n",
        "alpha = ['***']\n",
        "\n",
        "for n in i:\n",
        "    print(n)\n",
        "    for ch in alpha:\n",
        "        print(ch)\n"
      ]
    },
    {
      "cell_type": "code",
      "execution_count": null,
      "id": "3d1f0d7a-9189-46c7-ac5e-5deb066a55df",
      "metadata": {
        "id": "3d1f0d7a-9189-46c7-ac5e-5deb066a55df",
        "outputId": "ee7aa553-4222-4077-8ad6-3b13ce295ee7"
      },
      "outputs": [
        {
          "name": "stdout",
          "output_type": "stream",
          "text": [
            "* * * \n",
            "* * * \n",
            "* * * \n"
          ]
        }
      ],
      "source": [
        "for i in range(3):\n",
        "    for j in range(3):\n",
        "        print('*', end=' ')\n",
        "    print()\n"
      ]
    },
    {
      "cell_type": "code",
      "execution_count": null,
      "id": "b7a73098-d8a0-48e2-91b1-f30c41724545",
      "metadata": {
        "id": "b7a73098-d8a0-48e2-91b1-f30c41724545",
        "outputId": "61816d7a-edda-4733-8e56-46c63dcb9e6b"
      },
      "outputs": [
        {
          "name": "stdout",
          "output_type": "stream",
          "text": [
            "* * * \n",
            "* * * \n",
            "* * * \n"
          ]
        }
      ],
      "source": [
        "for i in range(1,4):\n",
        "    print(\"* \"*3)\n"
      ]
    },
    {
      "cell_type": "code",
      "execution_count": null,
      "id": "166c8d0e-65f1-41d5-88e3-aecd5d9e9a61",
      "metadata": {
        "id": "166c8d0e-65f1-41d5-88e3-aecd5d9e9a61",
        "outputId": "f0ec89c8-6459-4904-a4e2-f221e21beb97"
      },
      "outputs": [
        {
          "name": "stdout",
          "output_type": "stream",
          "text": [
            "*  \n",
            "* *  \n",
            "* * *  \n",
            "* * * *  \n"
          ]
        }
      ],
      "source": [
        "for i in range(4):\n",
        "    for j in range(i + 1):\n",
        "        print(\"*\", end = \" \")\n",
        "    print(\" \")\n"
      ]
    },
    {
      "cell_type": "code",
      "execution_count": null,
      "id": "fa7bae24-c642-4ccc-a114-9aaa65132e76",
      "metadata": {
        "id": "fa7bae24-c642-4ccc-a114-9aaa65132e76"
      },
      "outputs": [],
      "source": [
        "# Write a program to accept an integrer from user and display all number from 1 to to that number. Repeat the process\n",
        "#untill the user enter 0"
      ]
    },
    {
      "cell_type": "code",
      "execution_count": null,
      "id": "4cf63c6d-ea06-490d-b91a-0dd5cff577b8",
      "metadata": {
        "id": "4cf63c6d-ea06-490d-b91a-0dd5cff577b8",
        "outputId": "cd347e53-0905-4d9e-fe37-7501541a7c9a"
      },
      "outputs": [
        {
          "name": "stdin",
          "output_type": "stream",
          "text": [
            "Enter number:  5\n"
          ]
        },
        {
          "name": "stdout",
          "output_type": "stream",
          "text": [
            "1\n",
            "2\n",
            "3\n",
            "4\n",
            "5\n"
          ]
        },
        {
          "name": "stdin",
          "output_type": "stream",
          "text": [
            "Would you like to restart? (NO=0) (YES!=0):  1\n",
            "Enter number:  4\n"
          ]
        },
        {
          "name": "stdout",
          "output_type": "stream",
          "text": [
            "1\n",
            "2\n",
            "3\n",
            "4\n"
          ]
        },
        {
          "name": "stdin",
          "output_type": "stream",
          "text": [
            "Would you like to restart? (NO=0) (YES!=0):  1\n",
            "Enter number:  3\n"
          ]
        },
        {
          "name": "stdout",
          "output_type": "stream",
          "text": [
            "1\n",
            "2\n",
            "3\n"
          ]
        },
        {
          "name": "stdin",
          "output_type": "stream",
          "text": [
            "Would you like to restart? (NO=0) (YES!=0):  0\n"
          ]
        }
      ],
      "source": [
        "choice=1\n",
        "while choice!=0:\n",
        "    for i in range(1,int(input('Enter number: '))+1):\n",
        "        print(i)\n",
        "    choice=int(input(\"Would you like to restart? (NO=0) (YES!=0): \"))\n"
      ]
    },
    {
      "cell_type": "code",
      "execution_count": null,
      "id": "5484b156-983d-43c5-8c71-4cef8abcabde",
      "metadata": {
        "id": "5484b156-983d-43c5-8c71-4cef8abcabde",
        "outputId": "45db8006-2b6f-44d1-f853-57e1210d08f7"
      },
      "outputs": [
        {
          "name": "stdin",
          "output_type": "stream",
          "text": [
            "Enter the number: 6\n"
          ]
        },
        {
          "name": "stdout",
          "output_type": "stream",
          "text": [
            "1\n",
            "2\n",
            "3\n",
            "4\n",
            "5\n",
            "6\n"
          ]
        },
        {
          "name": "stdin",
          "output_type": "stream",
          "text": [
            "Enter the number: 3\n"
          ]
        },
        {
          "name": "stdout",
          "output_type": "stream",
          "text": [
            "1\n",
            "2\n",
            "3\n"
          ]
        },
        {
          "name": "stdin",
          "output_type": "stream",
          "text": [
            "Enter the number: 0\n"
          ]
        }
      ],
      "source": [
        "num=int(input(\"Enter the number:\"))\n",
        "while(num):\n",
        "    for i in range(1,num+1):\n",
        "        print(i)\n",
        "    num=int(input(\"Enter the number:\"))\n"
      ]
    },
    {
      "cell_type": "code",
      "execution_count": null,
      "id": "2109700f-6e28-475a-b985-d5881a4a87d3",
      "metadata": {
        "id": "2109700f-6e28-475a-b985-d5881a4a87d3",
        "outputId": "b2c196c4-3be5-44b2-f322-931674a9678f"
      },
      "outputs": [
        {
          "name": "stdin",
          "output_type": "stream",
          "text": [
            "Enter Number 4\n"
          ]
        },
        {
          "name": "stdout",
          "output_type": "stream",
          "text": [
            "1\n",
            "2\n",
            "3\n",
            "4\n"
          ]
        },
        {
          "name": "stdin",
          "output_type": "stream",
          "text": [
            "Enter Number 3\n"
          ]
        },
        {
          "name": "stdout",
          "output_type": "stream",
          "text": [
            "1\n",
            "2\n",
            "3\n"
          ]
        },
        {
          "name": "stdin",
          "output_type": "stream",
          "text": [
            "Enter Number 0\n"
          ]
        }
      ],
      "source": [
        "d=1\n",
        "while d!=0:\n",
        "    d=int(input(\"Enter Number\"))\n",
        "    for i in range(1,d+1):\n",
        "        print(i)\n"
      ]
    },
    {
      "cell_type": "code",
      "execution_count": null,
      "id": "3e280899-5a7e-4335-807d-3f8e84939607",
      "metadata": {
        "id": "3e280899-5a7e-4335-807d-3f8e84939607",
        "outputId": "df6fb5a7-2917-437f-befe-068c3bc89004"
      },
      "outputs": [
        {
          "name": "stdin",
          "output_type": "stream",
          "text": [
            "Enter number :  5\n"
          ]
        },
        {
          "name": "stdout",
          "output_type": "stream",
          "text": [
            "0\n",
            "1\n",
            "2\n",
            "3\n",
            "4\n"
          ]
        },
        {
          "name": "stdin",
          "output_type": "stream",
          "text": [
            "Enter number :  6\n"
          ]
        },
        {
          "name": "stdout",
          "output_type": "stream",
          "text": [
            "0\n",
            "1\n",
            "2\n",
            "3\n",
            "4\n",
            "5\n"
          ]
        },
        {
          "name": "stdin",
          "output_type": "stream",
          "text": [
            "Enter number :  0\n"
          ]
        }
      ],
      "source": [
        "user_num = int(input(\"Enter number : \"))\n",
        "while(user_num!=0):\n",
        "    if user_num == 0:\n",
        "        print(\"exit\")\n",
        "        break\n",
        "    else:\n",
        "        for i in range(user_num):\n",
        "            print(i)\n",
        "    user_num = int(input(\"Enter number : \"))\n"
      ]
    },
    {
      "cell_type": "code",
      "execution_count": null,
      "id": "40a998c8-e974-4087-9bf7-699fdb4dc149",
      "metadata": {
        "id": "40a998c8-e974-4087-9bf7-699fdb4dc149"
      },
      "outputs": [],
      "source": []
    },
    {
      "cell_type": "code",
      "execution_count": null,
      "id": "eac04f7f-77ab-4309-8080-3ad0aade7414",
      "metadata": {
        "id": "eac04f7f-77ab-4309-8080-3ad0aade7414"
      },
      "outputs": [],
      "source": []
    }
  ],
  "metadata": {
    "kernelspec": {
      "display_name": "Python 3 (ipykernel)",
      "language": "python",
      "name": "python3"
    },
    "language_info": {
      "codemirror_mode": {
        "name": "ipython",
        "version": 3
      },
      "file_extension": ".py",
      "mimetype": "text/x-python",
      "name": "python",
      "nbconvert_exporter": "python",
      "pygments_lexer": "ipython3",
      "version": "3.10.6"
    },
    "colab": {
      "provenance": []
    }
  },
  "nbformat": 4,
  "nbformat_minor": 5
}