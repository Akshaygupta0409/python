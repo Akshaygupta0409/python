{
  "cells": [
    {
      "cell_type": "code",
      "execution_count": 1,
      "id": "d093b3e4-5382-4301-ae8e-dc9c708bfa03",
      "metadata": {
        "id": "d093b3e4-5382-4301-ae8e-dc9c708bfa03",
        "outputId": "bc25650a-d649-4e3c-fe03-cace9b606157",
        "colab": {
          "base_uri": "https://localhost:8080/",
          "height": 130
        }
      },
      "outputs": [
        {
          "output_type": "error",
          "ename": "SyntaxError",
          "evalue": "ignored",
          "traceback": [
            "\u001b[0;36m  File \u001b[0;32m\"<ipython-input-1-42f187ef1567>\"\u001b[0;36m, line \u001b[0;32m3\u001b[0m\n\u001b[0;31m    3. argumnet vs parameter in function\u001b[0m\n\u001b[0m       ^\u001b[0m\n\u001b[0;31mSyntaxError\u001b[0m\u001b[0;31m:\u001b[0m invalid syntax\n"
          ]
        }
      ],
      "source": [
        "1. what is function?\n",
        "2. how to write function in python?\n",
        "3. argumnet vs parameter in function\n",
        "------------------------------------------\n",
        "for thursday\n",
        "4. local and global variable in function\n",
        "5. lambda function\n",
        "6. map and filter function"
      ]
    },
    {
      "cell_type": "code",
      "execution_count": null,
      "id": "22f609e7-dd72-4221-bb00-9d1b66210ece",
      "metadata": {
        "id": "22f609e7-dd72-4221-bb00-9d1b66210ece"
      },
      "outputs": [],
      "source": [
        "a=10\n",
        "b=20\n",
        "c=a+b\n",
        "print(c)\n"
      ]
    },
    {
      "cell_type": "code",
      "execution_count": null,
      "id": "aad1e78c-fa29-4d7d-88cf-2d1895951d98",
      "metadata": {
        "id": "aad1e78c-fa29-4d7d-88cf-2d1895951d98"
      },
      "outputs": [],
      "source": [
        "a=1000\n",
        "b=2009042\n",
        "c=a+b\n",
        "print(c)\n"
      ]
    },
    {
      "cell_type": "code",
      "execution_count": null,
      "id": "597ec06f-3d01-4191-abef-29657614c185",
      "metadata": {
        "id": "597ec06f-3d01-4191-abef-29657614c185"
      },
      "outputs": [],
      "source": [
        "a=10\n",
        "b=20\n",
        "c=a-b\n",
        "print(c)\n"
      ]
    },
    {
      "cell_type": "code",
      "execution_count": 3,
      "id": "315486b8-f938-4867-b80d-557010b7889a",
      "metadata": {
        "id": "315486b8-f938-4867-b80d-557010b7889a",
        "outputId": "8f2b9e08-ee6b-4d10-eb3e-d9cffc67ee83",
        "colab": {
          "base_uri": "https://localhost:8080/"
        }
      },
      "outputs": [
        {
          "output_type": "stream",
          "name": "stdout",
          "text": [
            "enter first number10\n",
            "enter second value20\n",
            "30\n"
          ]
        }
      ],
      "source": [
        "a=input(\"enter first number\")\n",
        "b=input(\"enter second value\")\n",
        "c=int(a)+int(b)\n",
        "print(c)"
      ]
    },
    {
      "cell_type": "code",
      "execution_count": 4,
      "id": "8d2b1bdc-283b-4d1c-a197-336abd5ead58",
      "metadata": {
        "id": "8d2b1bdc-283b-4d1c-a197-336abd5ead58"
      },
      "outputs": [],
      "source": [
        "#this is funciton defination\n",
        "def addtwonumber():\n",
        "    a=1000\n",
        "    b=2009042\n",
        "    c=a+b\n",
        "    print(c)\n",
        "    "
      ]
    },
    {
      "cell_type": "code",
      "execution_count": 5,
      "id": "f9600c39-50ef-4e8f-89be-7cee4362710c",
      "metadata": {
        "id": "f9600c39-50ef-4e8f-89be-7cee4362710c",
        "outputId": "1b866adc-37bc-4d74-eb11-72e27454d8f4",
        "colab": {
          "base_uri": "https://localhost:8080/"
        }
      },
      "outputs": [
        {
          "output_type": "stream",
          "name": "stdout",
          "text": [
            "2010042\n"
          ]
        }
      ],
      "source": [
        "#this is funciton call\n",
        "addtwonumber()"
      ]
    },
    {
      "cell_type": "code",
      "execution_count": 6,
      "id": "9248f290-6eec-4144-80ee-87e436221c66",
      "metadata": {
        "id": "9248f290-6eec-4144-80ee-87e436221c66",
        "outputId": "b5ef795d-e74b-49a5-fad8-4abcc28dfd79",
        "colab": {
          "base_uri": "https://localhost:8080/"
        }
      },
      "outputs": [
        {
          "output_type": "stream",
          "name": "stdout",
          "text": [
            "2010042\n"
          ]
        }
      ],
      "source": [
        "#this is funciton call\n",
        "addtwonumber()"
      ]
    },
    {
      "cell_type": "code",
      "execution_count": 7,
      "id": "d5a25809-b564-42af-a2db-3992ac9f3bda",
      "metadata": {
        "id": "d5a25809-b564-42af-a2db-3992ac9f3bda",
        "outputId": "1d937ce6-300c-4d98-c333-17a4179c664b",
        "colab": {
          "base_uri": "https://localhost:8080/"
        }
      },
      "outputs": [
        {
          "output_type": "stream",
          "name": "stdout",
          "text": [
            "2010042\n"
          ]
        }
      ],
      "source": [
        "#this is funciton call\n",
        "addtwonumber()"
      ]
    },
    {
      "cell_type": "code",
      "execution_count": 8,
      "id": "a2f7fa32-aebc-4592-8258-81bbcfb9edb6",
      "metadata": {
        "id": "a2f7fa32-aebc-4592-8258-81bbcfb9edb6",
        "outputId": "919ae18b-aedd-4952-fff0-33ed9a658495",
        "colab": {
          "base_uri": "https://localhost:8080/"
        }
      },
      "outputs": [
        {
          "output_type": "stream",
          "name": "stdout",
          "text": [
            "2010042\n"
          ]
        }
      ],
      "source": [
        "#this is funciton call\n",
        "addtwonumber()"
      ]
    },
    {
      "cell_type": "code",
      "execution_count": 9,
      "id": "aafc96fe-6680-4ea4-9df6-db677a86ee10",
      "metadata": {
        "id": "aafc96fe-6680-4ea4-9df6-db677a86ee10"
      },
      "outputs": [],
      "source": [
        "def addtwonumbers():\n",
        "    a=input(\"enter first number\")\n",
        "    b=input(\"enter second value\")\n",
        "    c=int(a)+int(b)\n",
        "    print(c)\n",
        "    "
      ]
    },
    {
      "cell_type": "code",
      "execution_count": 13,
      "id": "24f4b763-c6d0-4a69-a590-12a19b81daaa",
      "metadata": {
        "id": "24f4b763-c6d0-4a69-a590-12a19b81daaa",
        "outputId": "79365251-d033-46e3-ea1e-f0322ae2db39",
        "colab": {
          "base_uri": "https://localhost:8080/"
        }
      },
      "outputs": [
        {
          "output_type": "stream",
          "name": "stdout",
          "text": [
            "enter first number20\n",
            "enter second value30\n",
            "50\n"
          ]
        }
      ],
      "source": [
        "addtwonumbers()"
      ]
    },
    {
      "cell_type": "code",
      "execution_count": 14,
      "id": "e9cf878f-eb64-4027-b9f0-f3c2b0a3c7c2",
      "metadata": {
        "id": "e9cf878f-eb64-4027-b9f0-f3c2b0a3c7c2",
        "outputId": "d0aad42d-1a9f-421c-fcf8-57e51f722a98",
        "colab": {
          "base_uri": "https://localhost:8080/"
        }
      },
      "outputs": [
        {
          "output_type": "stream",
          "name": "stdout",
          "text": [
            "enter first number302\n",
            "enter second value3948\n",
            "4250\n"
          ]
        }
      ],
      "source": [
        "addtwonumbers()"
      ]
    },
    {
      "cell_type": "code",
      "execution_count": 15,
      "id": "33799e8b-f587-4467-b86a-7034816a5a3c",
      "metadata": {
        "id": "33799e8b-f587-4467-b86a-7034816a5a3c",
        "outputId": "b4959b1f-22e9-4df6-d525-de3074f74cf7",
        "colab": {
          "base_uri": "https://localhost:8080/"
        }
      },
      "outputs": [
        {
          "output_type": "stream",
          "name": "stdout",
          "text": [
            "enter first number4984\n",
            "enter second value49484\n",
            "54468\n"
          ]
        }
      ],
      "source": [
        "addtwonumbers()"
      ]
    },
    {
      "cell_type": "code",
      "execution_count": 16,
      "id": "1378f3a1-15c2-470e-a070-140f0f7f1eba",
      "metadata": {
        "id": "1378f3a1-15c2-470e-a070-140f0f7f1eba",
        "colab": {
          "base_uri": "https://localhost:8080/"
        },
        "outputId": "dac86a6c-73d3-4ce1-a340-04770b5ea51d"
      },
      "outputs": [
        {
          "output_type": "stream",
          "name": "stdout",
          "text": [
            "enter first number900\n",
            "enter second value0988\n",
            "1888\n"
          ]
        }
      ],
      "source": [
        "\n",
        "addtwonumbers()"
      ]
    },
    {
      "cell_type": "code",
      "execution_count": 17,
      "id": "1dc40daa-da42-4a7f-af1a-925850d5eb08",
      "metadata": {
        "id": "1dc40daa-da42-4a7f-af1a-925850d5eb08",
        "colab": {
          "base_uri": "https://localhost:8080/"
        },
        "outputId": "939a9a21-3f01-46e4-eab8-4e3e58095148"
      },
      "outputs": [
        {
          "output_type": "stream",
          "name": "stdout",
          "text": [
            "enter first number-0987\n",
            "enter second value088\n",
            "-899\n"
          ]
        }
      ],
      "source": [
        "addtwonumbers()"
      ]
    },
    {
      "cell_type": "code",
      "execution_count": 18,
      "id": "af9122fd-6cf7-4f42-8831-ec782bbb9d40",
      "metadata": {
        "id": "af9122fd-6cf7-4f42-8831-ec782bbb9d40",
        "colab": {
          "base_uri": "https://localhost:8080/"
        },
        "outputId": "5ac8a657-af08-4d91-aeef-24c77d4d6c9e"
      },
      "outputs": [
        {
          "output_type": "stream",
          "name": "stdout",
          "text": [
            "enter first number909787\n",
            "enter second value0900\n",
            "910687\n"
          ]
        }
      ],
      "source": [
        "addtwonumbers()"
      ]
    },
    {
      "cell_type": "code",
      "execution_count": 19,
      "id": "5a489480-6da7-4ffa-ad92-38ba197dd050",
      "metadata": {
        "id": "5a489480-6da7-4ffa-ad92-38ba197dd050"
      },
      "outputs": [],
      "source": [
        "\n",
        "def multwonumber(x,y):\n",
        "    a=x\n",
        "    b=y\n",
        "    c=a*b\n",
        "    print(c)"
      ]
    },
    {
      "cell_type": "code",
      "execution_count": 20,
      "id": "8347df9f-e791-4e15-aac9-3a5c22a19bbe",
      "metadata": {
        "id": "8347df9f-e791-4e15-aac9-3a5c22a19bbe",
        "outputId": "e29202a0-37a1-464b-d034-cc1d80b4efdc",
        "colab": {
          "base_uri": "https://localhost:8080/"
        }
      },
      "outputs": [
        {
          "output_type": "stream",
          "name": "stdout",
          "text": [
            "20\n"
          ]
        }
      ],
      "source": [
        "\n",
        "multwonumber(4,5)"
      ]
    },
    {
      "cell_type": "code",
      "execution_count": 21,
      "id": "79cc049b-08ee-4bfd-8abd-80928c0d8329",
      "metadata": {
        "id": "79cc049b-08ee-4bfd-8abd-80928c0d8329",
        "outputId": "3543bf11-b0f8-4425-cde5-7b36fe1ccfa1",
        "colab": {
          "base_uri": "https://localhost:8080/"
        }
      },
      "outputs": [
        {
          "output_type": "stream",
          "name": "stdout",
          "text": [
            "2000\n"
          ]
        }
      ],
      "source": [
        "multwonumber(40,50)"
      ]
    },
    {
      "cell_type": "code",
      "execution_count": 22,
      "id": "ef5429c6-ce84-415a-b4ec-60ef49eb4ac8",
      "metadata": {
        "id": "ef5429c6-ce84-415a-b4ec-60ef49eb4ac8",
        "outputId": "3da4d737-092c-4a64-ce39-ac1a94c8cff4",
        "colab": {
          "base_uri": "https://localhost:8080/"
        }
      },
      "outputs": [
        {
          "output_type": "stream",
          "name": "stdout",
          "text": [
            "200000\n"
          ]
        }
      ],
      "source": [
        "multwonumber(400,500)"
      ]
    },
    {
      "cell_type": "code",
      "execution_count": null,
      "id": "78f672ae-780f-4500-a6a3-d52cbf69feb8",
      "metadata": {
        "id": "78f672ae-780f-4500-a6a3-d52cbf69feb8",
        "outputId": "fb4ce600-421e-4f7c-887b-0a105c9ec0ef"
      },
      "outputs": [
        {
          "name": "stdin",
          "output_type": "stream",
          "text": [
            "enter first number 100\n",
            "enter second number 100000\n"
          ]
        },
        {
          "name": "stdout",
          "output_type": "stream",
          "text": [
            "10000000\n"
          ]
        }
      ],
      "source": [
        "A=int(input(\"enter first number\"))\n",
        "B=int(input(\"enter second number\"))\n",
        "multwonumber(A,B)"
      ]
    },
    {
      "cell_type": "code",
      "execution_count": 25,
      "id": "19a25f31-d96d-462f-92dc-592c9a904039",
      "metadata": {
        "id": "19a25f31-d96d-462f-92dc-592c9a904039",
        "outputId": "cd6fbf9d-2bf6-4d63-d5a0-1c5bbdc74b46",
        "colab": {
          "base_uri": "https://localhost:8080/"
        }
      },
      "outputs": [
        {
          "output_type": "stream",
          "name": "stdout",
          "text": [
            "enter first number56765\n",
            "enter second number87878\n",
            "4988394670\n"
          ]
        }
      ],
      "source": [
        "A=int(input(\"enter first number\"))\n",
        "B=int(input(\"enter second number\"))\n",
        "multwonumber(A,B)"
      ]
    },
    {
      "cell_type": "markdown",
      "id": "5c2d1480-0ba2-419c-b055-1088a1d18376",
      "metadata": {
        "id": "5c2d1480-0ba2-419c-b055-1088a1d18376"
      },
      "source": [
        "# Write a function called absolute( ) to accept an integer as argument and return it’s absolute value. Finally call it to get the absolute value of -7 and 9\n"
      ]
    },
    {
      "cell_type": "code",
      "execution_count": null,
      "id": "6bdc6e71-b448-48cc-bb35-7ec8a6da8771",
      "metadata": {
        "id": "6bdc6e71-b448-48cc-bb35-7ec8a6da8771"
      },
      "outputs": [],
      "source": [
        "absolute means only +ve\n",
        "\n",
        "absolute(5)\n",
        "\n",
        "return 5\n",
        "\n",
        "absolute(-7)\n",
        "\n",
        "return 7"
      ]
    },
    {
      "cell_type": "code",
      "execution_count": 27,
      "id": "6894508d-6970-4087-b088-b8cbfd43e8cb",
      "metadata": {
        "id": "6894508d-6970-4087-b088-b8cbfd43e8cb"
      },
      "outputs": [],
      "source": [
        "def absoulte(n):\n",
        "    if n>0:\n",
        "        return n\n",
        "    else:\n",
        "        return -n\n",
        "   \n",
        "    "
      ]
    },
    {
      "cell_type": "code",
      "execution_count": 28,
      "id": "3630b50a-3b20-4a21-a616-08494daf2193",
      "metadata": {
        "id": "3630b50a-3b20-4a21-a616-08494daf2193",
        "outputId": "c1c99efb-86bd-4b23-f5c3-90b7cc9b28df",
        "colab": {
          "base_uri": "https://localhost:8080/"
        }
      },
      "outputs": [
        {
          "name": "stdout",
          "output_type": "stream",
          "text": [
            "enter a number-088\n"
          ]
        },
        {
          "output_type": "execute_result",
          "data": {
            "text/plain": [
              "88"
            ]
          },
          "metadata": {},
          "execution_count": 28
        }
      ],
      "source": [
        "value=int(input(\"enter a number\"))\n",
        "absoulte(-value)"
      ]
    },
    {
      "cell_type": "code",
      "execution_count": 29,
      "id": "24b7da29-128d-459e-91b3-5485d6190d73",
      "metadata": {
        "id": "24b7da29-128d-459e-91b3-5485d6190d73",
        "outputId": "832350cb-c3e7-411a-d079-3679e2690cfd",
        "colab": {
          "base_uri": "https://localhost:8080/"
        }
      },
      "outputs": [
        {
          "output_type": "execute_result",
          "data": {
            "text/plain": [
              "23750983426030"
            ]
          },
          "metadata": {},
          "execution_count": 29
        }
      ],
      "source": [
        "abs(-23750983426030)"
      ]
    },
    {
      "cell_type": "code",
      "execution_count": 30,
      "id": "0dd1a829-73be-4c23-940b-6ed17eea5d68",
      "metadata": {
        "id": "0dd1a829-73be-4c23-940b-6ed17eea5d68"
      },
      "outputs": [],
      "source": [
        "def addtwonumber():\n",
        "    a=1000\n",
        "    b=2009042\n",
        "    c=a+b\n",
        "    print(c)\n",
        "    "
      ]
    },
    {
      "cell_type": "code",
      "execution_count": 31,
      "id": "a6138671-1e03-4c69-8aa7-877876820e51",
      "metadata": {
        "id": "a6138671-1e03-4c69-8aa7-877876820e51",
        "outputId": "e86337d4-6dd0-4522-c327-cd9180556e0a",
        "colab": {
          "base_uri": "https://localhost:8080/"
        }
      },
      "outputs": [
        {
          "output_type": "stream",
          "name": "stdout",
          "text": [
            "2010042\n"
          ]
        }
      ],
      "source": [
        "\n",
        "myvariable=addtwonumber()"
      ]
    },
    {
      "cell_type": "code",
      "execution_count": 32,
      "id": "b9ac06b6-adcd-44ac-9065-e8514885ffba",
      "metadata": {
        "id": "b9ac06b6-adcd-44ac-9065-e8514885ffba",
        "outputId": "b5d9d6fc-2bd3-41d8-a106-6232fbdda6aa",
        "colab": {
          "base_uri": "https://localhost:8080/"
        }
      },
      "outputs": [
        {
          "output_type": "stream",
          "name": "stdout",
          "text": [
            "None\n"
          ]
        }
      ],
      "source": [
        "print(myvariable)"
      ]
    },
    {
      "cell_type": "code",
      "execution_count": 33,
      "id": "cbf6a729-1740-4fee-a53d-d18693ae95b9",
      "metadata": {
        "id": "cbf6a729-1740-4fee-a53d-d18693ae95b9",
        "colab": {
          "base_uri": "https://localhost:8080/",
          "height": 130
        },
        "outputId": "004b5837-c47f-42ee-87a3-7fd57d634389"
      },
      "outputs": [
        {
          "output_type": "error",
          "ename": "SyntaxError",
          "evalue": "ignored",
          "traceback": [
            "\u001b[0;36m  File \u001b[0;32m\"<ipython-input-33-d6975b43a0db>\"\u001b[0;36m, line \u001b[0;32m1\u001b[0m\n\u001b[0;31m    1. function defination\u001b[0m\n\u001b[0m       ^\u001b[0m\n\u001b[0;31mSyntaxError\u001b[0m\u001b[0;31m:\u001b[0m invalid syntax\n"
          ]
        }
      ],
      "source": [
        "1. function defination\n",
        "2. funcation calling\n",
        "3. argument\n",
        "4. parameter\n",
        "5. fuction return concept\n",
        "7. return multiple values"
      ]
    },
    {
      "cell_type": "code",
      "execution_count": 34,
      "id": "b48dd02f-0e24-422c-afb0-30b3537344b7",
      "metadata": {
        "id": "b48dd02f-0e24-422c-afb0-30b3537344b7"
      },
      "outputs": [],
      "source": [
        "def fullname(a,b):\n",
        "    c=a+b\n",
        "    return c"
      ]
    },
    {
      "cell_type": "code",
      "execution_count": 35,
      "id": "1c2a1877-95a3-400d-85ad-701abe491ff9",
      "metadata": {
        "id": "1c2a1877-95a3-400d-85ad-701abe491ff9"
      },
      "outputs": [],
      "source": [
        "myvariable=fullname(\"AKSHAY\",\"GUPTA\")"
      ]
    },
    {
      "cell_type": "code",
      "execution_count": 36,
      "id": "cd2374b2-c68f-42b3-883e-ba1794d3cfc0",
      "metadata": {
        "id": "cd2374b2-c68f-42b3-883e-ba1794d3cfc0",
        "outputId": "96366124-05b6-436b-ff34-d79e02972ee3",
        "colab": {
          "base_uri": "https://localhost:8080/"
        }
      },
      "outputs": [
        {
          "output_type": "stream",
          "name": "stdout",
          "text": [
            "AKSHAYGUPTA\n"
          ]
        }
      ],
      "source": [
        "print(myvariable)"
      ]
    },
    {
      "cell_type": "code",
      "execution_count": 37,
      "id": "017d3096-93a3-46b7-9b4b-ea21f54664c4",
      "metadata": {
        "id": "017d3096-93a3-46b7-9b4b-ea21f54664c4"
      },
      "outputs": [],
      "source": [
        "def addtwonumber():\n",
        "    a=1000\n",
        "    b=2009042\n",
        "    c=a+b\n",
        "    return a,b,c\n",
        "    "
      ]
    },
    {
      "cell_type": "code",
      "execution_count": 38,
      "id": "48c70e2e-b525-47aa-ae60-f4eb7b169f96",
      "metadata": {
        "id": "48c70e2e-b525-47aa-ae60-f4eb7b169f96"
      },
      "outputs": [],
      "source": [
        "a_value,b_value,addition_of_two_number=addtwonumber()"
      ]
    },
    {
      "cell_type": "code",
      "execution_count": 39,
      "id": "187f2083-0b73-48b5-ba0a-00497e3d6773",
      "metadata": {
        "id": "187f2083-0b73-48b5-ba0a-00497e3d6773",
        "outputId": "1a680e88-492a-4c0c-f53d-1d8bf8629fbb",
        "colab": {
          "base_uri": "https://localhost:8080/"
        }
      },
      "outputs": [
        {
          "output_type": "stream",
          "name": "stdout",
          "text": [
            "1000 2009042 2010042\n"
          ]
        }
      ],
      "source": [
        "print(a_value,b_value,addition_of_two_number,sep=\" \")"
      ]
    },
    {
      "cell_type": "markdown",
      "id": "fa7d3fdb-9f53-44a5-8c21-177b2f4c900b",
      "metadata": {
        "id": "fa7d3fdb-9f53-44a5-8c21-177b2f4c900b"
      },
      "source": [
        "# call the factorial() function to calculate and return the factorial of the number given by the user.\n"
      ]
    },
    {
      "cell_type": "code",
      "execution_count": 40,
      "id": "90219c37-4d3d-445d-88ed-9f8a78992a20",
      "metadata": {
        "id": "90219c37-4d3d-445d-88ed-9f8a78992a20"
      },
      "outputs": [],
      "source": [
        "def factorial(n):\n",
        "    f=1\n",
        "    while n>1: #5>1, 4>1 3>1 2>1 1>1(false)\n",
        "        f=f*n #5*1=5 5*4=20 20*3=60 60*2=120\n",
        "        n=n-1 #4 3 2 1\n",
        "    print(f)\n",
        "    #return f\n",
        "        "
      ]
    },
    {
      "cell_type": "code",
      "execution_count": 42,
      "id": "70018113-717f-44db-a089-5b28d038851f",
      "metadata": {
        "id": "70018113-717f-44db-a089-5b28d038851f",
        "outputId": "a30aa4a2-6b93-4a55-a1c8-44c8f55465fa",
        "colab": {
          "base_uri": "https://localhost:8080/"
        }
      },
      "outputs": [
        {
          "output_type": "stream",
          "name": "stdout",
          "text": [
            "write any number45\n",
            "119622220865480194561963161495657715064383733760000000000\n",
            "4\n"
          ]
        }
      ],
      "source": [
        "number=int(input(\"write any number\"))\n",
        "mynum=factorial(number)\n",
        "print(len(str(mynum)))\n"
      ]
    },
    {
      "cell_type": "code",
      "execution_count": null,
      "id": "bd222575-fe62-4c5e-bba3-47664b004960",
      "metadata": {
        "id": "bd222575-fe62-4c5e-bba3-47664b004960",
        "outputId": "678a676d-1fe9-4831-def3-fabae41d5a86"
      },
      "outputs": [
        {
          "data": {
            "text/plain": [
              "120"
            ]
          },
          "execution_count": 81,
          "metadata": {},
          "output_type": "execute_result"
        }
      ],
      "source": [
        "#factorial of 5\n",
        "\n",
        "5*4*3*2*1"
      ]
    },
    {
      "cell_type": "code",
      "execution_count": null,
      "id": "731afe0c-45a1-411a-abbe-c2ea96b3893e",
      "metadata": {
        "id": "731afe0c-45a1-411a-abbe-c2ea96b3893e",
        "outputId": "ec917e24-f8b1-423f-db7e-b9460ee1b962"
      },
      "outputs": [
        {
          "data": {
            "text/plain": [
              "3628800"
            ]
          },
          "execution_count": 82,
          "metadata": {},
          "output_type": "execute_result"
        }
      ],
      "source": [
        "#factorial of 10\n",
        "\n",
        "10*9*8*7*6*5*4*3*2*1"
      ]
    },
    {
      "cell_type": "code",
      "execution_count": null,
      "id": "5acb34c0-4335-4efd-9c31-a899d0056e18",
      "metadata": {
        "id": "5acb34c0-4335-4efd-9c31-a899d0056e18"
      },
      "outputs": [],
      "source": [
        "positional\n",
        "keyword\n",
        "default"
      ]
    },
    {
      "cell_type": "code",
      "execution_count": 44,
      "id": "b76d7bc6-c8d8-428f-b10d-55ca40c76717",
      "metadata": {
        "id": "b76d7bc6-c8d8-428f-b10d-55ca40c76717"
      },
      "outputs": [],
      "source": [
        "#positional arguments\n",
        "def nos(a,b,c,d):\n",
        "    return a*b*c*d"
      ]
    },
    {
      "cell_type": "code",
      "execution_count": 45,
      "id": "000bd425-0867-4fa4-bd95-25038746d9d6",
      "metadata": {
        "id": "000bd425-0867-4fa4-bd95-25038746d9d6",
        "outputId": "5da589c4-bf4d-45c8-a2fa-553684092954",
        "colab": {
          "base_uri": "https://localhost:8080/"
        }
      },
      "outputs": [
        {
          "output_type": "execute_result",
          "data": {
            "text/plain": [
              "240000"
            ]
          },
          "metadata": {},
          "execution_count": 45
        }
      ],
      "source": [
        "nos(10,20,30,40)"
      ]
    },
    {
      "cell_type": "code",
      "execution_count": 46,
      "id": "8f9602ba-45fc-4be0-b0ca-0f5a261e38c5",
      "metadata": {
        "id": "8f9602ba-45fc-4be0-b0ca-0f5a261e38c5"
      },
      "outputs": [],
      "source": [
        "#keyword arguments\n",
        "def nos(a,b,c,d):\n",
        "    return a*b*c*d"
      ]
    },
    {
      "cell_type": "code",
      "execution_count": 47,
      "id": "a7a38ed3-4e24-44a7-b0ad-f279b2b5c618",
      "metadata": {
        "id": "a7a38ed3-4e24-44a7-b0ad-f279b2b5c618"
      },
      "outputs": [],
      "source": [
        "mynums=nos(a=10,b=20,d=40,c=30)"
      ]
    },
    {
      "cell_type": "code",
      "execution_count": 48,
      "id": "ee4b81b4-ab8e-4c43-89de-c8f732e304d3",
      "metadata": {
        "id": "ee4b81b4-ab8e-4c43-89de-c8f732e304d3",
        "outputId": "e2f00b9a-ccf3-4815-da34-f33de4946eb3",
        "colab": {
          "base_uri": "https://localhost:8080/"
        }
      },
      "outputs": [
        {
          "output_type": "stream",
          "name": "stdout",
          "text": [
            "240000\n"
          ]
        }
      ],
      "source": [
        "print(mynums)"
      ]
    },
    {
      "cell_type": "code",
      "execution_count": 49,
      "id": "f8870cbe-45bb-4538-ab2d-124fccd2c59f",
      "metadata": {
        "id": "f8870cbe-45bb-4538-ab2d-124fccd2c59f"
      },
      "outputs": [],
      "source": [
        "#default arguments\n",
        "def nos(a,b,d,c=0):\n",
        "    return a*b*c*d"
      ]
    },
    {
      "cell_type": "code",
      "execution_count": 50,
      "id": "05648e7d-3193-4599-8f88-9c1502400540",
      "metadata": {
        "id": "05648e7d-3193-4599-8f88-9c1502400540",
        "outputId": "df4f75a2-e947-4aa4-96f9-a3565c7f6bc0",
        "colab": {
          "base_uri": "https://localhost:8080/"
        }
      },
      "outputs": [
        {
          "output_type": "execute_result",
          "data": {
            "text/plain": [
              "0"
            ]
          },
          "metadata": {},
          "execution_count": 50
        }
      ],
      "source": [
        "nos(1,2,d=4)"
      ]
    },
    {
      "cell_type": "code",
      "execution_count": 51,
      "id": "58f1e022-6f5f-4eb4-b8de-0c046bc56fea",
      "metadata": {
        "id": "58f1e022-6f5f-4eb4-b8de-0c046bc56fea",
        "colab": {
          "base_uri": "https://localhost:8080/",
          "height": 130
        },
        "outputId": "012c5bc6-1a53-4b65-f7ad-5fbc6dd85ead"
      },
      "outputs": [
        {
          "output_type": "error",
          "ename": "SyntaxError",
          "evalue": "ignored",
          "traceback": [
            "\u001b[0;36m  File \u001b[0;32m\"<ipython-input-51-a313e11bdbbe>\"\u001b[0;36m, line \u001b[0;32m1\u001b[0m\n\u001b[0;31m    variable lenght argument\u001b[0m\n\u001b[0m             ^\u001b[0m\n\u001b[0;31mSyntaxError\u001b[0m\u001b[0;31m:\u001b[0m invalid syntax\n"
          ]
        }
      ],
      "source": [
        "variable lenght argument"
      ]
    },
    {
      "cell_type": "code",
      "execution_count": 52,
      "id": "f5fa8791-fee6-4048-bec5-61f71af893cf",
      "metadata": {
        "id": "f5fa8791-fee6-4048-bec5-61f71af893cf"
      },
      "outputs": [],
      "source": [
        "\n",
        "\n",
        "def nos(a,b,c,d):\n",
        "    return a*b*c*d"
      ]
    },
    {
      "cell_type": "code",
      "execution_count": 53,
      "id": "58da0d93-cf1d-4315-91bf-3e00d06af350",
      "metadata": {
        "id": "58da0d93-cf1d-4315-91bf-3e00d06af350"
      },
      "outputs": [],
      "source": [
        "def nos(a,b,c,d,e):\n",
        "    return a*b*c*d*e"
      ]
    },
    {
      "cell_type": "code",
      "execution_count": 54,
      "id": "0c15e965-d9c0-4302-875e-245fbb7101a2",
      "metadata": {
        "id": "0c15e965-d9c0-4302-875e-245fbb7101a2"
      },
      "outputs": [],
      "source": [
        "def nos(a,b,c,d,e,f):\n",
        "    return a*b*c*d*e*f"
      ]
    },
    {
      "cell_type": "code",
      "execution_count": 55,
      "id": "73a6403e-0b53-4bee-ad06-b85ea835a4cb",
      "metadata": {
        "id": "73a6403e-0b53-4bee-ad06-b85ea835a4cb",
        "outputId": "1a9a392c-7bd4-45c4-c8b7-a8a44a6e062d",
        "colab": {
          "base_uri": "https://localhost:8080/",
          "height": 165
        }
      },
      "outputs": [
        {
          "output_type": "error",
          "ename": "TypeError",
          "evalue": "ignored",
          "traceback": [
            "\u001b[0;31m---------------------------------------------------------------------------\u001b[0m",
            "\u001b[0;31mTypeError\u001b[0m                                 Traceback (most recent call last)",
            "\u001b[0;32m<ipython-input-55-545cfd92fb7d>\u001b[0m in \u001b[0;36m<module>\u001b[0;34m\u001b[0m\n\u001b[0;32m----> 1\u001b[0;31m \u001b[0mnos\u001b[0m\u001b[0;34m(\u001b[0m\u001b[0;36m10\u001b[0m\u001b[0;34m,\u001b[0m\u001b[0;36m20\u001b[0m\u001b[0;34m,\u001b[0m\u001b[0;36m30\u001b[0m\u001b[0;34m,\u001b[0m\u001b[0;36m40\u001b[0m\u001b[0;34m,\u001b[0m\u001b[0;36m50\u001b[0m\u001b[0;34m)\u001b[0m\u001b[0;34m\u001b[0m\u001b[0;34m\u001b[0m\u001b[0m\n\u001b[0m",
            "\u001b[0;31mTypeError\u001b[0m: nos() missing 1 required positional argument: 'f'"
          ]
        }
      ],
      "source": [
        "nos(10,20,30,40,50)"
      ]
    },
    {
      "cell_type": "code",
      "execution_count": null,
      "id": "2bb809c5-0109-493d-a48b-1a9c60b66bf2",
      "metadata": {
        "id": "2bb809c5-0109-493d-a48b-1a9c60b66bf2"
      },
      "outputs": [],
      "source": [
        "def nos(*a):\n",
        "    print(type(a))\n",
        "    mul=1\n",
        "    for i in a:\n",
        "        mul=mul*i\n",
        "    return mul\n",
        "        "
      ]
    },
    {
      "cell_type": "code",
      "execution_count": 56,
      "id": "44728a77-2a8d-4b47-979e-73845653ee27",
      "metadata": {
        "id": "44728a77-2a8d-4b47-979e-73845653ee27",
        "outputId": "b76fbc94-a320-4192-fa0f-5a9203af7b69",
        "colab": {
          "base_uri": "https://localhost:8080/"
        }
      },
      "outputs": [
        {
          "output_type": "execute_result",
          "data": {
            "text/plain": [
              "720000000"
            ]
          },
          "metadata": {},
          "execution_count": 56
        }
      ],
      "source": [
        "nos(10,20,30,40,50,60)"
      ]
    },
    {
      "cell_type": "code",
      "execution_count": 57,
      "id": "188dd673-9bb9-41c0-a6ca-bf1f321f8373",
      "metadata": {
        "id": "188dd673-9bb9-41c0-a6ca-bf1f321f8373",
        "outputId": "c8fad842-7922-4320-be8a-801205b7ff2c",
        "colab": {
          "base_uri": "https://localhost:8080/",
          "height": 165
        }
      },
      "outputs": [
        {
          "output_type": "error",
          "ename": "TypeError",
          "evalue": "ignored",
          "traceback": [
            "\u001b[0;31m---------------------------------------------------------------------------\u001b[0m",
            "\u001b[0;31mTypeError\u001b[0m                                 Traceback (most recent call last)",
            "\u001b[0;32m<ipython-input-57-de51c358b37e>\u001b[0m in \u001b[0;36m<module>\u001b[0;34m\u001b[0m\n\u001b[0;32m----> 1\u001b[0;31m \u001b[0mnos\u001b[0m\u001b[0;34m(\u001b[0m\u001b[0;36m10\u001b[0m\u001b[0;34m,\u001b[0m\u001b[0;36m20\u001b[0m\u001b[0;34m,\u001b[0m\u001b[0;36m30\u001b[0m\u001b[0;34m,\u001b[0m\u001b[0;36m40\u001b[0m\u001b[0;34m,\u001b[0m\u001b[0;36m50\u001b[0m\u001b[0;34m,\u001b[0m\u001b[0;36m60\u001b[0m\u001b[0;34m,\u001b[0m\u001b[0;36m24\u001b[0m\u001b[0;34m,\u001b[0m\u001b[0;36m45\u001b[0m\u001b[0;34m,\u001b[0m\u001b[0;36m5645\u001b[0m\u001b[0;34m,\u001b[0m\u001b[0;36m76\u001b[0m\u001b[0;34m,\u001b[0m\u001b[0;36m867\u001b[0m\u001b[0;34m,\u001b[0m\u001b[0;36m8\u001b[0m\u001b[0;34m,\u001b[0m\u001b[0;36m34\u001b[0m\u001b[0;34m,\u001b[0m\u001b[0;36m3\u001b[0m\u001b[0;34m,\u001b[0m\u001b[0;36m4676\u001b[0m\u001b[0;34m,\u001b[0m\u001b[0;36m867\u001b[0m\u001b[0;34m,\u001b[0m\u001b[0;36m986\u001b[0m\u001b[0;34m)\u001b[0m\u001b[0;34m\u001b[0m\u001b[0;34m\u001b[0m\u001b[0m\n\u001b[0m",
            "\u001b[0;31mTypeError\u001b[0m: nos() takes 6 positional arguments but 17 were given"
          ]
        }
      ],
      "source": [
        "nos(10,20,30,40,50,60,24,45,5645,76,867,8,34,3,4676,867,986)"
      ]
    },
    {
      "cell_type": "code",
      "execution_count": 58,
      "id": "ea18d573-cfc1-445b-8bc7-6f8e96654b14",
      "metadata": {
        "id": "ea18d573-cfc1-445b-8bc7-6f8e96654b14",
        "colab": {
          "base_uri": "https://localhost:8080/",
          "height": 130
        },
        "outputId": "2213170d-2c84-4a1b-ef58-04ccb9b92a9d"
      },
      "outputs": [
        {
          "output_type": "error",
          "ename": "SyntaxError",
          "evalue": "ignored",
          "traceback": [
            "\u001b[0;36m  File \u001b[0;32m\"<ipython-input-58-234721e726e6>\"\u001b[0;36m, line \u001b[0;32m1\u001b[0m\n\u001b[0;31m    python does not support function overloading\u001b[0m\n\u001b[0m           ^\u001b[0m\n\u001b[0;31mSyntaxError\u001b[0m\u001b[0;31m:\u001b[0m invalid syntax\n"
          ]
        }
      ],
      "source": [
        "python does not support function overloading\n",
        "\n",
        "it will always take recent defination\n"
      ]
    },
    {
      "cell_type": "code",
      "execution_count": 59,
      "id": "12c823ec-44a3-4633-ad0e-ac7d55614b4e",
      "metadata": {
        "id": "12c823ec-44a3-4633-ad0e-ac7d55614b4e",
        "outputId": "5d4d6ed1-3ce1-4d1b-f847-f21e3a4f7af0",
        "colab": {
          "base_uri": "https://localhost:8080/"
        }
      },
      "outputs": [
        {
          "output_type": "stream",
          "name": "stdout",
          "text": [
            "Joined String is: Goodnight\n"
          ]
        }
      ],
      "source": [
        "def attach(s1,s2):\n",
        "    s3=s1+s2\n",
        "    print(\"Joined String is:\",s3)\n",
        "\t\n",
        "attach(\"Good\",\"night\")"
      ]
    },
    {
      "cell_type": "code",
      "execution_count": 60,
      "id": "5a8b74ce-3f43-43be-9ad6-adffebeaf510",
      "metadata": {
        "id": "5a8b74ce-3f43-43be-9ad6-adffebeaf510",
        "outputId": "f3abe284-ed8f-41ae-dd51-ed8655256250",
        "colab": {
          "base_uri": "https://localhost:8080/"
        }
      },
      "outputs": [
        {
          "output_type": "stream",
          "name": "stdout",
          "text": [
            "Item is Butter It's price is 150\n"
          ]
        }
      ],
      "source": [
        "def grocery(name,price):\n",
        "    print(\"Item is\",name,\"It's price is\",price)\n",
        "\t\n",
        "grocery(price=150,name=\"Butter\")\n"
      ]
    },
    {
      "cell_type": "code",
      "execution_count": 61,
      "id": "2b94cf1c-72fc-43a1-a6fa-e7899e37c0ec",
      "metadata": {
        "id": "2b94cf1c-72fc-43a1-a6fa-e7899e37c0ec",
        "outputId": "82d3ccb7-6f37-483c-cf2b-2b9d4a6ccdc4",
        "colab": {
          "base_uri": "https://localhost:8080/"
        }
      },
      "outputs": [
        {
          "output_type": "stream",
          "name": "stdout",
          "text": [
            "Hello Sachin Good Morning\n"
          ]
        }
      ],
      "source": [
        "def greet(name,msg=\"Good Morning\"):\n",
        "    print(\"Hello\",name,msg)\n",
        "\t\n",
        "greet(\"Sachin\")\n",
        "\n"
      ]
    },
    {
      "cell_type": "code",
      "execution_count": 62,
      "id": "ce1d1519-45dc-4fe2-9b0c-23ed84b9ffdf",
      "metadata": {
        "id": "ce1d1519-45dc-4fe2-9b0c-23ed84b9ffdf",
        "outputId": "63d95bdb-03f2-4e83-9b7a-c82c13112a8b",
        "colab": {
          "base_uri": "https://localhost:8080/"
        }
      },
      "outputs": [
        {
          "output_type": "stream",
          "name": "stdout",
          "text": [
            "Hello Sachin Good Morning\n"
          ]
        }
      ],
      "source": [
        "def greet(name ,msg=\"Good Morning\"):\n",
        "    print(\"Hello\",name,msg)\n",
        "\t\n",
        "greet(\"Sachin\")"
      ]
    },
    {
      "cell_type": "code",
      "execution_count": 63,
      "id": "ebaca903-a8e0-41e7-886e-fded88cc71af",
      "metadata": {
        "id": "ebaca903-a8e0-41e7-886e-fded88cc71af",
        "outputId": "4d161d2e-99c1-40dc-b807-0794f1cfd69c",
        "colab": {
          "base_uri": "https://localhost:8080/"
        }
      },
      "outputs": [
        {
          "output_type": "stream",
          "name": "stdout",
          "text": [
            "Hello Amit How are you?\n"
          ]
        }
      ],
      "source": [
        "greet(\"Amit\",\"How are you?\")\n"
      ]
    },
    {
      "cell_type": "markdown",
      "id": "cf28eb46-f5d9-4196-8eb7-9b3228af3657",
      "metadata": {
        "id": "cf28eb46-f5d9-4196-8eb7-9b3228af3657"
      },
      "source": [
        "# Write a function called cal_area( ) using default argument concept which accepts radius and pi as arguments and calculates and displays area of the Circle. The value of pi should be used as default argument and value of radius should be accepted from the user\n"
      ]
    },
    {
      "cell_type": "code",
      "execution_count": 64,
      "id": "e415d5b5-b967-4ff8-84a0-77252f976eff",
      "metadata": {
        "id": "e415d5b5-b967-4ff8-84a0-77252f976eff"
      },
      "outputs": [],
      "source": [
        "def cal_area(radius,pi=3.14):\n",
        "    return pi*(radius**2)"
      ]
    },
    {
      "cell_type": "code",
      "execution_count": 65,
      "id": "2767c272-d17f-4c1c-84e0-836a1931ac72",
      "metadata": {
        "id": "2767c272-d17f-4c1c-84e0-836a1931ac72",
        "outputId": "79b11bed-ea64-4b01-f82d-7d5318264b5c",
        "colab": {
          "base_uri": "https://localhost:8080/"
        }
      },
      "outputs": [
        {
          "name": "stdout",
          "output_type": "stream",
          "text": [
            "give the raduis of the circle6\n"
          ]
        },
        {
          "output_type": "execute_result",
          "data": {
            "text/plain": [
              "113.04"
            ]
          },
          "metadata": {},
          "execution_count": 65
        }
      ],
      "source": [
        "r=int(input(\"give the raduis of the circle\"))\n",
        "cal_area(r)"
      ]
    },
    {
      "cell_type": "code",
      "execution_count": 69,
      "id": "420ef619-ef04-4e98-9159-870f387e123b",
      "metadata": {
        "id": "420ef619-ef04-4e98-9159-870f387e123b"
      },
      "outputs": [],
      "source": [
        "def addnos(a,b):\n",
        "\tc=a+b\n",
        "\treturn c\n",
        "\n",
        "def addnos(a,b,c=0):\n",
        "\td=a+b+c\n",
        "\treturn d   \n",
        "\n"
      ]
    },
    {
      "cell_type": "code",
      "execution_count": 70,
      "id": "cc5dc568-2959-4154-8a18-620ab681a4ea",
      "metadata": {
        "id": "cc5dc568-2959-4154-8a18-620ab681a4ea",
        "outputId": "b27327af-7996-4252-8145-09ef04b07dfb",
        "colab": {
          "base_uri": "https://localhost:8080/"
        }
      },
      "outputs": [
        {
          "output_type": "stream",
          "name": "stdout",
          "text": [
            "30\n"
          ]
        }
      ],
      "source": [
        "print(addnos(10,20))"
      ]
    },
    {
      "cell_type": "code",
      "execution_count": 71,
      "id": "31a3097c-cb5a-47e9-ac5c-7b0906472bb7",
      "metadata": {
        "id": "31a3097c-cb5a-47e9-ac5c-7b0906472bb7",
        "outputId": "60ecd4b9-1eee-436d-fadd-7fb126f5437c",
        "colab": {
          "base_uri": "https://localhost:8080/"
        }
      },
      "outputs": [
        {
          "output_type": "stream",
          "name": "stdout",
          "text": [
            "60\n"
          ]
        }
      ],
      "source": [
        "print(addnos(10,20,30)) \n"
      ]
    },
    {
      "cell_type": "markdown",
      "id": "0c60bf53-697c-4cf3-9369-ea59175fdfa0",
      "metadata": {
        "id": "0c60bf53-697c-4cf3-9369-ea59175fdfa0"
      },
      "source": [
        "# Write a function called find_largest( ) which accepts multiple strings as argument and returns the length of the largest string\n"
      ]
    },
    {
      "cell_type": "code",
      "execution_count": 72,
      "id": "4cc230f3-88c6-4f63-a1c4-a41f9e452f2e",
      "metadata": {
        "id": "4cc230f3-88c6-4f63-a1c4-a41f9e452f2e"
      },
      "outputs": [],
      "source": [
        "def find_largest():\n",
        "    aa=[]\n",
        "    string = input('Enter string or names with space: ').split(\" \")\n",
        "    for i in string:\n",
        "        aa.append(len(i))\n",
        "    return max(aa)\n"
      ]
    },
    {
      "cell_type": "code",
      "execution_count": 73,
      "id": "3caa1a84-1cff-4556-91a5-6883c7df62c6",
      "metadata": {
        "id": "3caa1a84-1cff-4556-91a5-6883c7df62c6",
        "outputId": "c67722c2-193c-438e-f156-60e3f15b265c",
        "colab": {
          "base_uri": "https://localhost:8080/"
        }
      },
      "outputs": [
        {
          "name": "stdout",
          "output_type": "stream",
          "text": [
            "Enter string or names with space: AKSHAY KUMAR GUPTA\n"
          ]
        },
        {
          "output_type": "execute_result",
          "data": {
            "text/plain": [
              "6"
            ]
          },
          "metadata": {},
          "execution_count": 73
        }
      ],
      "source": [
        "find_largest()"
      ]
    },
    {
      "cell_type": "code",
      "execution_count": 74,
      "id": "4a5a42b7-abd0-4dd2-8101-51d66cc0f1e9",
      "metadata": {
        "id": "4a5a42b7-abd0-4dd2-8101-51d66cc0f1e9"
      },
      "outputs": [],
      "source": [
        "def find_largest(*args):\n",
        "    print(args)\n",
        "    largest = \"\"\n",
        "    for arg in args:\n",
        "        if len(arg) > len(largest):\n",
        "            largest = arg\n",
        "    return len(largest)\n"
      ]
    },
    {
      "cell_type": "code",
      "execution_count": 75,
      "id": "2bbd6037-5cc0-4443-89aa-c21dc0986747",
      "metadata": {
        "id": "2bbd6037-5cc0-4443-89aa-c21dc0986747",
        "outputId": "0841ed6d-ccdd-4fc6-a200-97b8bff8d3b1",
        "colab": {
          "base_uri": "https://localhost:8080/"
        }
      },
      "outputs": [
        {
          "output_type": "stream",
          "name": "stdout",
          "text": [
            "8\n"
          ]
        }
      ],
      "source": [
        "def findlargest(*names):\n",
        "\tmax=0\n",
        "\tfor s in names:\n",
        "\t\tif len(s)>max:\n",
        "\t\t\tmax=len(s)\n",
        "\treturn max\n",
        "print(findlargest(\"January\",\"February\",\"March\"))\n"
      ]
    },
    {
      "cell_type": "code",
      "execution_count": 77,
      "id": "565989f6-86c5-4edc-92dd-4d92faf5f2c9",
      "metadata": {
        "id": "565989f6-86c5-4edc-92dd-4d92faf5f2c9",
        "outputId": "03f665b0-e526-445c-afa9-6b0138734a1a",
        "colab": {
          "base_uri": "https://localhost:8080/"
        }
      },
      "outputs": [
        {
          "output_type": "stream",
          "name": "stdout",
          "text": [
            "('AKSHYAGUPTA', 'ravi', 'rohitdas')\n"
          ]
        },
        {
          "output_type": "execute_result",
          "data": {
            "text/plain": [
              "11"
            ]
          },
          "metadata": {},
          "execution_count": 77
        }
      ],
      "source": [
        "find_largest(\"AKSHYAGUPTA\",\"ravi\",\"rohitdas\")"
      ]
    },
    {
      "cell_type": "code",
      "execution_count": 78,
      "id": "cfb48a4a-da70-484b-b414-ccaa09001caf",
      "metadata": {
        "id": "cfb48a4a-da70-484b-b414-ccaa09001caf"
      },
      "outputs": [],
      "source": [
        "def find_largest(a,b,c):\n",
        "      x =len(a)\n",
        "      y =len(b)\n",
        "      z =len(c)\n",
        "      if x>y and x>z:\n",
        "        return x\n",
        "      elif y>x and y>z:\n",
        "        return y\n",
        "      else:\n",
        "        return z\n"
      ]
    },
    {
      "cell_type": "code",
      "execution_count": 80,
      "id": "c2ce965d-5c5a-4aab-8ae5-c3fd6de18d58",
      "metadata": {
        "id": "c2ce965d-5c5a-4aab-8ae5-c3fd6de18d58",
        "outputId": "62899c73-abcf-4169-9789-0b740b1e72df",
        "colab": {
          "base_uri": "https://localhost:8080/"
        }
      },
      "outputs": [
        {
          "output_type": "execute_result",
          "data": {
            "text/plain": [
              "11"
            ]
          },
          "metadata": {},
          "execution_count": 80
        }
      ],
      "source": [
        "find_largest(\"AKSHYAGUPTA\",\"ravi\",\"rohitdas\")"
      ]
    },
    {
      "cell_type": "code",
      "execution_count": 81,
      "id": "4af6bc5b-f4d7-46c3-b080-8809726a6dd3",
      "metadata": {
        "id": "4af6bc5b-f4d7-46c3-b080-8809726a6dd3"
      },
      "outputs": [],
      "source": [
        "def find_largest():\n",
        "    a=input(\"Enter the firsst string = \")\n",
        "    b=input(\"Enter the second string = \")\n",
        "    c=input(\"Enter the third string = \")\n",
        "    \n",
        "    if (len(a)>len(b) and len(a)> len(c)):\n",
        "        return a,len(a)\n",
        "    elif (len(b)>len(c) and len(b)> len(a)):\n",
        "        return b,len(b)\n",
        "    else:\n",
        "        return c,len(c)\n"
      ]
    },
    {
      "cell_type": "code",
      "execution_count": 82,
      "id": "31904b77-d2c4-4818-b631-6d01c4bddc04",
      "metadata": {
        "id": "31904b77-d2c4-4818-b631-6d01c4bddc04",
        "outputId": "0f2a49ab-9492-410d-cf06-563480aa4e5d",
        "colab": {
          "base_uri": "https://localhost:8080/"
        }
      },
      "outputs": [
        {
          "name": "stdout",
          "output_type": "stream",
          "text": [
            "Enter the firsst string = akshay\n",
            "Enter the second string = gupta\n",
            "Enter the third string = are bhai kya kar rahe ho\n"
          ]
        },
        {
          "output_type": "execute_result",
          "data": {
            "text/plain": [
              "('are bhai kya kar rahe ho', 24)"
            ]
          },
          "metadata": {},
          "execution_count": 82
        }
      ],
      "source": [
        "find_largest()"
      ]
    },
    {
      "cell_type": "code",
      "execution_count": 83,
      "id": "267a45df-be0d-4a73-9a47-fe0c55d06f61",
      "metadata": {
        "id": "267a45df-be0d-4a73-9a47-fe0c55d06f61",
        "outputId": "3d66d410-2cb4-4f2d-c7ae-3c4b3452dea0",
        "colab": {
          "base_uri": "https://localhost:8080/",
          "height": 130
        }
      },
      "outputs": [
        {
          "output_type": "error",
          "ename": "SyntaxError",
          "evalue": "ignored",
          "traceback": [
            "\u001b[0;36m  File \u001b[0;32m\"<ipython-input-83-9fbc6ac2339a>\"\u001b[0;36m, line \u001b[0;32m1\u001b[0m\n\u001b[0;31m    def addnos(*a,*b):\u001b[0m\n\u001b[0m                  ^\u001b[0m\n\u001b[0;31mSyntaxError\u001b[0m\u001b[0;31m:\u001b[0m invalid syntax\n"
          ]
        }
      ],
      "source": [
        "def addnos(*a,*b):\n",
        "    print(a)\n",
        "    print(b)"
      ]
    },
    {
      "cell_type": "code",
      "execution_count": 84,
      "id": "71806ccd-e511-469c-a019-906d230582b4",
      "metadata": {
        "id": "71806ccd-e511-469c-a019-906d230582b4",
        "outputId": "ab14e400-b062-41fb-93e1-c28d7f5b48a0",
        "colab": {
          "base_uri": "https://localhost:8080/"
        }
      },
      "outputs": [
        {
          "output_type": "stream",
          "name": "stdout",
          "text": [
            "10 20 3 4\n"
          ]
        }
      ],
      "source": [
        "def show(a,b,c=3,d=4):\n",
        "    print(a,b,c,d)\n",
        "\n",
        "show(10,20)\n"
      ]
    },
    {
      "cell_type": "code",
      "execution_count": 85,
      "id": "20ed6b7e-9393-4425-867a-f74b4c9a819d",
      "metadata": {
        "id": "20ed6b7e-9393-4425-867a-f74b4c9a819d",
        "outputId": "12582faa-41a2-4625-d8ee-919803a7222b",
        "colab": {
          "base_uri": "https://localhost:8080/"
        }
      },
      "outputs": [
        {
          "output_type": "stream",
          "name": "stdout",
          "text": [
            "10 20 30 40\n"
          ]
        }
      ],
      "source": [
        "def show(a,b,c=3,d=4):\n",
        "    print(a,b,c,d)\n",
        "\n",
        "show(10,20,30,40)\n"
      ]
    },
    {
      "cell_type": "code",
      "execution_count": 86,
      "id": "ac877b93-06c1-427c-888f-daacd49f02ae",
      "metadata": {
        "id": "ac877b93-06c1-427c-888f-daacd49f02ae",
        "outputId": "9fdfe344-0e14-4b67-c566-70e32248c17a",
        "colab": {
          "base_uri": "https://localhost:8080/"
        }
      },
      "outputs": [
        {
          "output_type": "stream",
          "name": "stdout",
          "text": [
            "20 30 3 10\n"
          ]
        }
      ],
      "source": [
        "def show(a,b,c=3,d=4):\n",
        "    print(a,b,c,d)\n",
        "\n",
        "show(d=10,a=20,b=30)\n"
      ]
    },
    {
      "cell_type": "code",
      "execution_count": 92,
      "id": "5c4ca31f-8105-4b6f-a0d5-2695f8712697",
      "metadata": {
        "id": "5c4ca31f-8105-4b6f-a0d5-2695f8712697",
        "outputId": "fd6dab2f-1530-4cde-b23d-513234ac72b1",
        "colab": {
          "base_uri": "https://localhost:8080/",
          "height": 200
        }
      },
      "outputs": [
        {
          "output_type": "error",
          "ename": "TypeError",
          "evalue": "ignored",
          "traceback": [
            "\u001b[0;31m---------------------------------------------------------------------------\u001b[0m",
            "\u001b[0;31mTypeError\u001b[0m                                 Traceback (most recent call last)",
            "\u001b[0;32m<ipython-input-92-7f61135675fb>\u001b[0m in \u001b[0;36m<module>\u001b[0;34m\u001b[0m\n\u001b[1;32m      2\u001b[0m     \u001b[0mprint\u001b[0m\u001b[0;34m(\u001b[0m\u001b[0ma\u001b[0m\u001b[0;34m,\u001b[0m\u001b[0mb\u001b[0m\u001b[0;34m,\u001b[0m\u001b[0mc\u001b[0m\u001b[0;34m,\u001b[0m\u001b[0md\u001b[0m\u001b[0;34m)\u001b[0m\u001b[0;34m\u001b[0m\u001b[0;34m\u001b[0m\u001b[0m\n\u001b[1;32m      3\u001b[0m \u001b[0;34m\u001b[0m\u001b[0m\n\u001b[0;32m----> 4\u001b[0;31m \u001b[0mshow\u001b[0m\u001b[0;34m(\u001b[0m\u001b[0;34m)\u001b[0m\u001b[0;34m\u001b[0m\u001b[0;34m\u001b[0m\u001b[0m\n\u001b[0m",
            "\u001b[0;31mTypeError\u001b[0m: show() missing 2 required positional arguments: 'a' and 'b'"
          ]
        }
      ],
      "source": [
        "def show(a,b,c=3,d=4):\n",
        "    print(a,b,c,d)\n",
        "\n",
        "show()\n"
      ]
    },
    {
      "cell_type": "code",
      "execution_count": 88,
      "id": "f6407fb3-2ada-4f7a-86fc-c6c3f26ca55e",
      "metadata": {
        "id": "f6407fb3-2ada-4f7a-86fc-c6c3f26ca55e"
      },
      "outputs": [],
      "source": [
        "def show(a,b,c=3,d=4):\n",
        "    print(a,b,c,d)\n",
        "\n"
      ]
    },
    {
      "cell_type": "code",
      "execution_count": 93,
      "id": "2b886161-9a16-49cb-9ba2-dad90eea933e",
      "metadata": {
        "id": "2b886161-9a16-49cb-9ba2-dad90eea933e",
        "outputId": "d1d11320-2c2b-4478-d463-0a2309905196",
        "colab": {
          "base_uri": "https://localhost:8080/",
          "height": 130
        }
      },
      "outputs": [
        {
          "output_type": "error",
          "ename": "SyntaxError",
          "evalue": "ignored",
          "traceback": [
            "\u001b[0;36m  File \u001b[0;32m\"<ipython-input-93-594b229b7fcf>\"\u001b[0;36m, line \u001b[0;32m1\u001b[0m\n\u001b[0;31m    show(c=30,d=40,10,20)\u001b[0m\n\u001b[0m                   ^\u001b[0m\n\u001b[0;31mSyntaxError\u001b[0m\u001b[0;31m:\u001b[0m positional argument follows keyword argument\n"
          ]
        }
      ],
      "source": [
        "show(c=30,d=40,10,20)"
      ]
    },
    {
      "cell_type": "code",
      "execution_count": 94,
      "id": "d8d1afe1-a3db-44bb-8b5b-43074abb0933",
      "metadata": {
        "id": "d8d1afe1-a3db-44bb-8b5b-43074abb0933",
        "outputId": "1c1d66b5-3a9a-4e94-b9c3-aa09db24e72d",
        "colab": {
          "base_uri": "https://localhost:8080/",
          "height": 200
        }
      },
      "outputs": [
        {
          "output_type": "error",
          "ename": "TypeError",
          "evalue": "ignored",
          "traceback": [
            "\u001b[0;31m---------------------------------------------------------------------------\u001b[0m",
            "\u001b[0;31mTypeError\u001b[0m                                 Traceback (most recent call last)",
            "\u001b[0;32m<ipython-input-94-c9bfd3640c6a>\u001b[0m in \u001b[0;36m<module>\u001b[0;34m\u001b[0m\n\u001b[1;32m      2\u001b[0m     \u001b[0mprint\u001b[0m\u001b[0;34m(\u001b[0m\u001b[0ma\u001b[0m\u001b[0;34m,\u001b[0m\u001b[0mb\u001b[0m\u001b[0;34m,\u001b[0m\u001b[0mc\u001b[0m\u001b[0;34m,\u001b[0m\u001b[0md\u001b[0m\u001b[0;34m)\u001b[0m\u001b[0;34m\u001b[0m\u001b[0;34m\u001b[0m\u001b[0m\n\u001b[1;32m      3\u001b[0m \u001b[0;34m\u001b[0m\u001b[0m\n\u001b[0;32m----> 4\u001b[0;31m \u001b[0mshow\u001b[0m\u001b[0;34m(\u001b[0m\u001b[0;36m30\u001b[0m\u001b[0;34m,\u001b[0m\u001b[0;36m40\u001b[0m\u001b[0;34m,\u001b[0m\u001b[0mb\u001b[0m\u001b[0;34m=\u001b[0m\u001b[0;36m15\u001b[0m\u001b[0;34m)\u001b[0m\u001b[0;34m\u001b[0m\u001b[0;34m\u001b[0m\u001b[0m\n\u001b[0m",
            "\u001b[0;31mTypeError\u001b[0m: show() got multiple values for argument 'b'"
          ]
        }
      ],
      "source": [
        "def show(a,b,c=3,d=4):\n",
        "    print(a,b,c,d)\n",
        "\n",
        "show(30,40,b=15)\n"
      ]
    },
    {
      "cell_type": "code",
      "execution_count": 95,
      "id": "479c605a-dc9a-43e7-8dda-bb44c25f44fa",
      "metadata": {
        "id": "479c605a-dc9a-43e7-8dda-bb44c25f44fa"
      },
      "outputs": [],
      "source": [
        "def test(a):\n",
        "    try:\n",
        "        print(a/10)\n",
        "    except:\n",
        "        print(\"dont write string\")\n",
        " "
      ]
    },
    {
      "cell_type": "code",
      "execution_count": 97,
      "id": "6938a1fc-25d8-4566-8b75-13ae2f5c5c0e",
      "metadata": {
        "id": "6938a1fc-25d8-4566-8b75-13ae2f5c5c0e",
        "outputId": "d428e155-e61f-4e1c-9968-81ba7bdeed10",
        "colab": {
          "base_uri": "https://localhost:8080/"
        }
      },
      "outputs": [
        {
          "output_type": "stream",
          "name": "stdout",
          "text": [
            "dont write string\n"
          ]
        }
      ],
      "source": [
        "test(\"akshay\") "
      ]
    },
    {
      "cell_type": "code",
      "execution_count": null,
      "id": "1ba13a55-5fb4-4bd2-a70c-7db37eac2f7f",
      "metadata": {
        "id": "1ba13a55-5fb4-4bd2-a70c-7db37eac2f7f"
      },
      "outputs": [],
      "source": []
    }
  ],
  "metadata": {
    "kernelspec": {
      "display_name": "Python 3 (ipykernel)",
      "language": "python",
      "name": "python3"
    },
    "language_info": {
      "codemirror_mode": {
        "name": "ipython",
        "version": 3
      },
      "file_extension": ".py",
      "mimetype": "text/x-python",
      "name": "python",
      "nbconvert_exporter": "python",
      "pygments_lexer": "ipython3",
      "version": "3.10.6"
    },
    "colab": {
      "provenance": []
    }
  },
  "nbformat": 4,
  "nbformat_minor": 5
}