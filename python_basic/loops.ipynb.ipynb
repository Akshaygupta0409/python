{
  "cells": [
    {
      "cell_type": "code",
      "execution_count": null,
      "id": "6ccd53a8-4c30-4d2f-af85-16500debd90d",
      "metadata": {
        "id": "6ccd53a8-4c30-4d2f-af85-16500debd90d",
        "outputId": "57209f75-ea9a-4f1c-9683-0901baf6ceb0"
      },
      "outputs": [
        {
          "name": "stdout",
          "output_type": "stream",
          "text": [
            "hello\n"
          ]
        }
      ],
      "source": [
        "print(\"hello\")"
      ]
    },
    {
      "cell_type": "code",
      "execution_count": 1,
      "id": "418fac69-1e3b-4c5a-9fea-35685f95ab10",
      "metadata": {
        "id": "418fac69-1e3b-4c5a-9fea-35685f95ab10"
      },
      "outputs": [],
      "source": [
        "name=\"akshay\""
      ]
    },
    {
      "cell_type": "code",
      "execution_count": 2,
      "id": "d4c01bb4-c277-4438-917c-211f36374fac",
      "metadata": {
        "id": "d4c01bb4-c277-4438-917c-211f36374fac",
        "outputId": "b6f137ab-16aa-4d5e-9243-018500043949",
        "colab": {
          "base_uri": "https://localhost:8080/"
        }
      },
      "outputs": [
        {
          "output_type": "stream",
          "name": "stdout",
          "text": [
            "hello akshay\n"
          ]
        }
      ],
      "source": [
        "print(\"hello\",name)"
      ]
    },
    {
      "cell_type": "markdown",
      "id": "ccc3dfcd-bb27-4028-bc82-6c495d051f70",
      "metadata": {
        "id": "ccc3dfcd-bb27-4028-bc82-6c495d051f70"
      },
      "source": [
        "# format specifier"
      ]
    },
    {
      "cell_type": "code",
      "execution_count": null,
      "id": "ad0455b8-0bf0-45e3-a1c4-c7d3eea9fe7d",
      "metadata": {
        "id": "ad0455b8-0bf0-45e3-a1c4-c7d3eea9fe7d",
        "outputId": "4215736a-13b4-46e3-d192-09eafe061b92"
      },
      "outputs": [
        {
          "data": {
            "text/plain": [
              "'sunny'"
            ]
          },
          "execution_count": 24,
          "metadata": {},
          "output_type": "execute_result"
        }
      ],
      "source": [
        "name"
      ]
    },
    {
      "cell_type": "code",
      "execution_count": 3,
      "id": "48cc29e3-ea6b-44f4-a6e4-40788c72c927",
      "metadata": {
        "id": "48cc29e3-ea6b-44f4-a6e4-40788c72c927"
      },
      "outputs": [],
      "source": [
        "last_name=\"gupta\""
      ]
    },
    {
      "cell_type": "code",
      "execution_count": null,
      "id": "c2bcfbdd-ad9c-407d-b449-919fdfd11055",
      "metadata": {
        "id": "c2bcfbdd-ad9c-407d-b449-919fdfd11055",
        "outputId": "265d50be-3ce1-4444-a4c4-8e69ed457378"
      },
      "outputs": [
        {
          "name": "stdout",
          "output_type": "stream",
          "text": [
            "hello sunny  how are you savita\n"
          ]
        }
      ],
      "source": [
        "print(\"hello %s  how are you %s\" %(name,last_name))"
      ]
    },
    {
      "cell_type": "code",
      "execution_count": null,
      "id": "7580e10f-ca9e-46d7-88d7-66ea1811a749",
      "metadata": {
        "id": "7580e10f-ca9e-46d7-88d7-66ea1811a749"
      },
      "outputs": [],
      "source": [
        "a=10"
      ]
    },
    {
      "cell_type": "code",
      "execution_count": null,
      "id": "c24cbff4-6033-40d4-b6fe-fb4037cb33ad",
      "metadata": {
        "id": "c24cbff4-6033-40d4-b6fe-fb4037cb33ad",
        "outputId": "fdce97f3-55cf-470f-a0ff-03a67f8c8682"
      },
      "outputs": [
        {
          "name": "stdout",
          "output_type": "stream",
          "text": [
            "value of a is 10\n"
          ]
        }
      ],
      "source": [
        "print(\"value of a is %d\" %a)"
      ]
    },
    {
      "cell_type": "code",
      "execution_count": null,
      "id": "6a4e3e83-e228-468a-9321-3c8312873e9b",
      "metadata": {
        "id": "6a4e3e83-e228-468a-9321-3c8312873e9b"
      },
      "outputs": [],
      "source": [
        "a=10\n",
        "name=\"akshay\"\n",
        "b=20.9"
      ]
    },
    {
      "cell_type": "markdown",
      "id": "35432bf5-c2aa-4f69-973d-43fdba6403c0",
      "metadata": {
        "id": "35432bf5-c2aa-4f69-973d-43fdba6403c0"
      },
      "source": [
        "# Simple pythonic way"
      ]
    },
    {
      "cell_type": "code",
      "execution_count": null,
      "id": "8ca8c134-e959-4245-88af-2c4d314cd16a",
      "metadata": {
        "id": "8ca8c134-e959-4245-88af-2c4d314cd16a",
        "outputId": "d4a5fc8c-45ae-401f-ea27-281b99221fa5"
      },
      "outputs": [
        {
          "name": "stdout",
          "output_type": "stream",
          "text": [
            "value of a is 10 name is sunny value of b is 20.9\n"
          ]
        }
      ],
      "source": [
        "print(\"value of a is\",a,\"name is\",name,\"value of b is\",b)"
      ]
    },
    {
      "cell_type": "markdown",
      "id": "26a5a9b0-ffec-459c-ae22-3c0b51905b05",
      "metadata": {
        "id": "26a5a9b0-ffec-459c-ae22-3c0b51905b05"
      },
      "source": [
        "# with format specifier"
      ]
    },
    {
      "cell_type": "code",
      "execution_count": null,
      "id": "de645d4d-d19b-4128-af44-0662443f94b0",
      "metadata": {
        "id": "de645d4d-d19b-4128-af44-0662443f94b0",
        "outputId": "84ad88d3-f8b5-40dd-e4be-298cb9e6dbb0"
      },
      "outputs": [
        {
          "name": "stdout",
          "output_type": "stream",
          "text": [
            "value of a is 10 vlaue of b is sunny value of name is 20.900000\n"
          ]
        }
      ],
      "source": [
        "#number of format specifier and variable must be a same\n",
        "print(\"value of a is %d vlaue of b is %s value of name is %f\"%(a,name,b))"
      ]
    },
    {
      "cell_type": "markdown",
      "id": "e61a65c9-6256-409e-9148-b00ba7eab0b0",
      "metadata": {
        "id": "e61a65c9-6256-409e-9148-b00ba7eab0b0"
      },
      "source": [
        "# with format function"
      ]
    },
    {
      "cell_type": "code",
      "execution_count": 5,
      "id": "c3d9ed1d-e01e-42ef-9df7-faaeb2826729",
      "metadata": {
        "id": "c3d9ed1d-e01e-42ef-9df7-faaeb2826729"
      },
      "outputs": [],
      "source": [
        "var=10\n",
        "name=\"akshay\""
      ]
    },
    {
      "cell_type": "code",
      "execution_count": 6,
      "id": "6d864704-c468-404b-ab0b-351541fba459",
      "metadata": {
        "id": "6d864704-c468-404b-ab0b-351541fba459"
      },
      "outputs": [],
      "source": [
        "a=100"
      ]
    },
    {
      "cell_type": "code",
      "execution_count": 7,
      "id": "976b618f-3998-45a0-a71a-3d6e3d06bafd",
      "metadata": {
        "id": "976b618f-3998-45a0-a71a-3d6e3d06bafd",
        "outputId": "9e2a6550-5e7d-4779-fa34-b1f295665dbb",
        "colab": {
          "base_uri": "https://localhost:8080/"
        }
      },
      "outputs": [
        {
          "output_type": "stream",
          "name": "stdout",
          "text": [
            "100\n"
          ]
        }
      ],
      "source": [
        "print(a)"
      ]
    },
    {
      "cell_type": "code",
      "execution_count": 8,
      "id": "3874433d-2659-4d11-ab10-f87b4d9ccc9d",
      "metadata": {
        "id": "3874433d-2659-4d11-ab10-f87b4d9ccc9d",
        "outputId": "e3666778-d8d8-4af7-e2ba-7261b1a724ea",
        "colab": {
          "base_uri": "https://localhost:8080/"
        }
      },
      "outputs": [
        {
          "output_type": "stream",
          "name": "stdout",
          "text": [
            "value of a is 100\n"
          ]
        }
      ],
      "source": [
        "print(\"value of a is\",a)"
      ]
    },
    {
      "cell_type": "code",
      "execution_count": 9,
      "id": "1450f6ca-dc28-4386-957d-6733af958ae3",
      "metadata": {
        "id": "1450f6ca-dc28-4386-957d-6733af958ae3",
        "outputId": "3481a024-41a9-4781-bc4c-6d8e2ccfe9da",
        "colab": {
          "base_uri": "https://localhost:8080/"
        }
      },
      "outputs": [
        {
          "output_type": "stream",
          "name": "stdout",
          "text": [
            "the value of a is 100\n"
          ]
        }
      ],
      "source": [
        "print(\"the value of a is %d\"%a)"
      ]
    },
    {
      "cell_type": "code",
      "execution_count": 10,
      "id": "20a4e022-841e-40dd-a4a6-d2fc43785a01",
      "metadata": {
        "id": "20a4e022-841e-40dd-a4a6-d2fc43785a01",
        "outputId": "0de48c21-e0ec-4525-c394-4ba77e2e2028",
        "colab": {
          "base_uri": "https://localhost:8080/"
        }
      },
      "outputs": [
        {
          "output_type": "stream",
          "name": "stdout",
          "text": [
            "value of is 100\n"
          ]
        }
      ],
      "source": [
        "print(\"value of is {}\".format(a))"
      ]
    },
    {
      "cell_type": "code",
      "execution_count": 11,
      "id": "c504c32b-da21-4ffe-bf31-aa5699312a71",
      "metadata": {
        "id": "c504c32b-da21-4ffe-bf31-aa5699312a71"
      },
      "outputs": [],
      "source": [
        "b=200"
      ]
    },
    {
      "cell_type": "code",
      "execution_count": 12,
      "id": "995fb4d0-6089-4444-a6cc-c885de2ee324",
      "metadata": {
        "id": "995fb4d0-6089-4444-a6cc-c885de2ee324",
        "outputId": "e1377fa2-49fd-4ee4-b4a9-bfd1efa5086c",
        "colab": {
          "base_uri": "https://localhost:8080/"
        }
      },
      "outputs": [
        {
          "output_type": "stream",
          "name": "stdout",
          "text": [
            "value of a is 100 value of b is 200\n"
          ]
        }
      ],
      "source": [
        "print(\"value of a is {} value of b is {}\".format(a,b))"
      ]
    },
    {
      "cell_type": "code",
      "execution_count": 13,
      "id": "75bf30e3-6305-4454-bc9d-9d6f3b43ae61",
      "metadata": {
        "id": "75bf30e3-6305-4454-bc9d-9d6f3b43ae61"
      },
      "outputs": [],
      "source": [
        "name=\"rajat\"\n",
        "age=27"
      ]
    },
    {
      "cell_type": "code",
      "execution_count": 14,
      "id": "912e18f8-01f4-4d35-9294-7330e381de46",
      "metadata": {
        "id": "912e18f8-01f4-4d35-9294-7330e381de46",
        "outputId": "8c8e162a-d0dd-499b-b19c-52394a2eb385",
        "colab": {
          "base_uri": "https://localhost:8080/"
        }
      },
      "outputs": [
        {
          "output_type": "stream",
          "name": "stdout",
          "text": [
            "name is rajat age is 27\n"
          ]
        }
      ],
      "source": [
        "print(\"name is {} age is {}\".format(name,age))"
      ]
    },
    {
      "cell_type": "code",
      "execution_count": 15,
      "id": "3ae2cdd2-3eab-47c6-89b9-e6e786c951f3",
      "metadata": {
        "id": "3ae2cdd2-3eab-47c6-89b9-e6e786c951f3",
        "outputId": "49885a6e-3f7c-4766-bb33-3e5fc7d18e77",
        "colab": {
          "base_uri": "https://localhost:8080/"
        }
      },
      "outputs": [
        {
          "output_type": "stream",
          "name": "stdout",
          "text": [
            "name is 27 age is rajat\n"
          ]
        }
      ],
      "source": [
        "print(\"name is {} age is {}\".format(age,name))"
      ]
    },
    {
      "cell_type": "code",
      "execution_count": 16,
      "id": "f9c6aa1d-3b97-46b5-b829-c476881e5a41",
      "metadata": {
        "id": "f9c6aa1d-3b97-46b5-b829-c476881e5a41",
        "outputId": "dc45a2d6-07bb-4a05-c9ee-ce846296fb0a",
        "colab": {
          "base_uri": "https://localhost:8080/",
          "height": 165
        }
      },
      "outputs": [
        {
          "output_type": "error",
          "ename": "KeyError",
          "evalue": "ignored",
          "traceback": [
            "\u001b[0;31m---------------------------------------------------------------------------\u001b[0m",
            "\u001b[0;31mKeyError\u001b[0m                                  Traceback (most recent call last)",
            "\u001b[0;32m<ipython-input-16-b89395e6f880>\u001b[0m in \u001b[0;36m<module>\u001b[0;34m\u001b[0m\n\u001b[0;32m----> 1\u001b[0;31m \u001b[0mprint\u001b[0m\u001b[0;34m(\u001b[0m\u001b[0;34m\"name is {name} age is {age}\"\u001b[0m\u001b[0;34m.\u001b[0m\u001b[0mformat\u001b[0m\u001b[0;34m(\u001b[0m\u001b[0mage\u001b[0m\u001b[0;34m,\u001b[0m\u001b[0mname\u001b[0m\u001b[0;34m)\u001b[0m\u001b[0;34m)\u001b[0m\u001b[0;34m\u001b[0m\u001b[0;34m\u001b[0m\u001b[0m\n\u001b[0m",
            "\u001b[0;31mKeyError\u001b[0m: 'name'"
          ]
        }
      ],
      "source": [
        "print(\"name is {name} age is {age}\".format(age,name))"
      ]
    },
    {
      "cell_type": "code",
      "execution_count": null,
      "id": "b8f21ae7-d877-46ca-a5d1-f852aaf9b49f",
      "metadata": {
        "id": "b8f21ae7-d877-46ca-a5d1-f852aaf9b49f"
      },
      "outputs": [],
      "source": [
        "print(\"name is {1} age is {0}\".format(age,name))"
      ]
    },
    {
      "cell_type": "code",
      "execution_count": 17,
      "id": "8601a0e2-dc3e-470f-b2a3-8019862affc4",
      "metadata": {
        "id": "8601a0e2-dc3e-470f-b2a3-8019862affc4",
        "outputId": "5a77fbba-4b43-448c-efe0-f40e97bcd850",
        "colab": {
          "base_uri": "https://localhost:8080/"
        }
      },
      "outputs": [
        {
          "output_type": "stream",
          "name": "stdout",
          "text": [
            "name is rajat age is 27\n"
          ]
        }
      ],
      "source": [
        "print(\"name is {n} age is {a}\".format(a=age,n=name))"
      ]
    },
    {
      "cell_type": "code",
      "execution_count": 18,
      "id": "0d219f2c-b7bf-4a2b-b62c-97ffddd735af",
      "metadata": {
        "id": "0d219f2c-b7bf-4a2b-b62c-97ffddd735af",
        "outputId": "67d488fe-3e20-4acc-e61d-01e5a6c38cde",
        "colab": {
          "base_uri": "https://localhost:8080/"
        }
      },
      "outputs": [
        {
          "output_type": "stream",
          "name": "stdout",
          "text": [
            "name is rajat age is 27\n"
          ]
        }
      ],
      "source": [
        "print(\"name is {n} age is {a}\".format(a=age,n=name))"
      ]
    },
    {
      "cell_type": "code",
      "execution_count": 19,
      "id": "c1b0ba5e-b45c-4edc-8743-ff8580d946ab",
      "metadata": {
        "id": "c1b0ba5e-b45c-4edc-8743-ff8580d946ab",
        "outputId": "51beff5f-02d9-49f7-b3e7-e5c676a035d5",
        "colab": {
          "base_uri": "https://localhost:8080/"
        }
      },
      "outputs": [
        {
          "output_type": "stream",
          "name": "stdout",
          "text": [
            "name is rajat age is 27\n"
          ]
        }
      ],
      "source": [
        "print(\"name is {} age is {}\".format(name,age))"
      ]
    },
    {
      "cell_type": "code",
      "execution_count": 20,
      "id": "6bb73093-cc8f-467b-8825-ae37067853ff",
      "metadata": {
        "id": "6bb73093-cc8f-467b-8825-ae37067853ff"
      },
      "outputs": [],
      "source": [
        "x=50"
      ]
    },
    {
      "cell_type": "code",
      "execution_count": 21,
      "id": "cc4acb20-73a5-440b-87e5-a81a1e52e23e",
      "metadata": {
        "id": "cc4acb20-73a5-440b-87e5-a81a1e52e23e",
        "outputId": "aba42cb2-85e2-465a-9e8e-ddb733d6db4d",
        "colab": {
          "base_uri": "https://localhost:8080/"
        }
      },
      "outputs": [
        {
          "output_type": "stream",
          "name": "stdout",
          "text": [
            "we are in second if\n"
          ]
        }
      ],
      "source": [
        "if x>50:\n",
        "    prnt(\"we are in first if\")\n",
        "if x==50:\n",
        "    print(\"we are in second if\")\n",
        "if x<50:\n",
        "    print(\"we are in third if\")"
      ]
    },
    {
      "cell_type": "code",
      "execution_count": 22,
      "id": "bdf9d5a8-bc3f-495d-ae97-22e5f78d5d0e",
      "metadata": {
        "id": "bdf9d5a8-bc3f-495d-ae97-22e5f78d5d0e",
        "outputId": "090ef79f-31f5-42ec-a12a-8100194f3282",
        "colab": {
          "base_uri": "https://localhost:8080/"
        }
      },
      "outputs": [
        {
          "output_type": "stream",
          "name": "stdout",
          "text": [
            "we are out\n"
          ]
        }
      ],
      "source": [
        "if x>50:\n",
        "    print(\"we are in\")\n",
        "    \n",
        "if x<50:\n",
        "    print(\"we are in second if\")\n",
        "else:\n",
        "    print(\"we are out\")\n"
      ]
    },
    {
      "cell_type": "code",
      "execution_count": 23,
      "id": "94bba120-85bb-4da6-ad0a-82558328763c",
      "metadata": {
        "id": "94bba120-85bb-4da6-ad0a-82558328763c"
      },
      "outputs": [],
      "source": [
        "a=50"
      ]
    },
    {
      "cell_type": "code",
      "execution_count": 24,
      "id": "db0da7cd-ee53-4fa7-a600-5083a4882c89",
      "metadata": {
        "id": "db0da7cd-ee53-4fa7-a600-5083a4882c89",
        "outputId": "0a1caf5c-45e5-4828-a0f0-6811f27e755a",
        "colab": {
          "base_uri": "https://localhost:8080/"
        }
      },
      "outputs": [
        {
          "output_type": "stream",
          "name": "stdout",
          "text": [
            "we are in first if\n"
          ]
        }
      ],
      "source": [
        "if a==50:\n",
        "    print(\"we are in first if\")\n",
        "elif a==50:\n",
        "    print(\"we are in second if\")\n",
        "elif a==50:\n",
        "    print(\"we are in third if\")\n",
        "else:\n",
        "    print(\"we are out\")"
      ]
    },
    {
      "cell_type": "code",
      "execution_count": 25,
      "id": "9a3b8faf-c249-402b-ae3c-cb2f71a1729a",
      "metadata": {
        "id": "9a3b8faf-c249-402b-ae3c-cb2f71a1729a",
        "outputId": "d562bc5b-dd7d-4562-d3bc-cb8ad6fe9640",
        "colab": {
          "base_uri": "https://localhost:8080/"
        }
      },
      "outputs": [
        {
          "output_type": "stream",
          "name": "stdout",
          "text": [
            "we are in first if\n",
            "we are in second if\n",
            "we are in third if\n"
          ]
        }
      ],
      "source": [
        "if x==50:\n",
        "    print(\"we are in first if\")\n",
        "if x==50:\n",
        "    print(\"we are in second if\")\n",
        "if x==50:\n",
        "    print(\"we are in third if\")"
      ]
    },
    {
      "cell_type": "markdown",
      "id": "d03f2ac2-dd81-4e06-9d41-703c1b36c9b9",
      "metadata": {
        "id": "d03f2ac2-dd81-4e06-9d41-703c1b36c9b9"
      },
      "source": [
        "# sujit\n",
        "# second one is complete block of execution\n"
      ]
    },
    {
      "cell_type": "markdown",
      "id": "dd301172-f993-4b97-b57b-dfc76d4f4221",
      "metadata": {
        "id": "dd301172-f993-4b97-b57b-dfc76d4f4221"
      },
      "source": [
        "# Accept an integer from the user and check whether it is an even or odd "
      ]
    },
    {
      "cell_type": "code",
      "execution_count": 26,
      "id": "e5fbfc8a-34c5-4140-be2d-1fc30ff89d0c",
      "metadata": {
        "id": "e5fbfc8a-34c5-4140-be2d-1fc30ff89d0c",
        "outputId": "f64c6360-6a27-4a17-ddf6-5f12f24af0c8",
        "colab": {
          "base_uri": "https://localhost:8080/",
          "height": 252
        }
      },
      "outputs": [
        {
          "name": "stdout",
          "output_type": "stream",
          "text": [
            "enter number\n"
          ]
        },
        {
          "output_type": "error",
          "ename": "ValueError",
          "evalue": "ignored",
          "traceback": [
            "\u001b[0;31m---------------------------------------------------------------------------\u001b[0m",
            "\u001b[0;31mValueError\u001b[0m                                Traceback (most recent call last)",
            "\u001b[0;32m<ipython-input-26-a3f36e8f10a2>\u001b[0m in \u001b[0;36m<module>\u001b[0;34m\u001b[0m\n\u001b[0;32m----> 1\u001b[0;31m \u001b[0ms\u001b[0m\u001b[0;34m=\u001b[0m \u001b[0mint\u001b[0m\u001b[0;34m(\u001b[0m\u001b[0minput\u001b[0m\u001b[0;34m(\u001b[0m\u001b[0;34m'enter number'\u001b[0m\u001b[0;34m)\u001b[0m\u001b[0;34m)\u001b[0m\u001b[0;34m\u001b[0m\u001b[0;34m\u001b[0m\u001b[0m\n\u001b[0m\u001b[1;32m      2\u001b[0m \u001b[0;32mif\u001b[0m \u001b[0ms\u001b[0m\u001b[0;34m%\u001b[0m\u001b[0;36m2\u001b[0m \u001b[0;34m==\u001b[0m \u001b[0;36m0\u001b[0m\u001b[0;34m:\u001b[0m\u001b[0;34m\u001b[0m\u001b[0;34m\u001b[0m\u001b[0m\n\u001b[1;32m      3\u001b[0m     \u001b[0mprint\u001b[0m\u001b[0;34m(\u001b[0m\u001b[0;34m'even'\u001b[0m\u001b[0;34m)\u001b[0m\u001b[0;34m\u001b[0m\u001b[0;34m\u001b[0m\u001b[0m\n\u001b[1;32m      4\u001b[0m \u001b[0;34m\u001b[0m\u001b[0m\n\u001b[1;32m      5\u001b[0m \u001b[0;32melse\u001b[0m\u001b[0;34m:\u001b[0m\u001b[0;34m\u001b[0m\u001b[0;34m\u001b[0m\u001b[0m\n",
            "\u001b[0;31mValueError\u001b[0m: invalid literal for int() with base 10: ''"
          ]
        }
      ],
      "source": [
        "s= int(input('enter number'))\n",
        "if s%2 == 0:\n",
        "    print('even')\n",
        "         \n",
        "else:\n",
        "    print('odd')\n"
      ]
    },
    {
      "cell_type": "code",
      "execution_count": null,
      "id": "79c7b11b-669b-452c-9aa5-1fb32a66937b",
      "metadata": {
        "id": "79c7b11b-669b-452c-9aa5-1fb32a66937b"
      },
      "outputs": [],
      "source": [
        "a= int(input(\"please enter any number\"))\n",
        "if a%2==0:\n",
        "    print(\"number is even\")\n",
        "else:\n",
        "    print(\"number is not even\")\n"
      ]
    },
    {
      "cell_type": "code",
      "execution_count": null,
      "id": "2fa72dbb-852d-4e07-9d00-f86644d3215b",
      "metadata": {
        "id": "2fa72dbb-852d-4e07-9d00-f86644d3215b"
      },
      "outputs": [],
      "source": [
        "num = int(input(\"Enter a number: \"))\n",
        "if (num % 2) == 0:\n",
        "   print(\"{0} is Even\".format(num))\n",
        "else:\n",
        "   print(\"{0} is Odd\".format(num))\n"
      ]
    },
    {
      "cell_type": "code",
      "execution_count": null,
      "id": "950cb589-2331-4b69-908c-8718b749e32e",
      "metadata": {
        "id": "950cb589-2331-4b69-908c-8718b749e32e"
      },
      "outputs": [],
      "source": [
        "a=int(input(\"Enter the Number\"))\n",
        "b=a%2\n",
        "if(b==0):\n",
        "    print(\"Number is even\")\n",
        "else:\n",
        "    print(\"Number is odd\")\n"
      ]
    },
    {
      "cell_type": "markdown",
      "id": "fe11dd0a-7557-4405-9ad0-62be6fe13fa9",
      "metadata": {
        "id": "fe11dd0a-7557-4405-9ad0-62be6fe13fa9"
      },
      "source": [
        "# WAP to accept a character from the user and check whether it is a capital letter or small letter. Assume user will input only alphabets\n"
      ]
    },
    {
      "cell_type": "code",
      "execution_count": null,
      "id": "88d64481-4480-44b9-b374-8cf363ce42c2",
      "metadata": {
        "id": "88d64481-4480-44b9-b374-8cf363ce42c2"
      },
      "outputs": [],
      "source": [
        "ch=input(\"please enter the character\")\n",
        "if \"A\"<=ch[0]<=\"Z\":\n",
        "    print(\"this character will be a capital one\")\n",
        "else:\n",
        "    print(\"this character will be a small one\")"
      ]
    },
    {
      "cell_type": "code",
      "execution_count": null,
      "id": "91afd565-ce62-4be8-b9b6-a1c63ca13b67",
      "metadata": {
        "id": "91afd565-ce62-4be8-b9b6-a1c63ca13b67"
      },
      "outputs": [],
      "source": [
        "#manish#wrong\n",
        "a= input(\"please enter a char\")\n",
        "if a.lower()== True:\n",
        "    print(\"char is lower\")\n",
        "elif a.upper()== True:\n",
        "    print(\"char is upper\")\n",
        "else:\n",
        "    print(\"out\")\n",
        "\n"
      ]
    },
    {
      "cell_type": "code",
      "execution_count": null,
      "id": "c8d949bf-6aab-448b-9ada-cec668735bda",
      "metadata": {
        "id": "c8d949bf-6aab-448b-9ada-cec668735bda"
      },
      "outputs": [],
      "source": [
        "#satish\n",
        "char = input(\"enter char :\")\n",
        "\n",
        "ascivalue = ord(char)\n",
        "\n",
        "if (ascivalue >= 97 and ascivalue <= 122) :\n",
        "    print (\"small latter \")\n",
        "else:\n",
        "    print(\"Capital Letter \")\n"
      ]
    },
    {
      "cell_type": "code",
      "execution_count": null,
      "id": "ed666790-91c6-45c5-b093-104328c75aaa",
      "metadata": {
        "id": "ed666790-91c6-45c5-b093-104328c75aaa"
      },
      "outputs": [],
      "source": [
        "#ajay\n",
        "charVal = input(\"Enter Character: \")\n",
        "if charVal == charVal.lower():\n",
        "    print(\"{} is Small\".format(charVal))\n",
        "else:\n",
        "     print(\"{} is Capital\".format(charVal))\n"
      ]
    },
    {
      "cell_type": "code",
      "execution_count": null,
      "id": "c4e224eb-8b6d-4b02-9137-21765243ad7b",
      "metadata": {
        "id": "c4e224eb-8b6d-4b02-9137-21765243ad7b"
      },
      "outputs": [],
      "source": [
        "#siddhart\n",
        "a=input(\"Enter the character \")\n",
        "if a.isupper()==True :\n",
        "    print (\"{} is a capital letter \".format(a))\n",
        "else :\n",
        "    print (\"{} is a lower letter \".format(a))\n"
      ]
    },
    {
      "cell_type": "code",
      "execution_count": null,
      "id": "9b8355c5-e6e6-42dc-9033-e91bf942c493",
      "metadata": {
        "id": "9b8355c5-e6e6-42dc-9033-e91bf942c493"
      },
      "outputs": [],
      "source": [
        "#raj #wrong\n",
        "import string\n",
        "a=input(\"Enter char: \")\n",
        "if a in string.ascii_uppercase:\n",
        "    print(a,\" is Uppercase\")\n",
        "else:\n",
        "    print(a,\" is lowercase\")\n"
      ]
    },
    {
      "cell_type": "code",
      "execution_count": null,
      "id": "5d51d8be-4892-407f-bc05-25d4c0d28d2d",
      "metadata": {
        "id": "5d51d8be-4892-407f-bc05-25d4c0d28d2d"
      },
      "outputs": [],
      "source": [
        "a=50"
      ]
    },
    {
      "cell_type": "code",
      "execution_count": null,
      "id": "c0a16597-ccaf-4c8d-aa0d-205a026e1bd2",
      "metadata": {
        "id": "c0a16597-ccaf-4c8d-aa0d-205a026e1bd2"
      },
      "outputs": [],
      "source": [
        "if a>50:\n",
        "    print(\"correct\")\n",
        "    print(\"fine\")\n",
        "print(\"alright\")"
      ]
    },
    {
      "cell_type": "markdown",
      "id": "34d90b17-b83f-42a1-b140-b13788a4a0cc",
      "metadata": {
        "id": "34d90b17-b83f-42a1-b140-b13788a4a0cc"
      },
      "source": [
        "# nested if : if inside if(we can write as many as if )"
      ]
    },
    {
      "cell_type": "code",
      "execution_count": 27,
      "id": "3368f305-854e-4c73-bbed-22d73e8f40c5",
      "metadata": {
        "id": "3368f305-854e-4c73-bbed-22d73e8f40c5"
      },
      "outputs": [],
      "source": [
        "a=100\n",
        "b=200\n",
        "c=0"
      ]
    },
    {
      "cell_type": "code",
      "execution_count": 28,
      "id": "5d04ff85-8145-4787-9916-91995ffcb212",
      "metadata": {
        "id": "5d04ff85-8145-4787-9916-91995ffcb212",
        "outputId": "51a054de-7958-4dc6-eb2e-8be8ef700c21",
        "colab": {
          "base_uri": "https://localhost:8080/"
        }
      },
      "outputs": [
        {
          "output_type": "stream",
          "name": "stdout",
          "text": [
            "we are in first if statement\n",
            "we are out from second if\n",
            "we are in elif of third if\n"
          ]
        }
      ],
      "source": [
        "if a<110:\n",
        "    print(\"we are in first if statement\")\n",
        "    if b<199:\n",
        "        print(\"we are in second if statement\")\n",
        "    else:\n",
        "        print(\"we are out from second if\")\n",
        "        if c>0:\n",
        "            print(\"we are in third if\")\n",
        "        elif c==0:\n",
        "            print(\"we are in elif of third if\")\n",
        "        else:\n",
        "            print(\"we are out from third if\")"
      ]
    },
    {
      "cell_type": "code",
      "execution_count": 29,
      "id": "fffcce99-80d0-48d7-90c8-041be9d3891d",
      "metadata": {
        "id": "fffcce99-80d0-48d7-90c8-041be9d3891d",
        "outputId": "3a09132b-a517-4f74-e9f3-70eb9c42fbca",
        "colab": {
          "base_uri": "https://localhost:8080/",
          "height": 130
        }
      },
      "outputs": [
        {
          "output_type": "error",
          "ename": "SyntaxError",
          "evalue": "ignored",
          "traceback": [
            "\u001b[0;36m  File \u001b[0;32m\"<ipython-input-29-47840cc10c12>\"\u001b[0;36m, line \u001b[0;32m1\u001b[0m\n\u001b[0;31m    if:\u001b[0m\n\u001b[0m      ^\u001b[0m\n\u001b[0;31mSyntaxError\u001b[0m\u001b[0;31m:\u001b[0m invalid syntax\n"
          ]
        }
      ],
      "source": [
        "if:\n",
        "elif:\n",
        "elif:\n",
        "else:"
      ]
    },
    {
      "cell_type": "markdown",
      "id": "c463b5e9-561f-4a7d-a1ed-14f7dd911dba",
      "metadata": {
        "id": "c463b5e9-561f-4a7d-a1ed-14f7dd911dba"
      },
      "source": [
        "# WAP to accept 3 integers from the user and without using any logical operator and cascading of relational operators , find out the greatest number amongst them\n"
      ]
    },
    {
      "cell_type": "code",
      "execution_count": null,
      "id": "018e0cf6-feb4-4054-9224-68fe10ed3dd4",
      "metadata": {
        "id": "018e0cf6-feb4-4054-9224-68fe10ed3dd4"
      },
      "outputs": [],
      "source": [
        "X=100\n",
        "y=500\n",
        "z=200"
      ]
    },
    {
      "cell_type": "code",
      "execution_count": null,
      "id": "e1d354b9-f24a-4704-b0a7-cf6a30a2d155",
      "metadata": {
        "id": "e1d354b9-f24a-4704-b0a7-cf6a30a2d155"
      },
      "outputs": [],
      "source": [
        "X=int(input(\"enter first no\"))\n",
        "y=int(input(\"enter second no\"))\n",
        "z=int(input(\"enter third no\"))\n",
        "if X>y:\n",
        "    if X>z:\n",
        "        print(\"first will be greatest\")\n",
        "elif y>X:\n",
        "    if y>z:\n",
        "        print(\"second is a greatest\")\n",
        "else:\n",
        "    print(\"third is a greaest\")"
      ]
    },
    {
      "cell_type": "code",
      "execution_count": 30,
      "id": "5a8c7649-5429-439a-875c-1c860f73a0bf",
      "metadata": {
        "id": "5a8c7649-5429-439a-875c-1c860f73a0bf"
      },
      "outputs": [],
      "source": [
        "#srikant\n",
        "def maximum(a, b, c):\n",
        "  \n",
        "    if (a >= b) and (a >= c):\n",
        "        largest = a\n",
        "  \n",
        "    elif (b >= a) and (b >= c):\n",
        "        largest = b\n",
        "    else:\n",
        "        largest = c\n",
        "          \n",
        "    return largest\n"
      ]
    },
    {
      "cell_type": "code",
      "execution_count": 31,
      "id": "160fc51e-71b5-45cb-b422-892504f0b21f",
      "metadata": {
        "id": "160fc51e-71b5-45cb-b422-892504f0b21f",
        "outputId": "642732f1-fbff-439f-924c-2abae0b8162a",
        "colab": {
          "base_uri": "https://localhost:8080/"
        }
      },
      "outputs": [
        {
          "output_type": "execute_result",
          "data": {
            "text/plain": [
              "2002657439"
            ]
          },
          "metadata": {},
          "execution_count": 31
        }
      ],
      "source": [
        "maximum(1042534638,2002657439,523954743)"
      ]
    },
    {
      "cell_type": "code",
      "execution_count": 32,
      "id": "be608416-c91f-49d2-9804-475e0321edd0",
      "metadata": {
        "id": "be608416-c91f-49d2-9804-475e0321edd0",
        "outputId": "d513fcf2-49a0-460f-bc1b-21f173a45dbf",
        "colab": {
          "base_uri": "https://localhost:8080/",
          "height": 235
        }
      },
      "outputs": [
        {
          "name": "stdout",
          "output_type": "stream",
          "text": [
            "please enter three number\n"
          ]
        },
        {
          "output_type": "error",
          "ename": "ValueError",
          "evalue": "ignored",
          "traceback": [
            "\u001b[0;31m---------------------------------------------------------------------------\u001b[0m",
            "\u001b[0;31mValueError\u001b[0m                                Traceback (most recent call last)",
            "\u001b[0;32m<ipython-input-32-d20e88c8feb6>\u001b[0m in \u001b[0;36m<module>\u001b[0;34m\u001b[0m\n\u001b[1;32m      1\u001b[0m \u001b[0;31m#prajesh\u001b[0m\u001b[0;34m\u001b[0m\u001b[0;34m\u001b[0m\u001b[0;34m\u001b[0m\u001b[0m\n\u001b[0;32m----> 2\u001b[0;31m \u001b[0mn\u001b[0m\u001b[0;34m=\u001b[0m\u001b[0mint\u001b[0m\u001b[0;34m(\u001b[0m\u001b[0minput\u001b[0m\u001b[0;34m(\u001b[0m\u001b[0;34m\"please enter three number\"\u001b[0m\u001b[0;34m)\u001b[0m\u001b[0;34m)\u001b[0m\u001b[0;34m\u001b[0m\u001b[0;34m\u001b[0m\u001b[0m\n\u001b[0m\u001b[1;32m      3\u001b[0m \u001b[0mx\u001b[0m\u001b[0;34m=\u001b[0m\u001b[0mlist\u001b[0m\u001b[0;34m(\u001b[0m\u001b[0mmap\u001b[0m\u001b[0;34m(\u001b[0m\u001b[0mint\u001b[0m\u001b[0;34m,\u001b[0m\u001b[0minput\u001b[0m\u001b[0;34m(\u001b[0m\u001b[0;34m)\u001b[0m\u001b[0;34m.\u001b[0m\u001b[0msplit\u001b[0m\u001b[0;34m(\u001b[0m\u001b[0;34m)\u001b[0m\u001b[0;34m)\u001b[0m\u001b[0;34m)\u001b[0m\u001b[0;34m\u001b[0m\u001b[0;34m\u001b[0m\u001b[0m\n\u001b[1;32m      4\u001b[0m \u001b[0mprint\u001b[0m\u001b[0;34m(\u001b[0m\u001b[0mmax\u001b[0m\u001b[0;34m(\u001b[0m\u001b[0mx\u001b[0m\u001b[0;34m)\u001b[0m\u001b[0;34m)\u001b[0m\u001b[0;34m\u001b[0m\u001b[0;34m\u001b[0m\u001b[0m\n",
            "\u001b[0;31mValueError\u001b[0m: invalid literal for int() with base 10: ''"
          ]
        }
      ],
      "source": [
        "#prajesh\n",
        "n=int(input(\"please enter three number\"))\n",
        "x=list(map(int,input().split()))\n",
        "print(max(x))\n"
      ]
    },
    {
      "cell_type": "code",
      "execution_count": null,
      "id": "d560ae6b-9dbe-47c1-aeac-400fef6facb2",
      "metadata": {
        "id": "d560ae6b-9dbe-47c1-aeac-400fef6facb2"
      },
      "outputs": [],
      "source": [
        "x=input(\"enter three number with space\")\n",
        "a,b,c=x.split()"
      ]
    },
    {
      "cell_type": "code",
      "execution_count": null,
      "id": "5c9d3c0c-4ab1-43b8-ae48-2727fdd8cc59",
      "metadata": {
        "id": "5c9d3c0c-4ab1-43b8-ae48-2727fdd8cc59"
      },
      "outputs": [],
      "source": [
        "a"
      ]
    },
    {
      "cell_type": "code",
      "execution_count": null,
      "id": "5f3f4b44-6130-450f-916b-ec6c4a7b27fd",
      "metadata": {
        "id": "5f3f4b44-6130-450f-916b-ec6c4a7b27fd"
      },
      "outputs": [],
      "source": [
        "b"
      ]
    },
    {
      "cell_type": "code",
      "execution_count": null,
      "id": "e31aae2d-48ac-4c2e-8f3c-de0d0911cb3b",
      "metadata": {
        "id": "e31aae2d-48ac-4c2e-8f3c-de0d0911cb3b"
      },
      "outputs": [],
      "source": [
        "c"
      ]
    },
    {
      "cell_type": "markdown",
      "id": "66bda278-1220-4a5d-97b3-b2f914768409",
      "metadata": {
        "id": "66bda278-1220-4a5d-97b3-b2f914768409"
      },
      "source": [
        "# while loop"
      ]
    },
    {
      "cell_type": "code",
      "execution_count": null,
      "id": "c5762f82-fc11-479d-8c92-1e1053b2514b",
      "metadata": {
        "id": "c5762f82-fc11-479d-8c92-1e1053b2514b"
      },
      "outputs": [],
      "source": []
    },
    {
      "cell_type": "code",
      "execution_count": null,
      "id": "f0679b08-82ba-4a94-8329-12fe695cc7a1",
      "metadata": {
        "id": "f0679b08-82ba-4a94-8329-12fe695cc7a1"
      },
      "outputs": [],
      "source": [
        "x=10\n",
        "i=1\n",
        "while i<=x:\n",
        "    print(\"akshay\")\n",
        "    print(i)\n",
        "    i=i+1#increment condition\n",
        "  \n",
        "print(\"loops end\")"
      ]
    },
    {
      "cell_type": "markdown",
      "id": "7ad50271-2927-4172-8401-c262c50e2ef9",
      "metadata": {
        "id": "7ad50271-2927-4172-8401-c262c50e2ef9"
      },
      "source": [
        "# print 50 natural numbers with while loop\n",
        "\n",
        "# 1 to 50"
      ]
    },
    {
      "cell_type": "code",
      "source": [],
      "metadata": {
        "id": "X7UkcuAZ5_Xn"
      },
      "id": "X7UkcuAZ5_Xn",
      "execution_count": null,
      "outputs": []
    },
    {
      "cell_type": "markdown",
      "id": "a8170dc1-a4e5-49ee-8e3c-e9530caa47f1",
      "metadata": {
        "id": "a8170dc1-a4e5-49ee-8e3c-e9530caa47f1"
      },
      "source": [
        "# Write a program to accept # a string from the user and display it vertically but don’t display the vowels in it.\n",
        "\n",
        "# do it with while loop"
      ]
    },
    {
      "cell_type": "code",
      "execution_count": null,
      "id": "4f05e9ef-6a89-49fc-9652-fd421b89db61",
      "metadata": {
        "id": "4f05e9ef-6a89-49fc-9652-fd421b89db61"
      },
      "outputs": [],
      "source": [
        "#prem\n",
        "text = input('Enter text:')\n",
        "for char in text:\n",
        "    if char.lower() in 'aeiou':\n",
        "        print(char)\n"
      ]
    },
    {
      "cell_type": "code",
      "execution_count": 33,
      "id": "39da398f-5aba-4ece-8f84-b64f0ddb7326",
      "metadata": {
        "id": "39da398f-5aba-4ece-8f84-b64f0ddb7326",
        "outputId": "181e808b-0c75-497b-f489-96fc79ebaf16",
        "colab": {
          "base_uri": "https://localhost:8080/"
        }
      },
      "outputs": [
        {
          "output_type": "stream",
          "name": "stdout",
          "text": [
            "Write something:aljsuyakdfeihgeh\n",
            "l\n",
            "j\n",
            "s\n",
            "y\n",
            "k\n",
            "d\n",
            "f\n",
            "h\n",
            "g\n",
            "h\n"
          ]
        }
      ],
      "source": [
        "#dawood\n",
        "str = input(\"Write something:\")\n",
        "\n",
        "i = 0\n",
        "while i<len(str):\n",
        "    if str[i] not in 'aeiou':\n",
        "        print(str[i])\n",
        "    i=i+1\n"
      ]
    },
    {
      "cell_type": "code",
      "execution_count": 35,
      "id": "c6ce9175-1b87-4ce4-af42-6b1fa42a0077",
      "metadata": {
        "id": "c6ce9175-1b87-4ce4-af42-6b1fa42a0077",
        "outputId": "29a8d48c-45c2-46d7-f971-5be75c8d834f",
        "colab": {
          "base_uri": "https://localhost:8080/",
          "height": 252
        }
      },
      "outputs": [
        {
          "name": "stdout",
          "output_type": "stream",
          "text": [
            "ajsiua\n"
          ]
        },
        {
          "output_type": "error",
          "ename": "TypeError",
          "evalue": "ignored",
          "traceback": [
            "\u001b[0;31m---------------------------------------------------------------------------\u001b[0m",
            "\u001b[0;31mTypeError\u001b[0m                                 Traceback (most recent call last)",
            "\u001b[0;32m<ipython-input-35-bf7fbecfea0c>\u001b[0m in \u001b[0;36m<module>\u001b[0;34m\u001b[0m\n\u001b[1;32m      2\u001b[0m \u001b[0mx\u001b[0m\u001b[0;34m=\u001b[0m\u001b[0;34m[\u001b[0m\u001b[0;34m'a'\u001b[0m\u001b[0;34m,\u001b[0m\u001b[0;34m'e'\u001b[0m\u001b[0;34m,\u001b[0m\u001b[0;34m'i'\u001b[0m\u001b[0;34m,\u001b[0m\u001b[0;34m'o'\u001b[0m\u001b[0;34m,\u001b[0m\u001b[0;34m'u'\u001b[0m\u001b[0;34m]\u001b[0m\u001b[0;34m\u001b[0m\u001b[0;34m\u001b[0m\u001b[0m\n\u001b[1;32m      3\u001b[0m \u001b[0mq\u001b[0m\u001b[0;34m=\u001b[0m\u001b[0;34m[\u001b[0m\u001b[0;34m]\u001b[0m\u001b[0;34m\u001b[0m\u001b[0;34m\u001b[0m\u001b[0m\n\u001b[0;32m----> 4\u001b[0;31m \u001b[0mz\u001b[0m\u001b[0;34m=\u001b[0m\u001b[0mstr\u001b[0m\u001b[0;34m(\u001b[0m\u001b[0minput\u001b[0m\u001b[0;34m(\u001b[0m\u001b[0;34m)\u001b[0m\u001b[0;34m)\u001b[0m\u001b[0;34m\u001b[0m\u001b[0;34m\u001b[0m\u001b[0m\n\u001b[0m\u001b[1;32m      5\u001b[0m \u001b[0;32mfor\u001b[0m \u001b[0mi\u001b[0m \u001b[0;32min\u001b[0m \u001b[0mz\u001b[0m\u001b[0;34m:\u001b[0m\u001b[0;34m\u001b[0m\u001b[0;34m\u001b[0m\u001b[0m\n\u001b[1;32m      6\u001b[0m     \u001b[0;32mif\u001b[0m \u001b[0mi\u001b[0m \u001b[0;32mnot\u001b[0m \u001b[0;32min\u001b[0m \u001b[0mx\u001b[0m\u001b[0;34m:\u001b[0m\u001b[0;34m\u001b[0m\u001b[0;34m\u001b[0m\u001b[0m\n",
            "\u001b[0;31mTypeError\u001b[0m: 'str' object is not callable"
          ]
        }
      ],
      "source": [
        "\n",
        "#prejesh(this is upcoming concept)\n",
        "x=['a','e','i','o','u']\n",
        "q=['a']\n",
        "z=str(input())\n",
        "for i in z:\n",
        "    if i not in x:\n",
        "        q.append(i)\n",
        "for j in q:\n",
        "    print(j)\n"
      ]
    },
    {
      "cell_type": "code",
      "execution_count": null,
      "id": "dfd73653-566a-43c5-b817-6fc6cbaffe16",
      "metadata": {
        "id": "dfd73653-566a-43c5-b817-6fc6cbaffe16"
      },
      "outputs": [],
      "source": [
        "#shirishia\n",
        "n=input(\"enter a string:\")\n",
        "a=0\n",
        "while(a<len(n)):\n",
        "    if n[a]!='a' and n[a]!='e' and n[a]!='i' and n[a]!='0' and n[a]!='u':\n",
        "        print(n[a])\n",
        "    a+=1\n"
      ]
    },
    {
      "cell_type": "code",
      "execution_count": null,
      "id": "e2fd9691-3cbd-476d-b4e1-b126ab392cd4",
      "metadata": {
        "id": "e2fd9691-3cbd-476d-b4e1-b126ab392cd4"
      },
      "outputs": [],
      "source": [
        "while a in \"sunnysavita\":\n",
        "    print(a)"
      ]
    },
    {
      "cell_type": "code",
      "execution_count": null,
      "id": "165b2b1a-34a1-4b70-99dd-cff9ce5d65e5",
      "metadata": {
        "id": "165b2b1a-34a1-4b70-99dd-cff9ce5d65e5"
      },
      "outputs": [],
      "source": [
        "#devendra\n",
        "a=(input(\"enter the string\"))\n",
        "i=0\n",
        "while a[i] in a:\n",
        "    if a[i] in [\"a\",\"e\",\"i\",\"o\",\"u\"]:\n",
        "        pass\n",
        "    else:\n",
        "        print(a[i])\n",
        "    i=i+1\n"
      ]
    },
    {
      "cell_type": "code",
      "execution_count": null,
      "id": "b3d83c97-5f7b-4df2-bd8d-265927831446",
      "metadata": {
        "id": "b3d83c97-5f7b-4df2-bd8d-265927831446"
      },
      "outputs": [],
      "source": [
        "#srikant\n",
        "s=input()\n",
        "l=[\"a\",\"e\",\"i\",\"o\",”u”,”A”,”E”,”I”,”O”,”U”]\n",
        "l1=[]\n",
        "for i in s:\n",
        "if(i not in l):\n",
        "l1.append(i)\n",
        "print(*l1)\n"
      ]
    },
    {
      "cell_type": "code",
      "execution_count": 32,
      "id": "3bc7acb2-d955-4854-a7b4-c8fa34702555",
      "metadata": {
        "id": "3bc7acb2-d955-4854-a7b4-c8fa34702555"
      },
      "outputs": [],
      "source": []
    }
  ],
  "metadata": {
    "kernelspec": {
      "display_name": "Python 3 (ipykernel)",
      "language": "python",
      "name": "python3"
    },
    "language_info": {
      "codemirror_mode": {
        "name": "ipython",
        "version": 3
      },
      "file_extension": ".py",
      "mimetype": "text/x-python",
      "name": "python",
      "nbconvert_exporter": "python",
      "pygments_lexer": "ipython3",
      "version": "3.10.6"
    },
    "toc-autonumbering": true,
    "toc-showmarkdowntxt": true,
    "toc-showtags": false,
    "colab": {
      "provenance": [],
      "toc_visible": true
    }
  },
  "nbformat": 4,
  "nbformat_minor": 5
}