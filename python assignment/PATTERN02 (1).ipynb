{
  "nbformat": 4,
  "nbformat_minor": 0,
  "metadata": {
    "colab": {
      "provenance": []
    },
    "kernelspec": {
      "name": "python3",
      "display_name": "Python 3"
    },
    "language_info": {
      "name": "python"
    }
  },
  "cells": [
    {
      "cell_type": "markdown",
      "source": [
        "\n",
        "### Write a program to print the following pattern \n",
        "# # # \n",
        "# # # # \n",
        "# # # # # \n",
        "\n",
        "\n"
      ],
      "metadata": {
        "id": "I_NkYB5YrW7x"
      }
    },
    {
      "cell_type": "code",
      "source": [
        "number = int(input(\"enter the number :\"))\n",
        "for i in range(number):\n",
        "  for j in range(i):\n",
        "    print(\"*\" , end=\" \")\n",
        "  print(\"\")"
      ],
      "metadata": {
        "id": "sthEm3iTuiKN",
        "colab": {
          "base_uri": "https://localhost:8080/"
        },
        "outputId": "702a5bc9-c639-4022-ec19-1e4f8b86cae1"
      },
      "execution_count": 2,
      "outputs": [
        {
          "output_type": "stream",
          "name": "stdout",
          "text": [
            "enter the number :12\n",
            "\n",
            "* \n",
            "* * \n",
            "* * * \n",
            "* * * * \n",
            "* * * * * \n",
            "* * * * * * \n",
            "* * * * * * * \n",
            "* * * * * * * * \n",
            "* * * * * * * * * \n",
            "* * * * * * * * * * \n",
            "* * * * * * * * * * * \n"
          ]
        }
      ]
    }
  ]
}