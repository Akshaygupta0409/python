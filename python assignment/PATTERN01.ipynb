{
  "nbformat": 4,
  "nbformat_minor": 0,
  "metadata": {
    "colab": {
      "provenance": []
    },
    "kernelspec": {
      "name": "python3",
      "display_name": "Python 3"
    },
    "language_info": {
      "name": "python"
    }
  },
  "cells": [
    {
      "cell_type": "markdown",
      "source": [
        "\n",
        "### Write a program to print the following pattern \n",
        "# # # # # #\n",
        "# # # # # #\n",
        "# # # # # #\n",
        "\n",
        "\n"
      ],
      "metadata": {
        "id": "I_NkYB5YrW7x"
      }
    },
    {
      "cell_type": "code",
      "source": [
        "x = int(input(\"Enter the number :\"))\n",
        "for i in range(x):\n",
        "  for j in range(x):\n",
        "   print(\"*\" , end=\"\")\n",
        "  print(\"\")  \n"
      ],
      "metadata": {
        "colab": {
          "base_uri": "https://localhost:8080/"
        },
        "id": "TxBlsqgurppZ",
        "outputId": "987475bd-39a0-4ca3-cf55-ea484efb0f26"
      },
      "execution_count": 27,
      "outputs": [
        {
          "output_type": "stream",
          "name": "stdout",
          "text": [
            "Enter the number :6\n",
            "******\n",
            "******\n",
            "******\n",
            "******\n",
            "******\n",
            "******\n"
          ]
        }
      ]
    },
    {
      "cell_type": "code",
      "source": [
        "x = int(input(\"Enter the number :\"))\n",
        "for i in range(x):\n",
        "  for j in range(x):\n",
        "   print(\"*\" , end=\"  \")\n",
        "  print(\"\")  \n"
      ],
      "metadata": {
        "colab": {
          "base_uri": "https://localhost:8080/"
        },
        "id": "Mbpj9MsrsPuA",
        "outputId": "dc391895-80c5-4de8-b2a3-5f7078b85bd7"
      },
      "execution_count": 28,
      "outputs": [
        {
          "output_type": "stream",
          "name": "stdout",
          "text": [
            "Enter the number :6\n",
            "*  *  *  *  *  *  \n",
            "*  *  *  *  *  *  \n",
            "*  *  *  *  *  *  \n",
            "*  *  *  *  *  *  \n",
            "*  *  *  *  *  *  \n",
            "*  *  *  *  *  *  \n"
          ]
        }
      ]
    },
    {
      "cell_type": "code",
      "source": [],
      "metadata": {
        "id": "sthEm3iTuiKN"
      },
      "execution_count": null,
      "outputs": []
    }
  ]
}