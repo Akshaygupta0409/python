{
  "nbformat": 4,
  "nbformat_minor": 0,
  "metadata": {
    "colab": {
      "provenance": []
    },
    "kernelspec": {
      "name": "python3",
      "display_name": "Python 3"
    },
    "language_info": {
      "name": "python"
    }
  },
  "cells": [
    {
      "cell_type": "markdown",
      "source": [
        "\n",
        "### Write a program to print the following pattern \n",
        "# # # # # # #  \n",
        "# # # # # #\n",
        "# # # #  \n",
        "# # # \n",
        "\n"
      ],
      "metadata": {
        "id": "I_NkYB5YrW7x"
      }
    },
    {
      "cell_type": "code",
      "source": [
        "number = int(input(\"enter the number :\"))\n",
        "for i in range(number):\n",
        "  for j in range(number-i):\n",
        "    print(\"*\" , end=\" \")\n",
        "  print(\"\")"
      ],
      "metadata": {
        "id": "sthEm3iTuiKN",
        "colab": {
          "base_uri": "https://localhost:8080/"
        },
        "outputId": "6f05498c-4f83-4a17-b13f-79a5b9da8e3b"
      },
      "execution_count": 3,
      "outputs": [
        {
          "output_type": "stream",
          "name": "stdout",
          "text": [
            "enter the number :4\n",
            "* * * * \n",
            "* * * \n",
            "* * \n",
            "* \n"
          ]
        }
      ]
    },
    {
      "cell_type": "code",
      "source": [],
      "metadata": {
        "id": "9Icn7NQ1PLSR"
      },
      "execution_count": null,
      "outputs": []
    }
  ]
}