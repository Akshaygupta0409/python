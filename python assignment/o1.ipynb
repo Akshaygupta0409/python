{
  "nbformat": 4,
  "nbformat_minor": 0,
  "metadata": {
    "colab": {
      "provenance": []
    },
    "kernelspec": {
      "name": "python3",
      "display_name": "Python 3"
    },
    "language_info": {
      "name": "python"
    }
  },
  "cells": [
    {
      "cell_type": "code",
      "execution_count": null,
      "metadata": {
        "id": "HqxOxt6aP3aY"
      },
      "outputs": [],
      "source": []
    },
    {
      "cell_type": "markdown",
      "source": [
        "# Write a program to accept an integer from the user and display all the numbers from 1 to that number. Repeat the process until the user enters 0.\n"
      ],
      "metadata": {
        "id": "SiqHxvx_P478"
      }
    },
    {
      "cell_type": "code",
      "source": [
        "valid = True\n",
        "\n",
        "while valid:\n",
        "    x = int(input(\"Enter the number :\"))\n",
        "    if x != 0:\n",
        "      i=1\n",
        "      while i<=x:\n",
        "        print(i , end=\" \")\n",
        "        i = i+1\n",
        "      print(\"\")\n",
        "    else: \n",
        "        print(\"program is terminated \")\n",
        "        valid = False\n"
      ],
      "metadata": {
        "colab": {
          "base_uri": "https://localhost:8080/"
        },
        "id": "EpuOF4vxP7mn",
        "outputId": "d721d576-2fd8-4d63-cf94-325ceb236c0e"
      },
      "execution_count": 6,
      "outputs": [
        {
          "output_type": "stream",
          "name": "stdout",
          "text": [
            "Enter the number :56\n",
            "1 2 3 4 5 6 7 8 9 10 11 12 13 14 15 16 17 18 19 20 21 22 23 24 25 26 27 28 29 30 31 32 33 34 35 36 37 38 39 40 41 42 43 44 45 46 47 48 49 50 51 52 53 54 55 56 \n",
            "Enter the number :23\n",
            "1 2 3 4 5 6 7 8 9 10 11 12 13 14 15 16 17 18 19 20 21 22 23 \n",
            "Enter the number :0\n",
            "program is terminated \n"
          ]
        }
      ]
    },
    {
      "cell_type": "code",
      "source": [],
      "metadata": {
        "id": "K7fyrmKfP_dQ"
      },
      "execution_count": null,
      "outputs": []
    }
  ]
}