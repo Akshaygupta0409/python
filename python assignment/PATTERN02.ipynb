{
  "nbformat": 4,
  "nbformat_minor": 0,
  "metadata": {
    "colab": {
      "provenance": []
    },
    "kernelspec": {
      "name": "python3",
      "display_name": "Python 3"
    },
    "language_info": {
      "name": "python"
    }
  },
  "cells": [
    {
      "cell_type": "markdown",
      "source": [
        "\n",
        "### Write a program to print the following pattern \n",
        "# # # \n",
        "# # # # \n",
        "# # # # # \n",
        "\n",
        "\n"
      ],
      "metadata": {
        "id": "I_NkYB5YrW7x"
      }
    },
    {
      "cell_type": "code",
      "source": [
        "number = int(input(\"enter the number :\"))\n",
        "for i in range(number):\n",
        "  for j in range(i):\n",
        "    print(\"*\" , end=\" \")\n",
        "  print(\"\")"
      ],
      "metadata": {
        "id": "sthEm3iTuiKN"
      },
      "execution_count": null,
      "outputs": []
    }
  ]
}