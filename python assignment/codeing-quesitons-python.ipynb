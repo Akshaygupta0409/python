{
  "cells": [
    {
      "cell_type": "markdown",
      "id": "b515a790",
      "metadata": {
        "id": "b515a790"
      },
      "source": [
        "WAP to accept two numbers from the user and display their sum"
      ]
    },
    {
      "cell_type": "code",
      "execution_count": null,
      "id": "b6c2ef75",
      "metadata": {
        "id": "b6c2ef75",
        "outputId": "1c11daf5-0789-4f1c-e173-3e15195cd0c3"
      },
      "outputs": [
        {
          "name": "stdout",
          "output_type": "stream",
          "text": [
            "enter first number:2\n",
            "enter second number:3\n",
            "5\n"
          ]
        }
      ],
      "source": [
        "a=int(input(\"enter first number:\"))\n",
        "b=int(input(\"enter second number:\"))\n",
        "print(a+b)"
      ]
    },
    {
      "cell_type": "markdown",
      "id": "979ef36d",
      "metadata": {
        "id": "979ef36d"
      },
      "source": [
        "WAP to accept radius of a Circle from the user and calculate area and circumference"
      ]
    },
    {
      "cell_type": "code",
      "execution_count": null,
      "id": "9a5b0d4a",
      "metadata": {
        "id": "9a5b0d4a",
        "outputId": "4bf03a9a-16f5-4a29-d2c8-c46795216561"
      },
      "outputs": [
        {
          "name": "stdout",
          "output_type": "stream",
          "text": [
            "enter the radius of the circle:7\n",
            "area is 153.93804002589985\n",
            "circumference is 43.982297150257104\n"
          ]
        }
      ],
      "source": [
        "import math\n",
        "radius=float(input(\"enter the radius of the circle:\"))\n",
        "print('area is',math.pi*radius*radius)\n",
        "print('circumference is',2*math.pi*radius)"
      ]
    },
    {
      "cell_type": "markdown",
      "id": "7e4e49f5",
      "metadata": {
        "id": "7e4e49f5"
      },
      "source": [
        "WAP to accept roll number , grade and percentage as input from the user and display it back"
      ]
    },
    {
      "cell_type": "code",
      "execution_count": null,
      "id": "e4cee130",
      "metadata": {
        "id": "e4cee130",
        "outputId": "8334ebf5-7370-4c6a-aa99-c68ec22761c1"
      },
      "outputs": [
        {
          "name": "stdout",
          "output_type": "stream",
          "text": [
            "enter your roll number:21BF1A3260\n",
            "enter your grade:A\n",
            "enter your percentage:94\n",
            "your roll number is 21BF1A3260 ,grade is A and percentage is 94\n"
          ]
        }
      ],
      "source": [
        "roll_no=input(\"enter your roll number:\")\n",
        "grade=input('enter your grade:')\n",
        "percentage=input('enter your percentage:')\n",
        "print('your roll number is',roll_no,\",grade is\",grade,\"and percentage is\",percentage)"
      ]
    },
    {
      "cell_type": "markdown",
      "id": "37daf41c",
      "metadata": {
        "id": "37daf41c"
      },
      "source": [
        "Write a program that asks the user to enter his/her name and age. Print out a message , displaying the user’s name along with the year in which they will turn 100 years old."
      ]
    },
    {
      "cell_type": "code",
      "execution_count": null,
      "id": "15e1567c",
      "metadata": {
        "id": "15e1567c",
        "outputId": "d5bcbd40-7ea5-4c96-f024-3e8beef485bc"
      },
      "outputs": [
        {
          "name": "stdout",
          "output_type": "stream",
          "text": [
            "enter your name:shirisha\n",
            "enter your age:19\n",
            "shirisha by 2103 you would turn 100 years\n"
          ]
        }
      ],
      "source": [
        "name=input(\"enter your name:\")\n",
        "age=int(input(\"enter your age:\"))\n",
        "age_remaining=100-age\n",
        "year=2022+age_remaining\n",
        "print(name,\"by\",year,\"you would turn 100 years\")"
      ]
    },
    {
      "cell_type": "markdown",
      "id": "81aebcf8",
      "metadata": {
        "id": "81aebcf8"
      },
      "source": [
        "Write a program that asks the user to input 2 integers and adds them . Accept both the numbers in a single line only"
      ]
    },
    {
      "cell_type": "code",
      "execution_count": null,
      "id": "82872fd1",
      "metadata": {
        "id": "82872fd1",
        "outputId": "6a8c32fe-4b54-469e-ecff-e8852d7c41cd"
      },
      "outputs": [
        {
          "name": "stdout",
          "output_type": "stream",
          "text": [
            "enter two numbers:1 2\n",
            "3\n"
          ]
        }
      ],
      "source": [
        "#first method\n",
        "a,b=input(\"enter two numbers:\").split()\n",
        "print(int(a)+int(b))"
      ]
    },
    {
      "cell_type": "code",
      "execution_count": null,
      "id": "0bc33bf0",
      "metadata": {
        "id": "0bc33bf0",
        "outputId": "688548e4-c53f-404c-a428-4477fae6408c"
      },
      "outputs": [
        {
          "name": "stdout",
          "output_type": "stream",
          "text": [
            "enter numbers:1 2 \n",
            "3\n"
          ]
        }
      ],
      "source": [
        "#another method\n",
        "a=list(map(int,input(\"enter numbers:\").split()))\n",
        "print(a[0]+a[1])"
      ]
    },
    {
      "cell_type": "markdown",
      "id": "5746761d",
      "metadata": {
        "id": "5746761d"
      },
      "source": [
        "Write a Python program which accepts the user's first and last name and print them in reverse order with a space between them."
      ]
    },
    {
      "cell_type": "code",
      "execution_count": null,
      "id": "49181c23",
      "metadata": {
        "id": "49181c23",
        "outputId": "fb9bb01f-5c11-46de-ecfa-46b41b37328a"
      },
      "outputs": [
        {
          "name": "stdout",
          "output_type": "stream",
          "text": [
            "enter your first name:thummala\n",
            "enter your last name:shirisha\n",
            "ahsirihs alammuht\n"
          ]
        }
      ],
      "source": [
        "f=input(\"enter your first name:\")\n",
        "l=input(\"enter your last name:\")\n",
        "name=f+\" \"+l\n",
        "print(name[::-1])"
      ]
    },
    {
      "cell_type": "code",
      "execution_count": null,
      "id": "ed1fb8ee",
      "metadata": {
        "id": "ed1fb8ee",
        "outputId": "022bfb19-fbad-41d0-8141-c4d0906de7b2"
      },
      "outputs": [
        {
          "name": "stdout",
          "output_type": "stream",
          "text": [
            "enter your full name:thummala siri\n",
            "iris alammuht\n"
          ]
        }
      ],
      "source": [
        "name=input(\"enter your full name:\")\n",
        "print(name[::-1])"
      ]
    },
    {
      "cell_type": "code",
      "execution_count": null,
      "id": "183ae997",
      "metadata": {
        "id": "183ae997",
        "outputId": "f3870126-ea1c-4a4e-f559-2ede37118815"
      },
      "outputs": [
        {
          "name": "stdout",
          "output_type": "stream",
          "text": [
            "enter your first name:kutty\n",
            "enter your last name:smitha\n",
            "ahtims yttuk\n"
          ]
        }
      ],
      "source": [
        "f=input(\"enter your first name:\")\n",
        "l=input(\"enter your last name:\")\n",
        "rev1=f[::-1]\n",
        "rev2=l[::-1]\n",
        "print(f\"{rev2} {rev1}\")    #with the help of f-strings"
      ]
    },
    {
      "cell_type": "markdown",
      "id": "fc5f19e3",
      "metadata": {
        "id": "fc5f19e3"
      },
      "source": [
        "WAP to accept an integer from the user and check whether it is an even or odd"
      ]
    },
    {
      "cell_type": "code",
      "execution_count": null,
      "id": "18d22eb5",
      "metadata": {
        "id": "18d22eb5",
        "outputId": "006e170a-ba79-444a-b721-038401025e1d"
      },
      "outputs": [
        {
          "name": "stdout",
          "output_type": "stream",
          "text": [
            "enter an integer:2\n",
            "the given number is even\n"
          ]
        }
      ],
      "source": [
        "n=int(input(\"enter an integer:\"))\n",
        "if n%2==0:\n",
        "    print(\"the given number is even\")\n",
        "else:\n",
        "    print(\"the given number is odd\")"
      ]
    },
    {
      "cell_type": "markdown",
      "id": "40375e2e",
      "metadata": {
        "id": "40375e2e"
      },
      "source": [
        "WAP to accept a character from the user and check whether it is a capital letter or small letter. Assume user will input only alphabets"
      ]
    },
    {
      "cell_type": "code",
      "execution_count": null,
      "id": "cebc56dd",
      "metadata": {
        "id": "cebc56dd",
        "outputId": "aef59bd6-b346-47e9-9c5e-1940ecf86cc7"
      },
      "outputs": [
        {
          "name": "stdout",
          "output_type": "stream",
          "text": [
            "enter a character:A\n",
            "the given character is in capital letter:\n"
          ]
        }
      ],
      "source": [
        "#first method\n",
        "n=input(\"enter a character:\")\n",
        "if n.upper()==n:\n",
        "    print(\"the given character is in capital letter:\")\n",
        "else:\n",
        "    print(\"the given character is in small letter\")\n"
      ]
    },
    {
      "cell_type": "code",
      "execution_count": null,
      "id": "d9dfc794",
      "metadata": {
        "id": "d9dfc794",
        "outputId": "b8a496c5-59cc-472f-a69a-cb64776ff859"
      },
      "outputs": [
        {
          "name": "stdout",
          "output_type": "stream",
          "text": [
            "enter a character:A\n",
            "upper\n"
          ]
        }
      ],
      "source": [
        "#second method\n",
        "n=input(\"enter a character:\")\n",
        "if \"A\"<=n<=\"Z\":\n",
        "    print(\"upper\")\n",
        "else:\n",
        "    print(\"lower\")"
      ]
    },
    {
      "cell_type": "code",
      "execution_count": null,
      "id": "baf9bcb5",
      "metadata": {
        "id": "baf9bcb5",
        "outputId": "990ba7ef-cf22-47a6-8f85-d1c7c07ec381"
      },
      "outputs": [
        {
          "name": "stdout",
          "output_type": "stream",
          "text": [
            "enter a character:A\n",
            "upper\n"
          ]
        }
      ],
      "source": [
        "#third method\n",
        "n=input('enter a character:')\n",
        "if n.isupper()==True:\n",
        "    print(\"upper\")\n",
        "else:\n",
        "    print(\"lower\")"
      ]
    },
    {
      "cell_type": "markdown",
      "id": "b1f649c1",
      "metadata": {
        "id": "b1f649c1"
      },
      "source": [
        "WAP to accept a character from the user and check whether it is a capital letter or small letter or a digit or some special symbol"
      ]
    },
    {
      "cell_type": "code",
      "execution_count": null,
      "id": "be38cc3b",
      "metadata": {
        "id": "be38cc3b",
        "outputId": "00fac024-f552-46a3-a831-de408963ded5"
      },
      "outputs": [
        {
          "name": "stdout",
          "output_type": "stream",
          "text": [
            "enter a character:@\n",
            "special symbol\n"
          ]
        }
      ],
      "source": [
        "#first method\n",
        "n=input(\"enter a character:\")\n",
        "if 'A'<=n<='Z':\n",
        "    print(\"upper\")\n",
        "elif 'a'<=n<='z':\n",
        "    print(\"lower\")\n",
        "elif '0'<=n<='9':\n",
        "    print(\"digit\")\n",
        "else:\n",
        "    print(\"special symbol\")"
      ]
    },
    {
      "cell_type": "code",
      "execution_count": null,
      "id": "119a6c38",
      "metadata": {
        "id": "119a6c38",
        "outputId": "edcdad17-1a5a-422f-fe55-864f352f4d75"
      },
      "outputs": [
        {
          "name": "stdout",
          "output_type": "stream",
          "text": [
            "enter character:#\n",
            "special symbol\n"
          ]
        }
      ],
      "source": [
        "#second method\n",
        "n=input(\"enter character:\")\n",
        "if n.isupper()==True:\n",
        "    print(\"upper\")\n",
        "elif n.islower()==True:\n",
        "    print(\"lower\")\n",
        "elif n.isdigit()==True:\n",
        "    print(\"digit\")\n",
        "else:\n",
        "    print(\"special symbol\")"
      ]
    },
    {
      "cell_type": "markdown",
      "id": "e3e4a318",
      "metadata": {
        "id": "e3e4a318"
      },
      "source": [
        "WAP to accept 3 integers from the user and without using any logical operator and cascading of relational operators , find out the greatest number amongst them"
      ]
    },
    {
      "cell_type": "code",
      "execution_count": null,
      "id": "6f7d3435",
      "metadata": {
        "id": "6f7d3435",
        "outputId": "20a5adf6-cad8-40a1-af61-02932aaceb68"
      },
      "outputs": [
        {
          "name": "stdout",
          "output_type": "stream",
          "text": [
            "12\n",
            "34\n",
            "56\n",
            "the biggest number is 56\n"
          ]
        }
      ],
      "source": [
        "#first method\n",
        "a=int(input())\n",
        "b=int(input())\n",
        "c=int(input())\n",
        "print(\"the biggest number is\",end=\" \")\n",
        "if a>b:\n",
        "    if a>c:\n",
        "        print(a)\n",
        "    else:\n",
        "        print(c)\n",
        "else:\n",
        "    if b>c:\n",
        "        print(b)\n",
        "    else:\n",
        "        print(c)"
      ]
    },
    {
      "cell_type": "markdown",
      "id": "ffb4d45d",
      "metadata": {
        "id": "ffb4d45d"
      },
      "source": [
        "WAP to accept a year from the user and check whether it is a leap year or not."
      ]
    },
    {
      "cell_type": "code",
      "execution_count": null,
      "id": "df716a0d",
      "metadata": {
        "id": "df716a0d",
        "outputId": "47c854a8-3e1f-4237-8d4f-eb139e95920c"
      },
      "outputs": [
        {
          "name": "stdout",
          "output_type": "stream",
          "text": [
            "enter a year:2004\n",
            "leap year\n"
          ]
        }
      ],
      "source": [
        "n=int(input(\"enter a year:\"))\n",
        "if (n%4==0 and n%100!=0) or n%400==0:\n",
        "    print(\"leap year\")\n",
        "else:\n",
        "    print(\"non leap year\")"
      ]
    },
    {
      "cell_type": "markdown",
      "id": "200136d4",
      "metadata": {
        "id": "200136d4"
      },
      "source": [
        "developing a number guessing game\n",
        "At first , the program will generate a random integer secretly.\n",
        "\n",
        "Now it will ask the user to guess that number .\n",
        "\n",
        "If the user guessed it correctly then the program prints “Congratulations! You guessed it right” .\n",
        "\n",
        "But if the number guessed by the user is larger than the secret number then program should print “Number too large” and , if the number guessed by the user is smaller than the secret number then the program should print “Number too small” \n",
        "\n",
        "This should continue until the user guesses the number correctly or quits .\n",
        "\n",
        "If the user wants to quit in between he will have to type 0 or negative number\n"
      ]
    },
    {
      "cell_type": "code",
      "execution_count": null,
      "id": "d567e924",
      "metadata": {
        "id": "d567e924",
        "outputId": "96b54b0b-e336-4bad-db47-d18214c28b8f"
      },
      "outputs": [
        {
          "name": "stdout",
          "output_type": "stream",
          "text": [
            "guess that number:4\n",
            "number too small\n",
            "guess that number:10\n",
            "number too large\n",
            "guess that number:5\n",
            "number too small\n",
            "guess that number:8\n",
            "Congratulations! You guessed it right\n"
          ]
        }
      ],
      "source": [
        "import random\n",
        "a=random.randint(1,100)\n",
        "while(1):\n",
        "    n=int(input(\"guess that number:\"))\n",
        "    if n==a:\n",
        "        print(\"Congratulations! You guessed it right\")\n",
        "        break\n",
        "    elif n>a:\n",
        "        print('number too large')\n",
        "    elif 0<n<a:\n",
        "        print('number too small')\n",
        "    else:\n",
        "        break"
      ]
    },
    {
      "cell_type": "markdown",
      "id": "063e0f44",
      "metadata": {
        "id": "063e0f44"
      },
      "source": [
        "Write a program to accept a string from the user and display it vertically but don’t display the vowels in it"
      ]
    },
    {
      "cell_type": "code",
      "execution_count": null,
      "id": "2755c0ef",
      "metadata": {
        "id": "2755c0ef",
        "outputId": "a39cbcf1-9912-4be6-bf81-198d4425548b"
      },
      "outputs": [
        {
          "name": "stdout",
          "output_type": "stream",
          "text": [
            "enter a string:shirisha\n",
            "s\n",
            "h\n",
            "r\n",
            "s\n",
            "h\n"
          ]
        }
      ],
      "source": [
        "#first method\n",
        "string=input(\"enter a string:\")\n",
        "for i in string:\n",
        "    if i not in 'aeiouAEIOU':\n",
        "        print(i)\n"
      ]
    },
    {
      "cell_type": "code",
      "execution_count": null,
      "id": "c51da2ed",
      "metadata": {
        "id": "c51da2ed",
        "outputId": "470a5cd1-2d12-464f-8133-48510c106e74"
      },
      "outputs": [
        {
          "name": "stdout",
          "output_type": "stream",
          "text": [
            "enter a string:seetha\n",
            "s\n",
            "t\n",
            "h\n"
          ]
        }
      ],
      "source": [
        "#second method\n",
        "#to accept a string and should not display vowels\n",
        "n=input(\"enter a string:\")\n",
        "a=0\n",
        "while(a<len(n)):\n",
        "    if n[a]!='a' and n[a]!='e' and n[a]!='i' and n[a]!='o' and n[a]!='u':\n",
        "        print(n[a])\n",
        "    a+=1"
      ]
    },
    {
      "cell_type": "markdown",
      "id": "96408301",
      "metadata": {
        "id": "96408301"
      },
      "source": [
        "Write a program to continuously accept integers from the user until the user types 0 and as soon as 0 is entered display sum of all the nos entered before 0"
      ]
    },
    {
      "cell_type": "code",
      "execution_count": null,
      "id": "be17355b",
      "metadata": {
        "id": "be17355b",
        "outputId": "f4e23fc5-f058-4889-d250-6a02c2ada985"
      },
      "outputs": [
        {
          "name": "stdout",
          "output_type": "stream",
          "text": [
            "enter a number(press 0 to return sum):1\n",
            "enter a number(press 0 to return sum):2\n",
            "enter a number(press 0 to return sum):3\n",
            "enter a number(press 0 to return sum):4\n",
            "enter a number(press 0 to return sum):5\n",
            "enter a number(press 0 to return sum):0\n",
            "sum is 15\n"
          ]
        }
      ],
      "source": [
        "sum=0\n",
        "while (1):\n",
        "    n=int(input(\"enter a number(press 0 to return sum):\"))\n",
        "    if n==0:\n",
        "        print('sum is',sum)\n",
        "        break\n",
        "    sum=sum+n"
      ]
    },
    {
      "cell_type": "markdown",
      "id": "8ca82837",
      "metadata": {
        "id": "8ca82837"
      },
      "source": [
        "Modify the previous code so that if the user inputs a negative integer , your program should ignore it"
      ]
    },
    {
      "cell_type": "code",
      "execution_count": null,
      "id": "de89ec29",
      "metadata": {
        "id": "de89ec29",
        "outputId": "d76f9cad-e313-47d9-e7d2-0ef705c498e8"
      },
      "outputs": [
        {
          "name": "stdout",
          "output_type": "stream",
          "text": [
            "enter a number(press 0 to return sum):1\n",
            "enter a number(press 0 to return sum):2\n",
            "enter a number(press 0 to return sum):3\n",
            "enter a number(press 0 to return sum):4\n",
            "enter a number(press 0 to return sum):5\n",
            "enter a number(press 0 to return sum):-2\n",
            "enter a number(press 0 to return sum):0\n",
            "sum is 15\n"
          ]
        }
      ],
      "source": [
        "sum=0\n",
        "while (1):\n",
        "    n=int(input(\"enter a number(press 0 to return sum):\"))\n",
        "    if n==0:\n",
        "        print('sum is',sum)\n",
        "        break\n",
        "    elif n>0:\n",
        "        sum=sum+n"
      ]
    },
    {
      "cell_type": "markdown",
      "id": "295a8bfc",
      "metadata": {
        "id": "295a8bfc"
      },
      "source": [
        "Write a program using a for loop to accept a string from the user and display it vertically but don’t display the vowels in it."
      ]
    },
    {
      "cell_type": "code",
      "execution_count": null,
      "id": "b29c9547",
      "metadata": {
        "id": "b29c9547",
        "outputId": "59a44ed9-b219-4b8a-f705-2df84a210fce"
      },
      "outputs": [
        {
          "name": "stdout",
          "output_type": "stream",
          "text": [
            "enter a string:virupaksha\n",
            "v\n",
            "r\n",
            "p\n",
            "k\n",
            "s\n",
            "h\n"
          ]
        }
      ],
      "source": [
        "string=input(\"enter a string:\")\n",
        "for i in string:\n",
        "    if i not in 'aeiouAEIOU':\n",
        "        print(i)"
      ]
    },
    {
      "cell_type": "markdown",
      "id": "4d7a1189",
      "metadata": {
        "id": "4d7a1189"
      },
      "source": [
        "Write a program to accept an integer from the user and display the sum of all the numbers from 1 to that number"
      ]
    },
    {
      "cell_type": "code",
      "execution_count": null,
      "id": "483595ec",
      "metadata": {
        "id": "483595ec",
        "outputId": "7de7d7f5-104b-4e6c-eebb-193a564c9ae1"
      },
      "outputs": [
        {
          "name": "stdout",
          "output_type": "stream",
          "text": [
            "enter a number:5\n",
            "sum is 15.0\n"
          ]
        }
      ],
      "source": [
        "n=int(input(\"enter a number:\"))\n",
        "print('sum is',(n*(n+1))/2)"
      ]
    },
    {
      "cell_type": "code",
      "execution_count": null,
      "id": "12f8a71c",
      "metadata": {
        "id": "12f8a71c",
        "outputId": "947937db-d558-43b5-c021-d25f99838bad"
      },
      "outputs": [
        {
          "name": "stdout",
          "output_type": "stream",
          "text": [
            "enter a number:5\n",
            "sum is 15\n"
          ]
        }
      ],
      "source": [
        "#another approach\n",
        "n=int(input(\"enter a number:\"))\n",
        "sum=0\n",
        "for i in range(1,n+1):\n",
        "    sum=sum+i\n",
        "print('sum is',sum)"
      ]
    },
    {
      "cell_type": "markdown",
      "id": "7a25f70f",
      "metadata": {
        "id": "7a25f70f"
      },
      "source": [
        "Write a program to accept an integer from the user and calculate its factorial"
      ]
    },
    {
      "cell_type": "code",
      "execution_count": null,
      "id": "6ee544a1",
      "metadata": {
        "id": "6ee544a1",
        "outputId": "f894c555-8ee9-4f3a-800e-bf1c6e0d33f5"
      },
      "outputs": [
        {
          "name": "stdout",
          "output_type": "stream",
          "text": [
            "enter a number:5\n",
            "factorial is 120\n"
          ]
        }
      ],
      "source": [
        "n=int(input(\"enter a number:\"))\n",
        "fact=1\n",
        "for i in range(1,n+1):\n",
        "    fact=fact*i\n",
        "if n==0 or n==1:\n",
        "    print('factorial is 1')\n",
        "print(\"factorial is\",fact)"
      ]
    },
    {
      "cell_type": "markdown",
      "id": "7d35f9c5",
      "metadata": {
        "id": "7d35f9c5"
      },
      "source": [
        "Write a program to print the following pattern \n",
        "* * *\n",
        "* * *\n",
        "* * *\n",
        "* * *"
      ]
    },
    {
      "cell_type": "code",
      "execution_count": null,
      "id": "3be6fbc8",
      "metadata": {
        "id": "3be6fbc8",
        "outputId": "a43670ed-9149-4379-9038-fd0a26f01f69"
      },
      "outputs": [
        {
          "name": "stdout",
          "output_type": "stream",
          "text": [
            "enter number of rows:4\n",
            "* * * \n",
            "* * * \n",
            "* * * \n",
            "* * * \n"
          ]
        }
      ],
      "source": [
        "n=int(input(\"enter number of rows:\"))\n",
        "for i in range(1,n+1):\n",
        "    print(\"* \"*3)"
      ]
    },
    {
      "cell_type": "markdown",
      "id": "f68a35b2",
      "metadata": {
        "id": "f68a35b2"
      },
      "source": [
        "Write a program to print the following pattern\n",
        "*\n",
        "* *\n",
        "* * *\n",
        "* * * *"
      ]
    },
    {
      "cell_type": "code",
      "execution_count": null,
      "id": "70e116ec",
      "metadata": {
        "id": "70e116ec",
        "outputId": "ca5a8ee1-4007-430c-a7cf-a055f96e4196"
      },
      "outputs": [
        {
          "name": "stdout",
          "output_type": "stream",
          "text": [
            "enter number of rows you want:4\n",
            "* \n",
            "* * \n",
            "* * * \n",
            "* * * * \n"
          ]
        }
      ],
      "source": [
        "n=int(input(\"enter number of rows you want:\"))\n",
        "for i in range(1,n+1):\n",
        "    print(\"* \"*i)"
      ]
    },
    {
      "cell_type": "code",
      "execution_count": null,
      "id": "026456c2",
      "metadata": {
        "id": "026456c2"
      },
      "outputs": [],
      "source": [
        "Write a program to print the following pattern\n",
        "* * * *\n",
        "* * *\n",
        "* *\n",
        "*"
      ]
    },
    {
      "cell_type": "code",
      "execution_count": null,
      "id": "491806e4",
      "metadata": {
        "id": "491806e4",
        "outputId": "7ece170c-cbe3-4e8e-d5ac-740209dda51e"
      },
      "outputs": [
        {
          "name": "stdout",
          "output_type": "stream",
          "text": [
            "enter number of rows you want:4\n",
            "* * * * \n",
            "* * * \n",
            "* * \n",
            "* \n"
          ]
        }
      ],
      "source": [
        "n=int(input(\"enter number of rows you want:\"))\n",
        "for i in range(n,0,-1):\n",
        "    print('* '*i)"
      ]
    },
    {
      "cell_type": "markdown",
      "id": "e330f11a",
      "metadata": {
        "id": "e330f11a"
      },
      "source": [
        "Write a program to accept an integer from the user and display all the numbers from 1 to that number. Repeat the process until the user enters 0.\n",
        "\n"
      ]
    },
    {
      "cell_type": "code",
      "execution_count": null,
      "id": "d7ec657a",
      "metadata": {
        "id": "d7ec657a",
        "outputId": "90a47c23-1519-4bda-f93e-3a1e84ee793f"
      },
      "outputs": [
        {
          "name": "stdout",
          "output_type": "stream",
          "text": [
            "enter a number(enter 0 to exit):4\n",
            "1\n",
            "2\n",
            "3\n",
            "4\n",
            "enter a number(enter 0 to exit):5\n",
            "1\n",
            "2\n",
            "3\n",
            "4\n",
            "5\n",
            "enter a number(enter 0 to exit):0\n"
          ]
        }
      ],
      "source": [
        "while(1):\n",
        "    n=int(input(\"enter a number(enter 0 to exit):\"))\n",
        "    for i in range(1,n+1):\n",
        "        print(i)\n",
        "    if n==0:\n",
        "        break"
      ]
    }
  ],
  "metadata": {
    "kernelspec": {
      "display_name": "Python 3 (ipykernel)",
      "language": "python",
      "name": "python3"
    },
    "language_info": {
      "codemirror_mode": {
        "name": "ipython",
        "version": 3
      },
      "file_extension": ".py",
      "mimetype": "text/x-python",
      "name": "python",
      "nbconvert_exporter": "python",
      "pygments_lexer": "ipython3",
      "version": "3.9.12"
    },
    "colab": {
      "provenance": []
    }
  },
  "nbformat": 4,
  "nbformat_minor": 5
}